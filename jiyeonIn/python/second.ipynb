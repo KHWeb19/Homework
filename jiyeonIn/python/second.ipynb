{
 "cells": [
  {
   "cell_type": "code",
   "execution_count": 1,
   "id": "3430f31f",
   "metadata": {},
   "outputs": [
    {
     "name": "stdout",
     "output_type": "stream",
     "text": [
      "<function times at 0x000002374585FAF0>\n",
      "100\n"
     ]
    }
   ],
   "source": [
    "#메소드 만들기\n",
    "def times(a,b):\n",
    "    return a * b\n",
    "\n",
    "print(times)\n",
    "print(times(10,10))"
   ]
  },
  {
   "cell_type": "code",
   "execution_count": 3,
   "id": "ceb67698",
   "metadata": {},
   "outputs": [
    {
     "name": "stdout",
     "output_type": "stream",
     "text": [
      "100\n"
     ]
    }
   ],
   "source": [
    "pointerOfFountion = times\n",
    "res = pointerOfFountion(10,10)\n",
    "print(res)"
   ]
  },
  {
   "cell_type": "code",
   "execution_count": 4,
   "id": "a6aeb736",
   "metadata": {},
   "outputs": [
    {
     "ename": "SyntaxError",
     "evalue": "EOL while scanning string literal (3008162549.py, line 16)",
     "output_type": "error",
     "traceback": [
      "\u001b[1;36m  Input \u001b[1;32mIn [4]\u001b[1;36m\u001b[0m\n\u001b[1;33m    print(intersect(list1,['H','A','M]))\u001b[0m\n\u001b[1;37m                                        ^\u001b[0m\n\u001b[1;31mSyntaxError\u001b[0m\u001b[1;31m:\u001b[0m EOL while scanning string literal\n"
     ]
    }
   ],
   "source": [
    "def intersect(preList, postList): \n",
    "    retList=[]\n",
    "    \n",
    "    for x in preList:\n",
    "        print(\"preList X:\", x)\n",
    "        if x in postList: \n",
    "            print(\"postList x: \", x)\n",
    "            retList.append(x)\n",
    "            \n",
    "    return retList\n",
    "\n",
    "list1 = \"Apple\"\n",
    "list2 = \"grape\"\n",
    "\n",
    "print(intersect(list1, list2))\n",
    "print(intersect(list1,['H','A','M]))"
   ]
  },
  {
   "cell_type": "code",
   "execution_count": 5,
   "id": "7e85f371",
   "metadata": {},
   "outputs": [
    {
     "name": "stdout",
     "output_type": "stream",
     "text": [
      "6\n"
     ]
    }
   ],
   "source": [
    "g = lambda x,y:x*y\n",
    "print(g(2,3))"
   ]
  },
  {
   "cell_type": "code",
   "execution_count": 6,
   "id": "4b652086",
   "metadata": {},
   "outputs": [
    {
     "name": "stdout",
     "output_type": "stream",
     "text": [
      "9\n"
     ]
    }
   ],
   "source": [
    "print((lambda x: x*x) (3))"
   ]
  },
  {
   "cell_type": "code",
   "execution_count": 7,
   "id": "f0331c65",
   "metadata": {
    "scrolled": true
   },
   "outputs": [
    {
     "name": "stdout",
     "output_type": "stream",
     "text": [
      "11\n",
      " C 드라이브의 볼륨에는 이름이 없습니다.\n",
      " 볼륨 일련 번호: D42D-DE20\n",
      "\n",
      " C:\\khweb19\\Homework\\jiyeonIn\\python 디렉터리\n",
      "\n",
      "2022-05-13  오후 04:39    <DIR>          .\n",
      "2022-05-12  오후 03:57    <DIR>          ..\n",
      "2022-05-13  오후 03:41    <DIR>          .ipynb_checkpoints\n",
      "2022-05-12  오후 06:11             9,371 practice.ipynb\n",
      "2022-05-13  오후 04:33             2,997 second.ipynb\n",
      "2022-05-13  오후 04:39                12 test.txt\n",
      "               3개 파일              12,380 바이트\n",
      "               3개 디렉터리  139,600,793,600 바이트 남음\n"
     ]
    }
   ],
   "source": [
    "f=open('test.txt','w') \n",
    "print(f.write('EDDI\\nPython'))\n",
    "f.close()\n",
    "\n",
    "!dir"
   ]
  },
  {
   "cell_type": "code",
   "execution_count": 8,
   "id": "4673fbaf",
   "metadata": {},
   "outputs": [
    {
     "name": "stdout",
     "output_type": "stream",
     "text": [
      "EDDI\n",
      "Python\n"
     ]
    }
   ],
   "source": [
    "!type test.txt"
   ]
  },
  {
   "cell_type": "code",
   "execution_count": 11,
   "id": "636f2191",
   "metadata": {},
   "outputs": [
    {
     "name": "stdout",
     "output_type": "stream",
     "text": [
      "['EDDI\\n', 'Python']\n",
      "False\n",
      "True\n"
     ]
    }
   ],
   "source": [
    "with open('test.txt') as f:\n",
    "    print(f.readlines())\n",
    "    print(f.closed)\n",
    "    \n",
    "print(f.closed)"
   ]
  },
  {
   "cell_type": "code",
   "execution_count": 12,
   "id": "bfc5833e",
   "metadata": {},
   "outputs": [
    {
     "name": "stdout",
     "output_type": "stream",
     "text": [
      "['red', 'green', 'blue']\n"
     ]
    }
   ],
   "source": [
    "colors = ['red','green','blue']\n",
    "print(colors)\n",
    "\n",
    "def check_colors():\n",
    "    if 'colors' in globals():\n",
    "        print(\"True\")\n",
    "    else:\n",
    "        print(\"False\")"
   ]
  },
  {
   "cell_type": "code",
   "execution_count": 14,
   "id": "11f22cd3",
   "metadata": {
    "scrolled": true
   },
   "outputs": [
    {
     "name": "stdout",
     "output_type": "stream",
     "text": [
      "True\n"
     ]
    }
   ],
   "source": [
    "import pickle\n",
    "\n",
    "f=open('colors','wb')\n",
    "pickle.dump(colors, f)\n",
    "f.close()\n",
    "\n",
    "check_colors()"
   ]
  },
  {
   "cell_type": "code",
   "execution_count": 15,
   "id": "5cba4a6a",
   "metadata": {},
   "outputs": [
    {
     "name": "stdout",
     "output_type": "stream",
     "text": [
      "False\n"
     ]
    }
   ],
   "source": [
    "del colors\n",
    "\n",
    "check_colors()"
   ]
  },
  {
   "cell_type": "code",
   "execution_count": 19,
   "id": "547e6c90",
   "metadata": {},
   "outputs": [
    {
     "name": "stdout",
     "output_type": "stream",
     "text": [
      "['red', 'green', 'blue']\n",
      "True\n"
     ]
    }
   ],
   "source": [
    "f= open('colors','rb') \n",
    "colors = pickle.load(f)\n",
    "f.close()\n",
    "\n",
    "print(colors)\n",
    "check_colors()"
   ]
  },
  {
   "cell_type": "code",
   "execution_count": 18,
   "id": "e1415df9",
   "metadata": {},
   "outputs": [
    {
     "name": "stdout",
     "output_type": "stream",
     "text": [
      "이름은 기본값\n",
      "이름은 지욘쥐욘\n",
      "이름은 지욘쥐욘\n"
     ]
    }
   ],
   "source": [
    "class Person:\n",
    "    name= \"기본값\"\n",
    "    \n",
    "    def print(self):\n",
    "        print(\"이름은 {0}\".format(self.name))\n",
    "        \n",
    "p1 = Person()\n",
    "p1.print()\n",
    "\n",
    "p1.name = \"지욘쥐욘\"\n",
    "p1.print()\n",
    "Person.print(p1)"
   ]
  },
  {
   "cell_type": "code",
   "execution_count": 22,
   "id": "49d7d60b",
   "metadata": {},
   "outputs": [
    {
     "name": "stdout",
     "output_type": "stream",
     "text": [
      "{'name': '지욘', 'phoneNum': '98909999'}\n",
      "{'name': '찌온', 'phoneNum': '222-222', 'major': '컴공', 'studentId': '13002'}\n"
     ]
    }
   ],
   "source": [
    "class Person: \n",
    "    def __init__(self, name, phoneNum):\n",
    "        self.name = name\n",
    "        self.phoneNum = phoneNum\n",
    "        \n",
    "    def print(self):\n",
    "        print(\"이름은 {0}, 번호 {1}\".format(self.name, self.phoneNum))\n",
    "        \n",
    "\n",
    "class Student(Person):\n",
    "    def __init__(self, name, phoneNum, major, studentId):\n",
    "        self.name = name\n",
    "        self.phoneNum = phoneNum\n",
    "        self.major = major\n",
    "        self.studentId = studentId\n",
    "        \n",
    "        \n",
    "p = Person(\"지욘\", \"98909999\")\n",
    "s = Student(\"찌온\",\"222-222\", \"컴공\", \"13002\")\n",
    "\n",
    "print(p.__dict__)\n",
    "print(s.__dict__)"
   ]
  },
  {
   "cell_type": "code",
   "execution_count": 27,
   "id": "afbf0798",
   "metadata": {},
   "outputs": [
    {
     "name": "stdout",
     "output_type": "stream",
     "text": [
      "부모 클래스 = number:  7\n",
      "자식 number:3, numebr2:7\n"
     ]
    }
   ],
   "source": [
    "class Parent: \n",
    "    def __init__(self,number):\n",
    "        self.number = number\n",
    "        \n",
    "    def printMsg(self):\n",
    "        print(\"부모 클래스 = number: \", self.number)\n",
    "        \n",
    "class Child(Parent):\n",
    "    def __init__(self, number, number2):\n",
    "        super(Child, self).__init__(number)\n",
    "        self.number2 = number2\n",
    "        \n",
    "    def printMsg(self):\n",
    "        print(\"자식 number:{0}, numebr2:{1}\".format(self.number, self.number2))\n",
    "        \n",
    "p = Parent(7)\n",
    "p.printMsg()\n",
    "\n",
    "c = Child(3,7)\n",
    "c.printMsg()\n"
   ]
  },
  {
   "cell_type": "code",
   "execution_count": null,
   "id": "24534218",
   "metadata": {},
   "outputs": [],
   "source": []
  }
 ],
 "metadata": {
  "kernelspec": {
   "display_name": "Python 3 (ipykernel)",
   "language": "python",
   "name": "python3"
  },
  "language_info": {
   "codemirror_mode": {
    "name": "ipython",
    "version": 3
   },
   "file_extension": ".py",
   "mimetype": "text/x-python",
   "name": "python",
   "nbconvert_exporter": "python",
   "pygments_lexer": "ipython3",
   "version": "3.9.12"
  }
 },
 "nbformat": 4,
 "nbformat_minor": 5
}
