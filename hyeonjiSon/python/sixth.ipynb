{
 "cells": [
  {
   "cell_type": "code",
   "execution_count": 1,
   "id": "04e77754",
   "metadata": {},
   "outputs": [],
   "source": [
    "import pandas as pd"
   ]
  },
  {
   "cell_type": "code",
   "execution_count": 4,
   "id": "608d8792",
   "metadata": {},
   "outputs": [
    {
     "name": "stdout",
     "output_type": "stream",
     "text": [
      "   1   상품1             테스트1   ㅅㅎㅈ  Unnamed: 4\n",
      "0  2    뭐야            갱신시도2   상품이         NaN\n",
      "1  4   드디어   마침내해냈다집단지성사랑해요   다됐다         NaN\n",
      "2  5   바나나           바나나 푸딩   미니언         NaN\n"
     ]
    }
   ],
   "source": [
    "#3.9버전에서는 문제 없음\n",
    "#3.8버전에서는 한글 인코딩이 깨지는 문제가 발생함\n",
    "#UnicodeDecodeError <<<--- engine='python'\n",
    "#ParserError: Expected 9 fields in line 9, saw 15 <<<-- bad line 문제일 가능성이 있음(error_bad_lines=False)\n",
    "data = pd.read_csv(\"mysql2csv.csv\", engine='python', encoding='CP949') #ㄴ 위 문제의 경우 엑셀을 삭제하고 다시 설치하는 걸로도 안되면\n",
    "                                                                       #error_bad_lines=False 추가해보자\n",
    "\n",
    "print(data)"
   ]
  },
  {
   "cell_type": "code",
   "execution_count": 5,
   "id": "bd979a6d",
   "metadata": {},
   "outputs": [
    {
     "data": {
      "text/html": [
       "<div>\n",
       "<style scoped>\n",
       "    .dataframe tbody tr th:only-of-type {\n",
       "        vertical-align: middle;\n",
       "    }\n",
       "\n",
       "    .dataframe tbody tr th {\n",
       "        vertical-align: top;\n",
       "    }\n",
       "\n",
       "    .dataframe thead th {\n",
       "        text-align: right;\n",
       "    }\n",
       "</style>\n",
       "<table border=\"1\" class=\"dataframe\">\n",
       "  <thead>\n",
       "    <tr style=\"text-align: right;\">\n",
       "      <th></th>\n",
       "      <th>1</th>\n",
       "      <th>상품1</th>\n",
       "      <th>테스트1</th>\n",
       "      <th>ㅅㅎㅈ</th>\n",
       "      <th>Unnamed: 4</th>\n",
       "    </tr>\n",
       "  </thead>\n",
       "  <tbody>\n",
       "    <tr>\n",
       "      <th>0</th>\n",
       "      <td>2</td>\n",
       "      <td>뭐야</td>\n",
       "      <td>갱신시도2</td>\n",
       "      <td>상품이</td>\n",
       "      <td>NaN</td>\n",
       "    </tr>\n",
       "    <tr>\n",
       "      <th>1</th>\n",
       "      <td>4</td>\n",
       "      <td>드디어</td>\n",
       "      <td>마침내해냈다집단지성사랑해요</td>\n",
       "      <td>다됐다</td>\n",
       "      <td>NaN</td>\n",
       "    </tr>\n",
       "    <tr>\n",
       "      <th>2</th>\n",
       "      <td>5</td>\n",
       "      <td>바나나</td>\n",
       "      <td>바나나 푸딩</td>\n",
       "      <td>미니언</td>\n",
       "      <td>NaN</td>\n",
       "    </tr>\n",
       "  </tbody>\n",
       "</table>\n",
       "</div>"
      ],
      "text/plain": [
       "   1   상품1             테스트1   ㅅㅎㅈ  Unnamed: 4\n",
       "0  2    뭐야            갱신시도2   상품이         NaN\n",
       "1  4   드디어   마침내해냈다집단지성사랑해요   다됐다         NaN\n",
       "2  5   바나나           바나나 푸딩   미니언         NaN"
      ]
     },
     "execution_count": 5,
     "metadata": {},
     "output_type": "execute_result"
    }
   ],
   "source": [
    "data.head()"
   ]
  },
  {
   "cell_type": "code",
   "execution_count": 7,
   "id": "61bd2c8f",
   "metadata": {},
   "outputs": [
    {
     "data": {
      "text/html": [
       "<div>\n",
       "<style scoped>\n",
       "    .dataframe tbody tr th:only-of-type {\n",
       "        vertical-align: middle;\n",
       "    }\n",
       "\n",
       "    .dataframe tbody tr th {\n",
       "        vertical-align: top;\n",
       "    }\n",
       "\n",
       "    .dataframe thead th {\n",
       "        text-align: right;\n",
       "    }\n",
       "</style>\n",
       "<table border=\"1\" class=\"dataframe\">\n",
       "  <thead>\n",
       "    <tr style=\"text-align: right;\">\n",
       "      <th></th>\n",
       "      <th>1</th>\n",
       "      <th>상품1</th>\n",
       "      <th>테스트1</th>\n",
       "      <th>ㅅㅎㅈ</th>\n",
       "      <th>Unnamed: 4</th>\n",
       "    </tr>\n",
       "  </thead>\n",
       "  <tbody>\n",
       "    <tr>\n",
       "      <th>0</th>\n",
       "      <td>2</td>\n",
       "      <td>뭐야</td>\n",
       "      <td>갱신시도2</td>\n",
       "      <td>상품이</td>\n",
       "      <td>NaN</td>\n",
       "    </tr>\n",
       "    <tr>\n",
       "      <th>1</th>\n",
       "      <td>4</td>\n",
       "      <td>드디어</td>\n",
       "      <td>마침내해냈다집단지성사랑해요</td>\n",
       "      <td>다됐다</td>\n",
       "      <td>NaN</td>\n",
       "    </tr>\n",
       "    <tr>\n",
       "      <th>2</th>\n",
       "      <td>5</td>\n",
       "      <td>바나나</td>\n",
       "      <td>바나나 푸딩</td>\n",
       "      <td>미니언</td>\n",
       "      <td>NaN</td>\n",
       "    </tr>\n",
       "  </tbody>\n",
       "</table>\n",
       "</div>"
      ],
      "text/plain": [
       "   1   상품1             테스트1   ㅅㅎㅈ  Unnamed: 4\n",
       "0  2    뭐야            갱신시도2   상품이         NaN\n",
       "1  4   드디어   마침내해냈다집단지성사랑해요   다됐다         NaN\n",
       "2  5   바나나           바나나 푸딩   미니언         NaN"
      ]
     },
     "execution_count": 7,
     "metadata": {},
     "output_type": "execute_result"
    }
   ],
   "source": [
    "data"
   ]
  },
  {
   "cell_type": "code",
   "execution_count": 9,
   "id": "04a5a284",
   "metadata": {},
   "outputs": [
    {
     "data": {
      "text/html": [
       "<div>\n",
       "<style scoped>\n",
       "    .dataframe tbody tr th:only-of-type {\n",
       "        vertical-align: middle;\n",
       "    }\n",
       "\n",
       "    .dataframe tbody tr th {\n",
       "        vertical-align: top;\n",
       "    }\n",
       "\n",
       "    .dataframe thead th {\n",
       "        text-align: right;\n",
       "    }\n",
       "</style>\n",
       "<table border=\"1\" class=\"dataframe\">\n",
       "  <thead>\n",
       "    <tr style=\"text-align: right;\">\n",
       "      <th></th>\n",
       "      <th>product_no</th>\n",
       "      <th>title</th>\n",
       "      <th>content</th>\n",
       "      <th>seller</th>\n",
       "      <th>Not Use</th>\n",
       "    </tr>\n",
       "  </thead>\n",
       "  <tbody>\n",
       "    <tr>\n",
       "      <th>0</th>\n",
       "      <td>2</td>\n",
       "      <td>뭐야</td>\n",
       "      <td>갱신시도2</td>\n",
       "      <td>상품이</td>\n",
       "      <td>NaN</td>\n",
       "    </tr>\n",
       "    <tr>\n",
       "      <th>1</th>\n",
       "      <td>4</td>\n",
       "      <td>드디어</td>\n",
       "      <td>마침내해냈다집단지성사랑해요</td>\n",
       "      <td>다됐다</td>\n",
       "      <td>NaN</td>\n",
       "    </tr>\n",
       "    <tr>\n",
       "      <th>2</th>\n",
       "      <td>5</td>\n",
       "      <td>바나나</td>\n",
       "      <td>바나나 푸딩</td>\n",
       "      <td>미니언</td>\n",
       "      <td>NaN</td>\n",
       "    </tr>\n",
       "  </tbody>\n",
       "</table>\n",
       "</div>"
      ],
      "text/plain": [
       "   product_no title          content seller  Not Use\n",
       "0           2    뭐야            갱신시도2    상품이      NaN\n",
       "1           4   드디어   마침내해냈다집단지성사랑해요    다됐다      NaN\n",
       "2           5   바나나           바나나 푸딩    미니언      NaN"
      ]
     },
     "execution_count": 9,
     "metadata": {},
     "output_type": "execute_result"
    }
   ],
   "source": [
    "data.columns = [\"product_no\", \"title\", \"content\", \"seller\", \"Not Use\"]\n",
    "                #지금처럼 맨 뒤에 원인 모르게 NaN이 붙는 경우, 맨 뒤에 \"Not Use\"를 붙여주어야 데이터가 제대로 처리된다\n",
    "data"
   ]
  },
  {
   "cell_type": "code",
   "execution_count": 22,
   "id": "e9347df9",
   "metadata": {},
   "outputs": [
    {
     "name": "stdout",
     "output_type": "stream",
     "text": [
      "   1   상품1             테스트1   ㅅㅎㅈ\n",
      "0  2    뭐야            갱신시도2   상품이\n",
      "1  4   드디어   마침내해냈다집단지성사랑해요   다됐다\n",
      "2  5   바나나           바나나 푸딩   미니언\n"
     ]
    }
   ],
   "source": [
    "data = pd.read_csv(\"mysql2csv.csv\", engine='python', encoding='CP949', index_col=False)\n",
    "\n",
    "data.drop(['Unnamed: 4'], axis=1, inplace=True)\n",
    "\n",
    "print(data)"
   ]
  },
  {
   "cell_type": "code",
   "execution_count": 20,
   "id": "7671b01e",
   "metadata": {},
   "outputs": [
    {
     "data": {
      "text/html": [
       "<div>\n",
       "<style scoped>\n",
       "    .dataframe tbody tr th:only-of-type {\n",
       "        vertical-align: middle;\n",
       "    }\n",
       "\n",
       "    .dataframe tbody tr th {\n",
       "        vertical-align: top;\n",
       "    }\n",
       "\n",
       "    .dataframe thead th {\n",
       "        text-align: right;\n",
       "    }\n",
       "</style>\n",
       "<table border=\"1\" class=\"dataframe\">\n",
       "  <thead>\n",
       "    <tr style=\"text-align: right;\">\n",
       "      <th></th>\n",
       "      <th>product_no</th>\n",
       "      <th>title</th>\n",
       "      <th>content</th>\n",
       "      <th>seller</th>\n",
       "    </tr>\n",
       "  </thead>\n",
       "  <tbody>\n",
       "    <tr>\n",
       "      <th>0</th>\n",
       "      <td>2</td>\n",
       "      <td>뭐야</td>\n",
       "      <td>갱신시도2</td>\n",
       "      <td>상품이</td>\n",
       "    </tr>\n",
       "    <tr>\n",
       "      <th>1</th>\n",
       "      <td>4</td>\n",
       "      <td>드디어</td>\n",
       "      <td>마침내해냈다집단지성사랑해요</td>\n",
       "      <td>다됐다</td>\n",
       "    </tr>\n",
       "    <tr>\n",
       "      <th>2</th>\n",
       "      <td>5</td>\n",
       "      <td>바나나</td>\n",
       "      <td>바나나 푸딩</td>\n",
       "      <td>미니언</td>\n",
       "    </tr>\n",
       "  </tbody>\n",
       "</table>\n",
       "</div>"
      ],
      "text/plain": [
       "   product_no title          content seller\n",
       "0           2    뭐야            갱신시도2    상품이\n",
       "1           4   드디어   마침내해냈다집단지성사랑해요    다됐다\n",
       "2           5   바나나           바나나 푸딩    미니언"
      ]
     },
     "execution_count": 20,
     "metadata": {},
     "output_type": "execute_result"
    }
   ],
   "source": [
    "data.columns = [\"product_no\", \"title\", \"content\", \"seller\"] #이대로 쳤더니 맨 위의 목록이 날아감\n",
    "               \n",
    "data"
   ]
  },
  {
   "cell_type": "code",
   "execution_count": 23,
   "id": "fcb8a196",
   "metadata": {},
   "outputs": [
    {
     "name": "stdout",
     "output_type": "stream",
     "text": [
      "0    product_no\n",
      "1         title\n",
      "2       content\n",
      "3        seller\n",
      "dtype: object\n"
     ]
    }
   ],
   "source": [
    "header = pd.Series([\"product_no\", \"title\", \"content\", \"seller\"])\n",
    "print(header)"
   ]
  },
  {
   "cell_type": "code",
   "execution_count": 24,
   "id": "f747a03d",
   "metadata": {},
   "outputs": [
    {
     "name": "stdout",
     "output_type": "stream",
     "text": [
      "            0      1        2       3\n",
      "0  product_no  title  content  seller\n"
     ]
    }
   ],
   "source": [
    "header_data = pd.DataFrame([header])\n",
    "print(header_data)"
   ]
  },
  {
   "cell_type": "code",
   "execution_count": 25,
   "id": "ac8045b5",
   "metadata": {},
   "outputs": [
    {
     "name": "stdout",
     "output_type": "stream",
     "text": [
      "   1   상품1             테스트1   ㅅㅎㅈ\n",
      "0  2    뭐야            갱신시도2   상품이\n",
      "1  4   드디어   마침내해냈다집단지성사랑해요   다됐다\n",
      "2  5   바나나           바나나 푸딩   미니언\n"
     ]
    }
   ],
   "source": [
    "print(data)"
   ]
  },
  {
   "cell_type": "code",
   "execution_count": 27,
   "id": "88f6d24f",
   "metadata": {},
   "outputs": [
    {
     "name": "stdout",
     "output_type": "stream",
     "text": [
      "   0     1                2     3\n",
      "0  1   상품1             테스트1   ㅅㅎㅈ\n",
      "1  2    뭐야            갱신시도2   상품이\n",
      "2  4   드디어   마침내해냈다집단지성사랑해요   다됐다\n",
      "3  5   바나나           바나나 푸딩   미니언\n"
     ]
    }
   ],
   "source": [
    "data = pd.read_csv(\"mysql2csv.csv\", header=None, engine='python', encoding='CP949', index_col=False)\n",
    "\n",
    "data.drop([4], axis=1, inplace=True)\n",
    "\n",
    "print(data)"
   ]
  },
  {
   "cell_type": "code",
   "execution_count": 28,
   "id": "7cfdc9a2",
   "metadata": {},
   "outputs": [
    {
     "data": {
      "text/html": [
       "<div>\n",
       "<style scoped>\n",
       "    .dataframe tbody tr th:only-of-type {\n",
       "        vertical-align: middle;\n",
       "    }\n",
       "\n",
       "    .dataframe tbody tr th {\n",
       "        vertical-align: top;\n",
       "    }\n",
       "\n",
       "    .dataframe thead th {\n",
       "        text-align: right;\n",
       "    }\n",
       "</style>\n",
       "<table border=\"1\" class=\"dataframe\">\n",
       "  <thead>\n",
       "    <tr style=\"text-align: right;\">\n",
       "      <th></th>\n",
       "      <th>product_no</th>\n",
       "      <th>title</th>\n",
       "      <th>content</th>\n",
       "      <th>seller</th>\n",
       "    </tr>\n",
       "  </thead>\n",
       "  <tbody>\n",
       "    <tr>\n",
       "      <th>0</th>\n",
       "      <td>1</td>\n",
       "      <td>상품1</td>\n",
       "      <td>테스트1</td>\n",
       "      <td>ㅅㅎㅈ</td>\n",
       "    </tr>\n",
       "    <tr>\n",
       "      <th>1</th>\n",
       "      <td>2</td>\n",
       "      <td>뭐야</td>\n",
       "      <td>갱신시도2</td>\n",
       "      <td>상품이</td>\n",
       "    </tr>\n",
       "    <tr>\n",
       "      <th>2</th>\n",
       "      <td>4</td>\n",
       "      <td>드디어</td>\n",
       "      <td>마침내해냈다집단지성사랑해요</td>\n",
       "      <td>다됐다</td>\n",
       "    </tr>\n",
       "    <tr>\n",
       "      <th>3</th>\n",
       "      <td>5</td>\n",
       "      <td>바나나</td>\n",
       "      <td>바나나 푸딩</td>\n",
       "      <td>미니언</td>\n",
       "    </tr>\n",
       "  </tbody>\n",
       "</table>\n",
       "</div>"
      ],
      "text/plain": [
       "   product_no title          content seller\n",
       "0           1   상품1             테스트1    ㅅㅎㅈ\n",
       "1           2    뭐야            갱신시도2    상품이\n",
       "2           4   드디어   마침내해냈다집단지성사랑해요    다됐다\n",
       "3           5   바나나           바나나 푸딩    미니언"
      ]
     },
     "execution_count": 28,
     "metadata": {},
     "output_type": "execute_result"
    }
   ],
   "source": [
    "data.columns = [\"product_no\", \"title\", \"content\", \"seller\"]\n",
    "data"
   ]
  },
  {
   "cell_type": "code",
   "execution_count": 43,
   "id": "699c0c3c",
   "metadata": {},
   "outputs": [],
   "source": [
    "import pymysql\n",
    "import datetime\n",
    "import pickle\n",
    "\n",
    "MYSQL_USER_DATA_SAVED_FILE = \"mysql/userinfo\"\n",
    "\n",
    "f = open(MYSQL_USER_DATA_SAVED_FILE, 'rb')\n",
    "mysql_user_info = pickle.load(f)\n",
    "f.close()"
   ]
  },
  {
   "cell_type": "code",
   "execution_count": 44,
   "id": "a9b1465e",
   "metadata": {},
   "outputs": [],
   "source": [
    "db = pymysql.connect(\n",
    "    host = '127.0.0.1',\n",
    "    port = 3306,\n",
    "    user = mysql_user_info['user_id'],\n",
    "    passwd = mysql_user_info['password'],\n",
    "    # 여기서 사용할 스키마 하나 생성!\n",
    "    db = 'non_jpa_db'\n",
    ")"
   ]
  },
  {
   "cell_type": "code",
   "execution_count": 45,
   "id": "cc4d99d0",
   "metadata": {},
   "outputs": [
    {
     "name": "stderr",
     "output_type": "stream",
     "text": [
      "C:\\anaconda3\\lib\\site-packages\\pandas\\io\\sql.py:761: UserWarning: pandas only support SQLAlchemy connectable(engine/connection) ordatabase string URI or sqlite3 DBAPI2 connectionother DBAPI2 objects are not tested, please consider using SQLAlchemy\n",
      "  warnings.warn(\n"
     ]
    }
   ],
   "source": [
    "sql = \"\"\"\n",
    "    select * from market;\n",
    "\"\"\"\n",
    "\n",
    "data = pd.read_sql_query(sql, db)\n",
    "data.to_csv(r\"db2csv.csv\", index=False, encoding='utf-8-sig')\n",
    "\n",
    "#C:\\anaconda3\\lib\\site-packages\\pandas\\io\\sql.py:761: UserWarning: pandas only support SQLAlchemy connectable(engine/connection) ordatabase string URI or sqlite3 DBAPI2 connectionother DBAPI2 objects are not tested, please consider using SQLAlchemy\n",
    "#  warnings.warn(\n",
    "# Warning 문구이고 에러가 아니니까 마저 작업 속행해도 괜찮음."
   ]
  },
  {
   "cell_type": "code",
   "execution_count": 46,
   "id": "e4ec2be5",
   "metadata": {},
   "outputs": [],
   "source": [
    "db.close()"
   ]
  },
  {
   "cell_type": "code",
   "execution_count": 47,
   "id": "68d3586b",
   "metadata": {},
   "outputs": [
    {
     "name": "stdout",
     "output_type": "stream",
     "text": [
      " C 드라이브의 볼륨에는 이름이 없습니다.\n",
      " 볼륨 일련 번호: 8C6A-4EF0\n",
      "\n",
      " C:\\khweb19\\Homework\\hyeonjiSon\\python 디렉터리\n",
      "\n",
      "2022-05-20  오후 05:16    <DIR>          .\n",
      "2022-05-20  오후 05:16    <DIR>          ..\n",
      "2022-05-20  오후 03:12    <DIR>          .idea\n",
      "2022-05-20  오후 03:37    <DIR>          .ipynb_checkpoints\n",
      "2022-05-13  오후 04:48                37 colors\n",
      "2022-05-20  오후 05:17               208 db2csv.csv\n",
      "2022-05-19  오후 06:16            25,096 fifth.ipynb\n",
      "2022-05-13  오후 06:03            17,583 first.ipynb\n",
      "2022-05-19  오후 06:16           333,180 fourth.ipynb\n",
      "2022-05-16  오후 01:48            17,498 Ims4and5.ipynb\n",
      "2022-05-20  오후 02:14            15,951 lms 11, 12, 13.ipynb\n",
      "2022-05-19  오전 01:32             9,668 lms 9 and 10.ipynb\n",
      "2022-05-18  오후 11:39            10,610 lms2and3.ipynb\n",
      "2022-05-18  오전 01:17            19,910 lms678.ipynb\n",
      "2022-05-16  오후 05:49    <DIR>          mysql\n",
      "2022-05-19  오후 06:03               140 mysql2csv.csv\n",
      "2022-05-13  오후 06:03            36,626 Second.ipynb\n",
      "2022-05-20  오후 05:16            29,089 sixth.ipynb\n",
      "2022-05-13  오후 04:38                17 test.txt\n",
      "2022-05-19  오후 05:28            70,281 test_1.jpg\n",
      "2022-05-19  오후 05:28            18,367 test_10.jpg\n",
      "2022-05-19  오후 05:28             7,031 test_11.jpg\n",
      "2022-05-19  오후 05:28            49,909 test_12.jpg\n",
      "2022-05-19  오후 05:28            47,983 test_13.jpg\n",
      "2022-05-19  오후 05:28            57,033 test_14.jpg\n",
      "2022-05-19  오후 05:28           215,245 test_15.jpg\n",
      "2022-05-19  오후 05:28            40,785 test_16.jpg\n",
      "2022-05-19  오후 05:28           143,856 test_17.jpg\n",
      "2022-05-19  오후 05:28            30,663 test_18.jpg\n",
      "2022-05-19  오후 05:28            22,085 test_19.jpg\n",
      "2022-05-19  오후 05:28            34,634 test_2.jpg\n",
      "2022-05-19  오후 05:28            38,436 test_20.jpg\n",
      "2022-05-19  오후 05:28            38,562 test_21.jpg\n",
      "2022-05-19  오후 05:28            48,526 test_22.jpg\n",
      "2022-05-19  오후 05:28            25,745 test_23.jpg\n",
      "2022-05-19  오후 05:28            68,142 test_24.jpg\n",
      "2022-05-19  오후 05:28           339,394 test_25.jpg\n",
      "2022-05-19  오후 05:28           135,023 test_26.jpg\n",
      "2022-05-19  오후 05:28            93,574 test_27.jpg\n",
      "2022-05-19  오후 05:28           145,661 test_28.jpg\n",
      "2022-05-19  오후 05:28            15,215 test_29.jpg\n",
      "2022-05-19  오후 05:28            37,519 test_3.jpg\n",
      "2022-05-19  오후 05:28            54,727 test_30.jpg\n",
      "2022-05-19  오후 05:28           123,040 test_31.jpg\n",
      "2022-05-19  오후 05:28           138,203 test_32.jpg\n",
      "2022-05-19  오후 05:28            82,515 test_33.jpg\n",
      "2022-05-19  오후 05:28            58,332 test_34.jpg\n",
      "2022-05-19  오후 05:28            33,353 test_35.jpg\n",
      "2022-05-19  오후 05:28            68,472 test_36.jpg\n",
      "2022-05-19  오후 05:28            58,170 test_37.jpg\n",
      "2022-05-19  오후 05:28           584,105 test_38.jpg\n",
      "2022-05-19  오후 05:28             8,183 test_39.jpg\n",
      "2022-05-19  오후 05:28            16,621 test_4.jpg\n",
      "2022-05-19  오후 05:28            27,553 test_40.jpg\n",
      "2022-05-19  오후 05:28            61,166 test_41.jpg\n",
      "2022-05-19  오후 05:28            39,614 test_42.jpg\n",
      "2022-05-19  오후 05:28            21,745 test_43.jpg\n",
      "2022-05-19  오후 05:28           601,519 test_44.jpg\n",
      "2022-05-19  오후 05:28            41,273 test_45.jpg\n",
      "2022-05-19  오후 05:28            25,752 test_46.jpg\n",
      "2022-05-19  오후 05:28            76,820 test_47.jpg\n",
      "2022-05-19  오후 05:28            68,131 test_48.jpg\n",
      "2022-05-19  오후 05:28            83,187 test_49.jpg\n",
      "2022-05-19  오후 05:28            37,967 test_5.jpg\n",
      "2022-05-19  오후 05:29           518,453 test_50.jpg\n",
      "2022-05-19  오후 05:29           100,117 test_51.jpg\n",
      "2022-05-19  오후 05:29            62,585 test_52.jpg\n",
      "2022-05-19  오후 05:29            20,940 test_53.jpg\n",
      "2022-05-19  오후 05:29            23,842 test_54.jpg\n",
      "2022-05-19  오후 05:29            45,427 test_55.jpg\n",
      "2022-05-19  오후 05:29            39,750 test_56.jpg\n",
      "2022-05-19  오후 05:29            81,857 test_57.jpg\n",
      "2022-05-19  오후 05:29            29,713 test_58.jpg\n",
      "2022-05-19  오후 05:29           118,112 test_59.jpg\n",
      "2022-05-19  오후 05:29            51,948 test_60.jpg\n",
      "2022-05-19  오후 05:29            41,828 test_61.jpg\n",
      "2022-05-19  오후 05:29           122,772 test_62.jpg\n",
      "2022-05-19  오후 05:29            10,420 test_63.jpg\n",
      "2022-05-19  오후 05:29           101,881 test_64.jpg\n",
      "2022-05-19  오후 05:29            95,087 test_65.jpg\n",
      "2022-05-19  오후 05:29            22,816 test_66.jpg\n",
      "2022-05-19  오후 05:29           254,240 test_67.jpg\n",
      "2022-05-19  오후 05:29            43,138 test_68.jpg\n",
      "2022-05-19  오후 05:29            68,091 test_69.jpg\n",
      "2022-05-19  오후 05:28            85,411 test_7.jpg\n",
      "2022-05-19  오후 05:29           227,984 test_70.jpg\n",
      "2022-05-19  오후 05:29            19,191 test_71.jpg\n",
      "2022-05-19  오후 05:29             9,612 test_72.jpg\n",
      "2022-05-19  오후 05:29            13,965 test_73.jpg\n",
      "2022-05-19  오후 05:29            47,800 test_74.jpg\n",
      "2022-05-19  오후 05:29             7,409 test_75.jpg\n",
      "2022-05-19  오후 05:29            20,163 test_76.jpg\n",
      "2022-05-19  오후 05:29            42,539 test_77.jpg\n",
      "2022-05-19  오후 05:29            18,635 test_78.jpg\n",
      "2022-05-19  오후 05:29            49,761 test_79.jpg\n",
      "2022-05-19  오후 05:28           148,625 test_8.jpg\n",
      "2022-05-19  오후 05:29           125,459 test_80.jpg\n",
      "2022-05-19  오후 05:28            24,217 test_9.jpg\n",
      "2022-05-17  오후 04:18            15,982 third.ipynb\n",
      "              94개 파일           7,259,500 바이트\n",
      "               5개 디렉터리  649,822,171,136 바이트 남음\n"
     ]
    }
   ],
   "source": [
    "!dir"
   ]
  },
  {
   "cell_type": "code",
   "execution_count": 48,
   "id": "cafad6f5",
   "metadata": {},
   "outputs": [],
   "source": [
    "# csv -> DB\n",
    "db = pymysql.connect(\n",
    "    host = '127.0.0.1',\n",
    "    port = 3306,\n",
    "    user = mysql_user_info['user_id'],\n",
    "    passwd = mysql_user_info['password'],\n",
    "    # 여기서 사용할 스키마 하나 생성!\n",
    "    db = 'pydb'\n",
    ")"
   ]
  },
  {
   "cell_type": "code",
   "execution_count": 49,
   "id": "c52cd5b1",
   "metadata": {},
   "outputs": [
    {
     "name": "stdout",
     "output_type": "stream",
     "text": [
      "테이블 생성 성공!\n"
     ]
    }
   ],
   "source": [
    "cursor = db.cursor()\n",
    "\n",
    "sql = \"\"\"\n",
    "    create table csv_to_db_test(\n",
    "        product_no int unsigned not null auto_increment,\n",
    "        title varchar(200) not null,\n",
    "        content text,\n",
    "        seller varchar(50) not null,\n",
    "        primary key(product_no)\n",
    "    )\n",
    "\"\"\"\n",
    "\n",
    "cursor.execute(sql)\n",
    "db.commit()\n",
    "db.close()\n",
    "print('테이블 생성 성공!')"
   ]
  },
  {
   "cell_type": "code",
   "execution_count": 50,
   "id": "a18117be",
   "metadata": {},
   "outputs": [],
   "source": [
    "db = pymysql.connect(\n",
    "    host = '127.0.0.1',\n",
    "    port = 3306,\n",
    "    user = mysql_user_info['user_id'],\n",
    "    passwd = mysql_user_info['password'],\n",
    "    # 여기서 사용할 스키마 하나 생성!\n",
    "    db = 'pydb'\n",
    ")\n",
    "\n",
    "cursor = db.cursor()"
   ]
  },
  {
   "cell_type": "code",
   "execution_count": 51,
   "id": "947f39f8",
   "metadata": {},
   "outputs": [],
   "source": [
    "import csv"
   ]
  },
  {
   "cell_type": "code",
   "execution_count": 52,
   "id": "1deb3892",
   "metadata": {},
   "outputs": [
    {
     "name": "stdout",
     "output_type": "stream",
     "text": [
      "<_csv.reader object at 0x0000018CB9B680A0>\n"
     ]
    }
   ],
   "source": [
    "f = open('db2csv.csv', 'r', encoding='UTF8')\n",
    "#csv_reader = csv.reader(f, delimiter='\\t')\n",
    "csv_reader = csv.reader(f, delimiter=',')\n",
    "# 구분자를 주의합시다 ;;;\n",
    "\n",
    "print(csv_reader)"
   ]
  },
  {
   "cell_type": "code",
   "execution_count": 53,
   "id": "962517d1",
   "metadata": {
    "scrolled": true
   },
   "outputs": [
    {
     "name": "stdout",
     "output_type": "stream",
     "text": [
      "['1', '상품1', '테스트1', 'ㅅㅎㅈ']\n",
      "1 상품1 테스트1 ㅅㅎㅈ\n",
      "['2', '뭐야', '갱신시도2', '상품이']\n",
      "2 뭐야 갱신시도2 상품이\n",
      "['4', '드디어', '마침내해냈다집단지성사랑해요', '다됐다']\n",
      "4 드디어 마침내해냈다집단지성사랑해요 다됐다\n",
      "['5', '바나나', '바나나 푸딩', '미니언']\n",
      "5 바나나 바나나 푸딩 미니언\n"
     ]
    }
   ],
   "source": [
    "cnt = 0\n",
    "\n",
    "for row in csv_reader:\n",
    "    if cnt == 0:\n",
    "        cnt += 1\n",
    "        continue\n",
    "        \n",
    "    print(row)\n",
    "    product_no = (row[0])\n",
    "    title = (row[1])\n",
    "    content = (row[2])\n",
    "    seller = (row[3])\n",
    "    \n",
    "    print(product_no, title, content, seller)\n",
    "    \n",
    "    sql = \"\"\"\n",
    "        insert into csv_to_db_test (title, content, seller) values (%s, %s, %s)\n",
    "    \"\"\"\n",
    "    \n",
    "    cursor.execute(sql, (title, content, seller))\n",
    "    \n",
    "db.commit()\n",
    "\n",
    "f.close()\n",
    "db.close()"
   ]
  },
  {
   "cell_type": "code",
   "execution_count": null,
   "id": "01aa6dd0",
   "metadata": {},
   "outputs": [],
   "source": []
  },
  {
   "cell_type": "code",
   "execution_count": null,
   "id": "afca474a",
   "metadata": {},
   "outputs": [],
   "source": [
    "#카톡 메시지 보내기\n",
    "#애플리케이션 닉네임 - 필수, 계정 - 선택, 메시지 - 선택\n",
    "#카카오 로그인 - 활성화\n",
    "#Redirect URI: https://localhost.com\n",
    "#플랫폼 Web: https://localhost.com\n",
    "#부가적으로 naver나 daum넣고 안넣어도 아마 될 것임\n",
    "#API:\n",
    "#GET /oauth/authorize?client_id=${REST_API_KEY}&redirect_uri=${REDIRECT_URI}&response_type=code HTTP/1.1\n",
    "#Host:\n",
    "#Host: kauth.kakao.com\n",
    "#위의 URI로 요청해서 토큰을 발급받자\n",
    "\n",
    "#시크릿 창을 열고                                    ↓나의 REST API KEY            ↓https://localhost.com\n",
    "#https://kauth.kakao.com/oauth/authorize?client_id=${REST_API_KEY}&redirect_uri=${REDIRECT_URI}&response_type=code\n",
    "                                                #${}는 빼고 넣어야한다.\n",
    "\n",
    "#https://kauth.kakao.com/oauth/authorize?client_id=33ee1d44ba98defb52282f8ec9a3e19e&redirect_uri=https://localhost.com&response_type=code"
   ]
  },
  {
   "cell_type": "code",
   "execution_count": 1,
   "id": "6464b801",
   "metadata": {},
   "outputs": [
    {
     "name": "stdout",
     "output_type": "stream",
     "text": [
      "{'access_token': '7yqobDJfCG_ODqxSLmLmq_UOSzUecJ1QINbP6_rdCinJXgAAAYD6DwbU', 'token_type': 'bearer', 'refresh_token': 'e1CGdeI0JJ0kU2ev_xTsvV5jmoZQFz2q2AEUNJ75CinJXgAAAYD6DwbT', 'expires_in': 21599, 'scope': 'account_email talk_message profile_nickname friends', 'refresh_token_expires_in': 5183999}\n"
     ]
    }
   ],
   "source": [
    "import requests\n",
    "\n",
    "url = \"https://kauth.kakao.com/oauth/token\"\n",
    "\n",
    "#data = {\n",
    "#    \"grant_type\": \"authorization_code\",\n",
    "#    \"client_id\": \"YourRESTAPIKey\",\n",
    "#    \"redirect_uri\": \"https://localhost.com\",\n",
    "#    \"code\": \"https://kauth.kakao.com/oauth/authorize 블라블라 요청한 내용의 응답 code\"\n",
    "#}\n",
    "\n",
    "data = {\n",
    "    \"grant_type\": \"authorization_code\",\n",
    "    \"client_id\": \"33ee1d44ba98defb52282f8ec9a3e19e\",\n",
    "    \"redirect_uri\": \"https://localhost.com\",\n",
    "    \"code\": \"bCYBNVabJbcG9iPshQHRQsfZnaL0jNbBxEIsQg8wC7OJEZfHXJZ5I5FQpt0TBIJc0v418Qo9dVwAAAGA-g51PA\"\n",
    "}\n",
    "\n",
    "response = requests.post(url, data=data)\n",
    "\n",
    "if response.status_code != 200:\n",
    "    print(\"에러!!!\")\n",
    "else:\n",
    "    tokens = response.json()\n",
    "    print(tokens)"
   ]
  },
  {
   "cell_type": "code",
   "execution_count": 2,
   "id": "c1f19c93",
   "metadata": {},
   "outputs": [],
   "source": [
    "import json\n",
    "import datetime\n",
    "import os\n",
    "\n",
    "# Kakao Token 저장 파일\n",
    "     #아래 내용대로의 저장을 위해 kakao_msg라는 디렉토리를 만들어주어야 한다.\n",
    "KAKAO_TOKEN_SAVED_FILE = \"kakao_msg/kakao_token.json\"\n",
    "\n",
    "# 저장\n",
    "def save_tokens(filename, tokens):\n",
    "    with open(filename, \"w\") as fp:\n",
    "        json.dump(tokens, fp)\n",
    "        \n",
    "# 읽기\n",
    "def load_tokens(filename):\n",
    "    with open(filename) as fp:\n",
    "        tokens = json.load(fp)\n",
    "        \n",
    "    return tokens\n",
    "\n",
    "# token 저장\n",
    "save_tokens(KAKAO_TOKEN_SAVED_FILE, tokens)"
   ]
  },
  {
   "cell_type": "code",
   "execution_count": 36,
   "id": "ed51a740",
   "metadata": {},
   "outputs": [
    {
     "name": "stdout",
     "output_type": "stream",
     "text": [
      "200\n",
      "카톡 메시지 가보자고!!!\n"
     ]
    }
   ],
   "source": [
    "tokens = load_tokens(KAKAO_TOKEN_SAVED_FILE)\n",
    "\n",
    "url = \"https://kapi.kakao.com/v2/api/talk/memo/default/send\"\n",
    "\n",
    "headers = {\n",
    "    \"Authorization\": \"Bearer \" + tokens['access_token']\n",
    "}\n",
    "\n",
    "data = {\n",
    "    \"template_object\": json.dumps({\n",
    "        \"object_type\": \"text\",\n",
    "        \"text\": \"파이썬으로 메세지 전송!!\",\n",
    "        \"link\": {\n",
    "            \"web_url\": \"www.naver.com\"\n",
    "        }\n",
    "    })\n",
    "}\n",
    "\n",
    "response = requests.post(url, headers=headers, data=data)\n",
    "print(response.status_code)\n",
    "\n",
    "if response.status_code != 200:\n",
    "    print(\"에러!\")\n",
    "else:\n",
    "    print(\"카톡 메시지 가보자고!!!\")"
   ]
  },
  {
   "cell_type": "code",
   "execution_count": null,
   "id": "fbfcf27a",
   "metadata": {},
   "outputs": [],
   "source": []
  },
  {
   "cell_type": "code",
   "execution_count": null,
   "id": "f56c92b4",
   "metadata": {},
   "outputs": [],
   "source": []
  },
  {
   "cell_type": "code",
   "execution_count": null,
   "id": "0cd324dd",
   "metadata": {},
   "outputs": [],
   "source": []
  },
  {
   "cell_type": "code",
   "execution_count": null,
   "id": "61a9a457",
   "metadata": {},
   "outputs": [],
   "source": []
  },
  {
   "cell_type": "code",
   "execution_count": null,
   "id": "980f61d7",
   "metadata": {},
   "outputs": [],
   "source": []
  }
 ],
 "metadata": {
  "kernelspec": {
   "display_name": "Python 3 (ipykernel)",
   "language": "python",
   "name": "python3"
  },
  "language_info": {
   "codemirror_mode": {
    "name": "ipython",
    "version": 3
   },
   "file_extension": ".py",
   "mimetype": "text/x-python",
   "name": "python",
   "nbconvert_exporter": "python",
   "pygments_lexer": "ipython3",
   "version": "3.9.12"
  }
 },
 "nbformat": 4,
 "nbformat_minor": 5
}
