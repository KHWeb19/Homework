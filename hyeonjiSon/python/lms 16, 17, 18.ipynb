{
 "cells": [
  {
   "cell_type": "code",
   "execution_count": 7,
   "id": "dfcc1bbc",
   "metadata": {},
   "outputs": [
    {
     "name": "stdout",
     "output_type": "stream",
     "text": [
      "빵을 만들어 냅니다.\n",
      "크림빵\n",
      "크림빵의 가격은 3000입니다.\n",
      "초코크림빵\n"
     ]
    }
   ],
   "source": [
    "#클래스\n",
    "class BreadMold:\n",
    "    #속성 == 일반적인변수\n",
    "    category = \"크림빵\"\n",
    "    def makeBread(self): #함수도 가질 수 있다. 클래스가 가진 함수는 메서드라고 부름\n",
    "                 #self를 넣어줌으로써 bread.makeBread() 의 문제를 해결함\n",
    "        print(\"빵을 만들어 냅니다.\")\n",
    "\n",
    "#객체 이름 = 클래스이름() #클래스이름() : 생성자\n",
    "bread = BreadMold() #인스턴스\n",
    "bread.price = 3000\n",
    "\n",
    "breadChoco = BreadMold()\n",
    "breadChoco.category = \"초코크림빵\"\n",
    "\n",
    "bread.makeBread() #파이썬에서 인스턴스의 메서드를 호출할 때는 암묵적으로 인스턴스가 인자로 전달함.\n",
    "                 #그러니 이렇게 작성하면 인자가 전달되었다는 안내 메세지가 뜨게 된다.\n",
    "\n",
    "\n",
    "#참조연산자.format()\n",
    "print(bread.category)\n",
    "print(\"{}의 가격은 {}입니다.\".format(bread.category, bread.price))\n",
    "print(breadChoco.category)"
   ]
  },
  {
   "cell_type": "code",
   "execution_count": 13,
   "id": "71f68c7f",
   "metadata": {},
   "outputs": [
    {
     "name": "stdout",
     "output_type": "stream",
     "text": [
      "<class 'int'>\n",
      "<class 'str'>\n",
      "2672321456432\n",
      "2672321456432\n",
      "2672321456432\n",
      "True\n"
     ]
    }
   ],
   "source": [
    "#int(), str(), float(), boo() 등등..\n",
    "#모두 타입이 클래스다\n",
    "\n",
    "number = 1\n",
    "#1 = 데이터 int 인스턴스(객체)\n",
    "text = \"a\"\n",
    "\n",
    "a = 1\n",
    "\n",
    "print(type(number))\n",
    "print(type(text))\n",
    "\n",
    "#id() = 객체의 주소값을 반환\n",
    "print(id(number))\n",
    "print(id(a))\n",
    "print(id(1))\n",
    "\n",
    "print(isinstance(number, int)) #(a, b클래스) a가 b클래스로 이루어진 클래스라면 True 아니라면 False를 반환함"
   ]
  },
  {
   "cell_type": "code",
   "execution_count": 15,
   "id": "006cec86",
   "metadata": {},
   "outputs": [
    {
     "name": "stdout",
     "output_type": "stream",
     "text": [
      "2672434387504 2672435529008\n",
      "2672434387504 2672434388784\n"
     ]
    }
   ],
   "source": [
    "#int(), str(), float(), bool()\n",
    "\n",
    "text1 = 12345\n",
    "text2 = \"12345\"\n",
    "\n",
    "print(id(text1), id(text2))\n",
    "print(id(text1), id(int(text2)))"
   ]
  },
  {
   "cell_type": "code",
   "execution_count": 21,
   "id": "a9dd9e97",
   "metadata": {},
   "outputs": [
    {
     "name": "stdout",
     "output_type": "stream",
     "text": [
      "빵 붕어빵 잉어빵\n"
     ]
    }
   ],
   "source": [
    "#네임스페이스\n",
    "\n",
    "class BreadMold:\n",
    "    category = \"빵\"\n",
    "    \n",
    "bread1 = BreadMold()\n",
    "bread2 = BreadMold()\n",
    "bread3 = BreadMold()\n",
    "\n",
    "bread1.price = 3000\n",
    "bread2.category = \"붕어빵\"\n",
    "bread3.category = \"잉어빵\"\n",
    "\n",
    "print(bread1.category, bread2.category, bread3.category)"
   ]
  },
  {
   "cell_type": "code",
   "execution_count": 23,
   "id": "19450fe5",
   "metadata": {},
   "outputs": [
    {
     "name": "stdout",
     "output_type": "stream",
     "text": [
      "['__class__', '__delattr__', '__dict__', '__dir__', '__doc__', '__eq__', '__format__', '__ge__', '__getattribute__', '__gt__', '__hash__', '__init__', '__init_subclass__', '__le__', '__lt__', '__module__', '__ne__', '__new__', '__reduce__', '__reduce_ex__', '__repr__', '__setattr__', '__sizeof__', '__str__', '__subclasshook__', '__weakref__', 'category', 'price']\n",
      "['__class__', '__delattr__', '__dict__', '__dir__', '__doc__', '__eq__', '__format__', '__ge__', '__getattribute__', '__gt__', '__hash__', '__init__', '__init_subclass__', '__le__', '__lt__', '__module__', '__ne__', '__new__', '__reduce__', '__reduce_ex__', '__repr__', '__setattr__', '__sizeof__', '__str__', '__subclasshook__', '__weakref__', 'category']\n",
      "['__class__', '__delattr__', '__dict__', '__dir__', '__doc__', '__eq__', '__format__', '__ge__', '__getattribute__', '__gt__', '__hash__', '__init__', '__init_subclass__', '__le__', '__lt__', '__module__', '__ne__', '__new__', '__reduce__', '__reduce_ex__', '__repr__', '__setattr__', '__sizeof__', '__str__', '__subclasshook__', '__weakref__', 'category']\n",
      "['__add__', '__class__', '__contains__', '__delattr__', '__dir__', '__doc__', '__eq__', '__format__', '__ge__', '__getattribute__', '__getitem__', '__getnewargs__', '__gt__', '__hash__', '__init__', '__init_subclass__', '__iter__', '__le__', '__len__', '__lt__', '__mod__', '__mul__', '__ne__', '__new__', '__reduce__', '__reduce_ex__', '__repr__', '__rmod__', '__rmul__', '__setattr__', '__sizeof__', '__str__', '__subclasshook__', 'capitalize', 'casefold', 'center', 'count', 'encode', 'endswith', 'expandtabs', 'find', 'format', 'format_map', 'index', 'isalnum', 'isalpha', 'isascii', 'isdecimal', 'isdigit', 'isidentifier', 'islower', 'isnumeric', 'isprintable', 'isspace', 'istitle', 'isupper', 'join', 'ljust', 'lower', 'lstrip', 'maketrans', 'partition', 'removeprefix', 'removesuffix', 'replace', 'rfind', 'rindex', 'rjust', 'rpartition', 'rsplit', 'rstrip', 'split', 'splitlines', 'startswith', 'strip', 'swapcase', 'title', 'translate', 'upper', 'zfill']\n"
     ]
    }
   ],
   "source": [
    "#dir() 이름공간에 있는 모든 속성을 리스트로 반환\n",
    "\n",
    "print(dir(bread1))\n",
    "print(dir(bread2))\n",
    "print(dir(BreadMold))\n",
    "print(dir(str))"
   ]
  },
  {
   "cell_type": "code",
   "execution_count": 38,
   "id": "05780ef4",
   "metadata": {},
   "outputs": [
    {
     "name": "stdout",
     "output_type": "stream",
     "text": [
      "빵을 만들었습니다.\n",
      "빵이 없어졌습니다.\n",
      "빵을 만들었습니다.\n",
      "빵이 없어졌습니다.\n",
      "빵을 만들었습니다.\n",
      "빵이 없어졌습니다.\n",
      "빵의 가격은 1000원 입니다.\n",
      "잉어빵의 가격은 4000원 입니다.\n",
      "빵의 가격은 1000원 입니다.\n"
     ]
    }
   ],
   "source": [
    "class BreadMold:\n",
    "    category = \"빵\"\n",
    "    \n",
    "    def __init__(self, category, price):\n",
    "        self.category = category\n",
    "        self.price = price\n",
    "        print(\"빵을 만들었습니다.\")\n",
    "        \n",
    "    def __str__(self):\n",
    "        ''' '''\n",
    "        return \"{}의 가격은 {}원 입니다.\".format(bread1.category, bread1.price)\n",
    "        \n",
    "    def __del__(self): #소멸자 메서드\n",
    "         #레퍼런스 카운터가 0이 되면 소멸자 메서드가 출력이 된다.\n",
    "        print(\"빵이 없어졌습니다.\")\n",
    "\n",
    "    \n",
    "#__init__ 생성자 메서드\n",
    "   #init은 initialize의 약자\n",
    "bread1 = BreadMold(\"붕어빵\", 3000)\n",
    "bread1 = BreadMold(\"빵\", 1000)\n",
    "bread2 = BreadMold(\"잉어빵\", 4000)\n",
    "\n",
    "print(\"{}의 가격은 {}원 입니다.\".format(bread1.category, bread1.price))\n",
    "print(\"{}의 가격은 {}원 입니다.\".format(bread2.category, bread2.price))\n",
    "\n",
    "print(bread1) #def __str__ 메서드 테스트\n",
    "\n",
    "#변수 = 객체? X, 변수는 객체를 가리키는 이름표!"
   ]
  },
  {
   "cell_type": "code",
   "execution_count": 49,
   "id": "efdd8e0e",
   "metadata": {},
   "outputs": [
    {
     "name": "stdout",
     "output_type": "stream",
     "text": [
      "가게 이름: 자식의 가게, 가게 메뉴 : 붕어빵, 메뉴의 조리법 붕어빵을 굽는다., 마케팅 방법은 : 온라인\n",
      "2000\n"
     ]
    }
   ],
   "source": [
    "#상속\n",
    "    #super, 부모 class\n",
    "    #sub, 자식 class\n",
    "    \n",
    "class ParentRestaurant:\n",
    "    def __init__(self, name, menu, recipe):\n",
    "        self.name = name\n",
    "        self.menu = menu\n",
    "        self.recipe = recipe\n",
    "        \n",
    "    def __str__(self):\n",
    "        return \"가게 이름: {}, 가게 메뉴 : {}, 메뉴의 조리법 {}\".format(self.name, self.menu, self.recipe)\n",
    "    \n",
    "    def __del__(self):\n",
    "        pass\n",
    "    \n",
    "    \n",
    "class ChildRestaurant(ParentRestaurant): #상속을 사용할 때는 자식클래스를 만들 때 인자로 부모클래스를 넣어준다.\n",
    "    price = 2000\n",
    "    \n",
    "    def __init__(self, name, menu, recipe, marketing):\n",
    "        ParentRestaurant.__init__(self, name, menu, recipe)\n",
    "        self.marketing = marketing\n",
    "        \n",
    "    def __str__(self):\n",
    "        return super().__str__() + \", 마케팅 방법은 : {}\".format(self.marketing)\n",
    "\n",
    "restaurant_info = ChildRestaurant(\"자식의 가게\", \"붕어빵\", \"붕어빵을 굽는다.\", \"온라인\")\n",
    "print(restaurant_info)\n",
    "print(restaurant_info.price)\n"
   ]
  },
  {
   "cell_type": "code",
   "execution_count": null,
   "id": "488eacb4",
   "metadata": {},
   "outputs": [],
   "source": [
    "#모듈\n",
    "#파이썬에서의 모듈 : 파일을 모듈이라고 부른다.\n",
    "#프로그램들을 모듈화 해놓으면 활용성이 높다!\n",
    "\n",
    "#import 모듈명 #만약 짧게 줄여서 부르고 싶다면 as 줄여부를글자\n",
    "#그안의 함수 참조.메서드(인자,인자)\n",
    "\n",
    "#줄여부를글자.메서드(인자, 인자) 이런 식으로 사용하는 것도 가능하다\n",
    "\n",
    "#한가지 함수만 가져오기\n",
    "#from 모듈명 import 메서드 #물론 as도 사용 가능하다.\n",
    "#메서드(인자, 인자)"
   ]
  },
  {
   "cell_type": "code",
   "execution_count": 51,
   "id": "4e54fd3f",
   "metadata": {},
   "outputs": [
    {
     "name": "stdout",
     "output_type": "stream",
     "text": [
      "2022-05-22\n",
      "1999-12-31\n"
     ]
    }
   ],
   "source": [
    "from datetime import date\n",
    "\n",
    "today = date.today() #오늘 날짜 불러오기\n",
    "print(today)\n",
    "\n",
    "newDate = date(1999, 12, 31) #직접 날짜 입력하기\n",
    "print(newDate)"
   ]
  },
  {
   "cell_type": "code",
   "execution_count": 54,
   "id": "c75baee6",
   "metadata": {},
   "outputs": [
    {
     "name": "stdout",
     "output_type": "stream",
     "text": [
      "09:00:00\n",
      "09:02:00\n",
      "09:02:02\n",
      "09:02:02.002222\n"
     ]
    }
   ],
   "source": [
    "from datetime import time\n",
    "\n",
    "print(time(9))\n",
    "print(time(9, 2))\n",
    "print(time(9, 2, 2))\n",
    "print(time(9, 2, 2, 2222))"
   ]
  },
  {
   "cell_type": "code",
   "execution_count": 56,
   "id": "2b68c2fd",
   "metadata": {},
   "outputs": [
    {
     "name": "stdout",
     "output_type": "stream",
     "text": [
      "2022-05-22 00:28:32.306178\n",
      "2002-10-20 14:05:02\n"
     ]
    }
   ],
   "source": [
    "from datetime import datetime\n",
    "\n",
    "dt = datetime.now() #시간과 날짜 한번에 출력\n",
    "print(dt)\n",
    "\n",
    "dt2 = datetime(2002, 10, 20, 14, 5, 2)\n",
    "print(dt2)"
   ]
  },
  {
   "cell_type": "code",
   "execution_count": 59,
   "id": "e9d3aa8f",
   "metadata": {},
   "outputs": [],
   "source": [
    "from datetime import datetime, timedelta\n",
    "#timedelta : 날짜 계산에 용이함"
   ]
  },
  {
   "cell_type": "code",
   "execution_count": 62,
   "id": "5f8b137a",
   "metadata": {},
   "outputs": [
    {
     "name": "stdout",
     "output_type": "stream",
     "text": [
      "1653147057.1671576\n"
     ]
    }
   ],
   "source": [
    "import time\n",
    "\n",
    "now = time.time()\n",
    "\n",
    "print(now)"
   ]
  },
  {
   "cell_type": "code",
   "execution_count": 64,
   "id": "5f7926f1",
   "metadata": {},
   "outputs": [
    {
     "name": "stdout",
     "output_type": "stream",
     "text": [
      "time.struct_time(tm_year=2022, tm_mon=5, tm_mday=22, tm_hour=0, tm_min=31, tm_sec=52, tm_wday=6, tm_yday=142, tm_isdst=0)\n"
     ]
    }
   ],
   "source": [
    "from time import localtime\n",
    "\n",
    "now = localtime()\n",
    "print(now)"
   ]
  },
  {
   "cell_type": "code",
   "execution_count": 66,
   "id": "eaf3a1e4",
   "metadata": {},
   "outputs": [
    {
     "name": "stdout",
     "output_type": "stream",
     "text": [
      "2022-05-22-00:32\n"
     ]
    }
   ],
   "source": [
    "from time import strftime\n",
    "\n",
    "now = strftime(\"%Y-%m-%d-%H:%M\") #포매팅 가능\n",
    "              #년 월 일   시간\n",
    "print(now)"
   ]
  },
  {
   "cell_type": "code",
   "execution_count": null,
   "id": "71d335f9",
   "metadata": {},
   "outputs": [],
   "source": [
    "#pip 남이 만든 라이브러리\n",
    "#이런 방식으로 원하는 라이브러리 인스톨이 가능하다\n",
    "\n",
    "#pip uninstall 남이 만든 라이브러리\n",
    "#삭제도 간단하게 가능하다"
   ]
  }
 ],
 "metadata": {
  "kernelspec": {
   "display_name": "Python 3 (ipykernel)",
   "language": "python",
   "name": "python3"
  },
  "language_info": {
   "codemirror_mode": {
    "name": "ipython",
    "version": 3
   },
   "file_extension": ".py",
   "mimetype": "text/x-python",
   "name": "python",
   "nbconvert_exporter": "python",
   "pygments_lexer": "ipython3",
   "version": "3.9.12"
  }
 },
 "nbformat": 4,
 "nbformat_minor": 5
}
