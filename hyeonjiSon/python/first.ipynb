{
 "cells": [
  {
   "cell_type": "code",
   "execution_count": null,
   "id": "b71a36ee",
   "metadata": {},
   "outputs": [],
   "source": [
    "#파이썬은 요렇게 샾으로 주석을 만듬"
   ]
  },
  {
   "cell_type": "code",
   "execution_count": 2,
   "id": "e4d66cd9",
   "metadata": {},
   "outputs": [
    {
     "name": "stdout",
     "output_type": "stream",
     "text": [
      "Hello Python\n"
     ]
    }
   ],
   "source": [
    "print(\"Hello Python\")"
   ]
  },
  {
   "cell_type": "code",
   "execution_count": 1,
   "id": "a1112ab0",
   "metadata": {},
   "outputs": [
    {
     "name": "stdout",
     "output_type": "stream",
     "text": [
      "Hello Python\n"
     ]
    }
   ],
   "source": [
    "print('Hello Python')"
   ]
  },
  {
   "cell_type": "code",
   "execution_count": 6,
   "id": "63708805",
   "metadata": {},
   "outputs": [],
   "source": [
    "#보는 바와 같이 쌍따옴표나 홑따옴표 구별이 없음"
   ]
  },
  {
   "cell_type": "code",
   "execution_count": 3,
   "id": "761d176e",
   "metadata": {},
   "outputs": [
    {
     "name": "stdout",
     "output_type": "stream",
     "text": [
      "1 10\n"
     ]
    }
   ],
   "source": [
    "num =1\n",
    "Num = 10\n",
    "print(num, Num)"
   ]
  },
  {
   "cell_type": "code",
   "execution_count": 4,
   "id": "75eb8ddf",
   "metadata": {},
   "outputs": [
    {
     "name": "stdout",
     "output_type": "stream",
     "text": [
      "<class 'complex'>\n",
      "-4.0\n",
      "3.0\n",
      "(3+4j)\n"
     ]
    }
   ],
   "source": [
    "z = 3 -4j\n",
    "\n",
    "print(type(z))\n",
    "print(z.imag)\n",
    "print(z.real)\n",
    "print(z.conjugate())"
   ]
  },
  {
   "cell_type": "code",
   "execution_count": null,
   "id": "30b8ac4a",
   "metadata": {},
   "outputs": [],
   "source": [
    "#Shift+Enter : 실행\n",
    "#dd : 셀 삭제\n",
    "# b: 아래쪽 셀 생성"
   ]
  },
  {
   "cell_type": "code",
   "execution_count": 6,
   "id": "42b3c7db",
   "metadata": {},
   "outputs": [
    {
     "name": "stdout",
     "output_type": "stream",
     "text": [
      "0 333 0.42857142857142855 333.3\n"
     ]
    }
   ],
   "source": [
    "num1 = 3 // 7\n",
    "num2 = 3333 // 10\n",
    "num3 = 3 /7\n",
    "num4 = 3333 / 10\n",
    "\n",
    "print(num1, num2, num3, num4)"
   ]
  },
  {
   "cell_type": "code",
   "execution_count": null,
   "id": "d24b99b1",
   "metadata": {},
   "outputs": [],
   "source": [
    "# / 와 //의 차이: /는 일반적인 나누기 //는 나머지를 버리고 몫만 취한다."
   ]
  },
  {
   "cell_type": "code",
   "execution_count": 7,
   "id": "92938e81",
   "metadata": {},
   "outputs": [
    {
     "name": "stdout",
     "output_type": "stream",
     "text": [
      "testpython\n",
      "pointer\n",
      "p\n",
      "n\n",
      "p\n",
      "oin\n",
      "po\n",
      "er\n",
      "pointer\n",
      "pitr\n"
     ]
    }
   ],
   "source": [
    "testStr = 'test' + 'python'\n",
    "print(testStr)\n",
    "\n",
    "str1 = \"pointer\"\n",
    "print(str1)\n",
    "print(str1[0])\n",
    "print(str1[3])\n",
    "\n",
    "print(str1[0:1]) #0 포함 1미만\n",
    "print(str1[1:4]) #1포함 4미만\n",
    "print(str1[:2]) #시작이 없으면 자동 0\n",
    "print(str1[-2:]) #뒤로가서 er 출력\n",
    "print(str1[:]) #통채로 복사\n",
    "print(str1[::2]) #두칸씩 건너뛰기"
   ]
  },
  {
   "cell_type": "code",
   "execution_count": 8,
   "id": "0491b7b4",
   "metadata": {},
   "outputs": [
    {
     "name": "stdout",
     "output_type": "stream",
     "text": [
      "['red', 'green', 'blue']\n",
      "<class 'list'>\n",
      "['red', 'green', 'blue', 'gold']\n",
      "['red', 'black', 'green', 'blue', 'gold']\n",
      "['red', 'black', 'green', 'blue', 'gold', 'white', 'gray']\n",
      "['red', 'black', 'green', 'blue', 'gold', 'white', 'gray', 'purple', 'red']\n"
     ]
    }
   ],
   "source": [
    "colors = ['red', 'green', 'blue']\n",
    "\n",
    "print(colors)\n",
    "print(type(colors))\n",
    "\n",
    "colors.append('gold')\n",
    "\n",
    "print(colors)\n",
    "colors.insert(1, 'black')\n",
    "print(colors)\n",
    "colors.extend(['white', 'gray']) #list 와 list를 합칠 때 사용\n",
    "\n",
    "print(colors)\n",
    "\n",
    "colors += ['purple']\n",
    "colors += ['red']\n",
    "\n",
    "print(colors)"
   ]
  },
  {
   "cell_type": "code",
   "execution_count": 12,
   "id": "38c2fcda",
   "metadata": {},
   "outputs": [
    {
     "name": "stdout",
     "output_type": "stream",
     "text": [
      "7\n",
      "7\n",
      "7\n",
      "2\n",
      "red\n",
      "purple\n",
      "gray\n",
      "['red', 'black', 'green', 'blue', 'gold', 'white']\n"
     ]
    }
   ],
   "source": [
    "colors = ['red', 'black', 'green', 'blue', 'gold', 'white', 'gray', 'purple', 'red']\n",
    "\n",
    "print(colors.index('purple'))\n",
    "print(colors.index('purple', 1)) #1부터 purple을 찾아라\n",
    "print(colors.index('purple', 4, 8)) #4~8까지 purple을 찾아라\n",
    "#purple은 7번째에 위치해 있으니까 아래 결과도 모두 7이 나온 것\n",
    "\n",
    "print(colors.count('red'))\n",
    "print(colors.pop())\n",
    "print(colors.pop())\n",
    "print(colors.pop())\n",
    "print(colors)"
   ]
  },
  {
   "cell_type": "code",
   "execution_count": 13,
   "id": "7cbdbf10",
   "metadata": {},
   "outputs": [
    {
     "name": "stdout",
     "output_type": "stream",
     "text": [
      "{'apple': 'red', 'banana': 'yellow'}\n",
      "red\n",
      "{'apple': 'red', 'banana': 'yellow', 'cherry': 'red'}\n",
      "{'apple': 'green', 'banana': 'yellow', 'cherry': 'red'}\n",
      "color.items()\n",
      "('apple', 'green')\n",
      "color.items()\n",
      "('banana', 'yellow')\n",
      "color.items()\n",
      "('cherry', 'red')\n",
      "color.items() - k, v\n",
      "apple green\n",
      "color.items() - k, v\n",
      "banana yellow\n",
      "color.items() - k, v\n",
      "cherry red\n",
      "color.keys()\n",
      "apple\n",
      "color.keys()\n",
      "banana\n",
      "color.keys()\n",
      "cherry\n",
      "color.values()\n",
      "green\n",
      "color.values()\n",
      "yellow\n",
      "color.values()\n",
      "red\n",
      "<class 'dict_keys'>\n",
      "['apple', 'banana', 'cherry']\n"
     ]
    }
   ],
   "source": [
    "color = {\"apple\": \"red\", \"banana\": \"yellow\"} #key: value\n",
    "print(color) #현재 Hash정보\n",
    "print(color[\"apple\"])\n",
    "\n",
    "color[\"cherry\"] = \"red\"\n",
    "print(color)\n",
    "\n",
    "color[\"apple\"] = \"green\"\n",
    "print(color)\n",
    "\n",
    "for c in color.items():\n",
    "    print(\"color.items()\")\n",
    "    print(c)\n",
    "    \n",
    "for k, v in color.items():\n",
    "    print(\"color.items() - k, v\")\n",
    "    print(k, v)\n",
    "    \n",
    "for k in color.keys():\n",
    "    print(\"color.keys()\")\n",
    "    print(k)\n",
    "    \n",
    "for v in color.values():\n",
    "    print(\"color.values()\")\n",
    "    print(v)\n",
    "    \n",
    "print(type(color.keys())) #dictionary type 의 key 값이라고 출력되었다.\n",
    "print(list(color.keys()))\n",
    "\n",
    "#dictionary는 중괄호, list는 대괄호에 들어간다."
   ]
  },
  {
   "cell_type": "code",
   "execution_count": null,
   "id": "f4ebf515",
   "metadata": {},
   "outputs": [],
   "source": [
    "#파이썬에서 사용하는 제어문"
   ]
  },
  {
   "cell_type": "code",
   "execution_count": 14,
   "id": "5cc6d3a9",
   "metadata": {},
   "outputs": [
    {
     "name": "stdout",
     "output_type": "stream",
     "text": [
      "val 은 5보다 크다\n"
     ]
    }
   ],
   "source": [
    "#파이썬은 중괄호를 통해 스코핑하지 않는다.\n",
    "#오로지 탭키를 통해서만 스코핑을 한다.\n",
    "#그렇기 때문에 들여쓰기를 잘 적용해줘야 함\n",
    "val = 10\n",
    "if val > 5:\n",
    "    print(\"val 은 5보다 크다\")"
   ]
  },
  {
   "cell_type": "code",
   "execution_count": 15,
   "id": "94436719",
   "metadata": {},
   "outputs": [
    {
     "name": "stdout",
     "output_type": "stream",
     "text": [
      "banana\n"
     ]
    }
   ],
   "source": [
    "money = 10\n",
    "if money > 100:\n",
    "    item = \"apple\"\n",
    "else:\n",
    "    item = \"banana\"\n",
    "    \n",
    "print(item)"
   ]
  },
  {
   "cell_type": "code",
   "execution_count": 21,
   "id": "e6fc541c",
   "metadata": {},
   "outputs": [
    {
     "name": "stdout",
     "output_type": "stream",
     "text": [
      "점수를 입력하시오: 99\n",
      "등급은: A\n"
     ]
    }
   ],
   "source": [
    "score = int(input(('점수를 입력하시오: '))) #글자를 받으면 무조건 문자로 받음. 타입변환 해주기 위해 int 붙임\n",
    "if 90 <= score <= 100:\n",
    "    grade = \"A\"\n",
    "elif 80 <= score < 90:\n",
    "    grade = \"B\"\n",
    "elif 70 <= score < 80:\n",
    "    grade = \"C\"\n",
    "elif 60 <= score < 70:\n",
    "    grade = \"D\"\n",
    "else:\n",
    "    grade = \"F\"\n",
    "    \n",
    "print(\"등급은: \" + grade)"
   ]
  },
  {
   "cell_type": "code",
   "execution_count": 22,
   "id": "b797a7ab",
   "metadata": {},
   "outputs": [
    {
     "name": "stdout",
     "output_type": "stream",
     "text": [
      "아이템: 1\n",
      "아이템: 2\n",
      "아이템: 3\n",
      "아이템: 4\n",
      "아이템: 5\n"
     ]
    }
   ],
   "source": [
    "numList = [1, 2, 3, 4, 5, 6, 7, 8, 9, 10]\n",
    "\n",
    "for i in numList:\n",
    "    if i > 5:\n",
    "        break\n",
    "        \n",
    "    print(\"아이템: {0}\".format(i))\n",
    "    \n",
    "    #vue에서 사용했던 foreach 연장선의 느낌"
   ]
  },
  {
   "cell_type": "code",
   "execution_count": 26,
   "id": "9d2ecf2b",
   "metadata": {},
   "outputs": [
    {
     "name": "stdout",
     "output_type": "stream",
     "text": [
      "아이템: 1, 2\n",
      "아이템: 3, 6\n",
      "아이템: 5, 10\n",
      "아이템: 7, 14\n",
      "아이템: 9, 18\n"
     ]
    }
   ],
   "source": [
    "numList = [1, 2, 3, 4, 5, 6, 7, 8, 9, 10]\n",
    "\n",
    "for i in numList:\n",
    "    if i % 2 == 0: #2의 배수면 넘어간다.\n",
    "        continue\n",
    "        \n",
    "    print(\"아이템: {0}, {1}\".format(i, i*2))\n",
    "    \n",
    "    #파이썬은 데이터타입이 없다? X / 알아서 배치를 한다. O"
   ]
  },
  {
   "cell_type": "code",
   "execution_count": 27,
   "id": "bf5c482d",
   "metadata": {},
   "outputs": [
    {
     "name": "stdout",
     "output_type": "stream",
     "text": [
      "[0, 1, 2, 3, 4, 5, 6, 7, 8, 9]\n"
     ]
    }
   ],
   "source": [
    "print(list(range(10))) #10개 생성"
   ]
  },
  {
   "cell_type": "code",
   "execution_count": 28,
   "id": "279af0dc",
   "metadata": {},
   "outputs": [
    {
     "name": "stdout",
     "output_type": "stream",
     "text": [
      "[5, 6, 7, 8, 9]\n"
     ]
    }
   ],
   "source": [
    "print(list(range(5, 10))) #5~10전 까지"
   ]
  },
  {
   "cell_type": "code",
   "execution_count": 29,
   "id": "0f0f67f1",
   "metadata": {},
   "outputs": [
    {
     "name": "stdout",
     "output_type": "stream",
     "text": [
      "[10, 9, 8, 7, 6, 5, 4, 3, 2, 1]\n"
     ]
    }
   ],
   "source": [
    "print(list(range(10, 0, -1))) #10부터 0전 까지 숫자범주가 1씩 내려가도록"
   ]
  },
  {
   "cell_type": "code",
   "execution_count": 30,
   "id": "e5b35f7e",
   "metadata": {},
   "outputs": [
    {
     "name": "stdout",
     "output_type": "stream",
     "text": [
      "[10, 12, 14, 16, 18]\n"
     ]
    }
   ],
   "source": [
    "print(list(range(10, 20, 2))) #10부터 20전 까지 숫자 범주 숫자가 2씩 증가하도록"
   ]
  },
  {
   "cell_type": "code",
   "execution_count": 31,
   "id": "2863f9b3",
   "metadata": {},
   "outputs": [
    {
     "name": "stdout",
     "output_type": "stream",
     "text": [
      "10\n",
      "12\n",
      "14\n",
      "16\n",
      "18\n"
     ]
    }
   ],
   "source": [
    "for i in range(10, 20, 2):\n",
    "    print(i)"
   ]
  },
  {
   "cell_type": "code",
   "execution_count": 32,
   "id": "a52d1141",
   "metadata": {},
   "outputs": [
    {
     "name": "stdout",
     "output_type": "stream",
     "text": [
      "인덱스: 0, 값: Apple\n",
      "인덱스: 1, 값: Orange\n",
      "인덱스: 2, 값: Banana\n"
     ]
    }
   ],
   "source": [
    "strList = ['Apple', 'Orange', 'Banana']\n",
    "\n",
    "for i in range(len(strList)):\n",
    "    print(\"인덱스: {0}, 값: {1}\" .format(i, strList[i]))"
   ]
  },
  {
   "cell_type": "code",
   "execution_count": 33,
   "id": "71d29cd5",
   "metadata": {},
   "outputs": [
    {
     "name": "stdout",
     "output_type": "stream",
     "text": [
      "[1, 4, 9, 16, 25]\n"
     ]
    }
   ],
   "source": [
    "numList = list(range(1,6)) #1부터 6전까지\n",
    "print([i ** 2 for i in numList]) #**2 는 제곱값 / 3을 적으면 3제곱 4를 적으면 4제곱이 된다."
   ]
  },
  {
   "cell_type": "code",
   "execution_count": 34,
   "id": "91b9d638",
   "metadata": {},
   "outputs": [
    {
     "name": "stdout",
     "output_type": "stream",
     "text": [
      "[5, 6, 10]\n"
     ]
    }
   ],
   "source": [
    "strList = (\"apple\", \"banana\", \"strawberry\")\n",
    "print([len(i) for i in strList]) #각 문자들의 길이를 출력"
   ]
  },
  {
   "cell_type": "code",
   "execution_count": 35,
   "id": "d656cc88",
   "metadata": {},
   "outputs": [
    {
     "name": "stdout",
     "output_type": "stream",
     "text": [
      "['banana', 'strawberry', 'orange']\n"
     ]
    }
   ],
   "source": [
    "strList = (\"apple\", \"banana\", \"strawberry\", \"kiwi\", \"orange\")\n",
    "print([i for i in strList if len(i) > 5]) #5글자 이상 되는 것만 출력해라"
   ]
  },
  {
   "cell_type": "code",
   "execution_count": 37,
   "id": "1d75bf59",
   "metadata": {},
   "outputs": [
    {
     "name": "stdout",
     "output_type": "stream",
     "text": [
      "결과: 25\n",
      "결과: 30\n"
     ]
    }
   ],
   "source": [
    "numList = [10, 25, 30]\n",
    "\n",
    "#def 는 함수 - 매서드(파이썬은 클래스 없이 매서드 만들기가 가능함)\n",
    "def get_bigger_than20(i):\n",
    "    return i > 20 #20보다 큰 숫자를 return하도록 하는 매서드임.\n",
    "\n",
    "iterList = filter(get_bigger_than20, numList)\n",
    "for i in iterList:\n",
    "    print(\"결과: {0}\".format(i))"
   ]
  },
  {
   "cell_type": "code",
   "execution_count": 39,
   "id": "da3fe3e3",
   "metadata": {},
   "outputs": [
    {
     "name": "stdout",
     "output_type": "stream",
     "text": [
      "결과: 25\n",
      "결과: 30\n"
     ]
    }
   ],
   "source": [
    "iterList = filter(lambda i: i > 20, numList) #여기에서 lambda는 keyword이다(for문, if문 처럼...) keyword는 짙은 초록으로 나타나고 있다.\n",
    "for i in iterList:\n",
    "    print(\"결과: {0}\".format(i))"
   ]
  },
  {
   "cell_type": "code",
   "execution_count": 40,
   "id": "4637a00b",
   "metadata": {},
   "outputs": [
    {
     "name": "stdout",
     "output_type": "stream",
     "text": [
      "결과: 11\n",
      "결과: 12\n",
      "결과: 13\n"
     ]
    }
   ],
   "source": [
    "numList = [1, 2, 3]\n",
    "\n",
    "def add10(i):\n",
    "    return i + 10\n",
    "\n",
    "for i in map (add10, numList):\n",
    "    print(\"결과: {0}\".format(i)) #각개로 출력"
   ]
  },
  {
   "cell_type": "code",
   "execution_count": 41,
   "id": "60ad4426",
   "metadata": {},
   "outputs": [
    {
     "name": "stdout",
     "output_type": "stream",
     "text": [
      "[11, 12, 13]\n"
     ]
    }
   ],
   "source": [
    "retList = list(map((lambda i : i + 10), numList)) #하나의 list로 만들기\n",
    "print(retList)"
   ]
  },
  {
   "cell_type": "code",
   "execution_count": null,
   "id": "45466b81",
   "metadata": {},
   "outputs": [],
   "source": [
    "#filter는 for문에 map처럼 바로 사용할 수 없는 것인가?\n",
    "#쓸 수 있지만 의미 전달이 이상하게 될 것이다.\n",
    "#걸러낼 것이 있다면 filter 연산할 것이 있다면 map을 사용"
   ]
  },
  {
   "cell_type": "code",
   "execution_count": null,
   "id": "62a5d05e",
   "metadata": {},
   "outputs": [],
   "source": []
  },
  {
   "cell_type": "code",
   "execution_count": null,
   "id": "a0271ff9",
   "metadata": {},
   "outputs": [],
   "source": []
  },
  {
   "cell_type": "code",
   "execution_count": null,
   "id": "96b493c3",
   "metadata": {},
   "outputs": [],
   "source": []
  },
  {
   "cell_type": "code",
   "execution_count": null,
   "id": "2553cc03",
   "metadata": {},
   "outputs": [],
   "source": []
  },
  {
   "cell_type": "code",
   "execution_count": null,
   "id": "b7a6fe40",
   "metadata": {},
   "outputs": [],
   "source": []
  }
 ],
 "metadata": {
  "kernelspec": {
   "display_name": "Python 3 (ipykernel)",
   "language": "python",
   "name": "python3"
  },
  "language_info": {
   "codemirror_mode": {
    "name": "ipython",
    "version": 3
   },
   "file_extension": ".py",
   "mimetype": "text/x-python",
   "name": "python",
   "nbconvert_exporter": "python",
   "pygments_lexer": "ipython3",
   "version": "3.9.12"
  }
 },
 "nbformat": 4,
 "nbformat_minor": 5
}
