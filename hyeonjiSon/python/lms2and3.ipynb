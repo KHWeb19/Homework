{
 "cells": [
  {
   "cell_type": "code",
   "execution_count": null,
   "id": "200fe126",
   "metadata": {},
   "outputs": [],
   "source": [
    "#변수의 이름(좌항) = 저장할 값(우항)\n",
    "#변수할당 (variable assignment)\n"
   ]
  },
  {
   "cell_type": "code",
   "execution_count": 16,
   "id": "a593fb10",
   "metadata": {},
   "outputs": [
    {
     "name": "stdout",
     "output_type": "stream",
     "text": [
      "100\n",
      "200\n"
     ]
    }
   ],
   "source": [
    "a = 100\n",
    "b = 200\n",
    "\n",
    "print(a)\n",
    "#del b #변수 b를 삭제하였음\n",
    "print(b) #이 경우 b라는 이름의 변수는 선언되지 않았다는 NameError가 확인됨"
   ]
  },
  {
   "cell_type": "code",
   "execution_count": 6,
   "id": "104528a3",
   "metadata": {},
   "outputs": [
    {
     "name": "stdout",
     "output_type": "stream",
     "text": [
      "100 200\n",
      "200 200\n"
     ]
    }
   ],
   "source": [
    "a, b = 100, 200\n",
    "print(a, b)\n",
    "\n",
    "a = b #b에 할당된 200이란 값을 a에게 할당해라 라는 뜻\n",
    "\n",
    "print(a, b)"
   ]
  },
  {
   "cell_type": "code",
   "execution_count": 7,
   "id": "88ea1d55",
   "metadata": {},
   "outputs": [
    {
     "name": "stdout",
     "output_type": "stream",
     "text": [
      "200 300\n"
     ]
    }
   ],
   "source": [
    "a, b = 100, 200\n",
    "a, b = b, a+b #순차적으로 값이 할당되지 않기 때문에 a가 참조하고 있던 값 100이 할당되어 400이 아닌 300\n",
    "\n",
    "print(a, b)"
   ]
  },
  {
   "cell_type": "code",
   "execution_count": null,
   "id": "1de418f6",
   "metadata": {},
   "outputs": [],
   "source": [
    "#연산자들 간의 우선순위\n",
    "#대입 연산자인 = 는 우선순위가 가장 마지막이기 때문에 a, b = b, a+b  에서 +가 더 먼저 연산된 것임"
   ]
  },
  {
   "cell_type": "code",
   "execution_count": null,
   "id": "563dedb9",
   "metadata": {},
   "outputs": [],
   "source": [
    "#문자열 변수 사용"
   ]
  },
  {
   "cell_type": "code",
   "execution_count": 9,
   "id": "d6b40d71",
   "metadata": {},
   "outputs": [
    {
     "name": "stdout",
     "output_type": "stream",
     "text": [
      "Hello World!\n"
     ]
    }
   ],
   "source": [
    "text = \"Hello World!\"\n",
    "#변수의 이름 = 문자열(쌍따옴표 혹은 따옴표 사용)\n",
    "\n",
    "print(text)"
   ]
  },
  {
   "cell_type": "code",
   "execution_count": 12,
   "id": "503cfc20",
   "metadata": {},
   "outputs": [
    {
     "name": "stdout",
     "output_type": "stream",
     "text": [
      "Welcome to Python\n",
      "Welcome to Python\n",
      "Welcome to Python\n",
      "Welcome to Python\n",
      "Welcome to Python\n",
      "Welcome to Python\n",
      "Welcome to Python\n",
      "Welcome to Python\n",
      "Welcome to Python\n",
      "Welcome to Python\n",
      "\n"
     ]
    }
   ],
   "source": [
    "text = \"Welcome to Python\"\n",
    "\n",
    "print((text + \"\\n\") * 10)"
   ]
  },
  {
   "cell_type": "code",
   "execution_count": null,
   "id": "69ac4613",
   "metadata": {},
   "outputs": [],
   "source": [
    "#변수를 사용하는 연습\n",
    "#이름, 핸드폰 번호, 거주지 : ex) 서울시 강남구..."
   ]
  },
  {
   "cell_type": "code",
   "execution_count": 13,
   "id": "93f0fddb",
   "metadata": {},
   "outputs": [
    {
     "name": "stdout",
     "output_type": "stream",
     "text": [
      "손현지 010-3801-9326 서울시 양천구 목 2동\n"
     ]
    }
   ],
   "source": [
    "name = \"손현지\"\n",
    "pNum = \"010-3801-9326\"\n",
    "address = \"서울시 양천구 목 2동\"\n",
    "\n",
    "print(name, pNum, address)"
   ]
  },
  {
   "cell_type": "code",
   "execution_count": null,
   "id": "fe92519e",
   "metadata": {},
   "outputs": [],
   "source": [
    "#변수의 명칭 '식별자'\n",
    "#'식별자'를 명명할 때 지켜야하는 규칙\n",
    "   # 1. 변수의 이름은 문자, 숫자, 밑줄(_)을 포함할 수 있다. 그 외의 특수문자는 포함할 수 없다.\n",
    "   # 2. 변수의 이름은 숫자로 시작할 수 없다. 변수의 중간이나 뒤에 들어가는 건 가능.\n",
    "   # 3. 변수의 이름 안에 공백을 포함할 수 없다. 여러 단어들이 합쳐진 변수를 만들때는 밑줄이나 대문자 사용하여 가독성을 챙기자\n",
    "   # 4. 예약어(keyword)로 이미 지정되어있는 단어들은 변수명으로 사용할 수 없다."
   ]
  },
  {
   "cell_type": "code",
   "execution_count": 15,
   "id": "481405b7",
   "metadata": {},
   "outputs": [],
   "source": [
    "#변수 이름짓기 올바른 예\n",
    "apple = \"사과\"\n",
    "apples = \"사과들\"\n",
    "apple3 = \"사과3개\"\n",
    "app3le = \"사3과\"\n",
    "# red apple = \"빨간 사과\" <SyntaxError가 발생한다.\n",
    "# _밑줄을 사용하는 것을 snake_case라고 부른다.\n",
    "\n",
    "veryDeliciousRedApple = \"아주 맛있는 빨간 사과\""
   ]
  },
  {
   "cell_type": "code",
   "execution_count": null,
   "id": "c14063c1",
   "metadata": {},
   "outputs": [],
   "source": [
    "#3강. 숫자 자료형 활용"
   ]
  },
  {
   "cell_type": "code",
   "execution_count": 18,
   "id": "8fd708c0",
   "metadata": {},
   "outputs": [
    {
     "name": "stdout",
     "output_type": "stream",
     "text": [
      "<class 'int'> <class 'int'> <class 'int'>\n"
     ]
    }
   ],
   "source": [
    "#정수를 표현하는 int형 (+ 양수, - 음수 그리고 0)\n",
    "\n",
    "a = 5\n",
    "b = -5\n",
    "c = 0\n",
    "\n",
    "print(type(a), type(b), type(c)) #type <-자료형을 확인할 수 있다."
   ]
  },
  {
   "cell_type": "code",
   "execution_count": 20,
   "id": "6351ae35",
   "metadata": {},
   "outputs": [
    {
     "name": "stdout",
     "output_type": "stream",
     "text": [
      "<class 'float'> <class 'float'> <class 'float'>\n",
      "123456.7\n"
     ]
    }
   ],
   "source": [
    "#실수를 표현하는 float = 부동소수점 (소수점 이하를 가지는 수)\n",
    "\n",
    "d = 5.5\n",
    "e = -5.5\n",
    "f = 0.0\n",
    "\n",
    "print(type(d), type(e), type(f)) #type <-자료형을 확인할 수 있다.\n",
    "\n",
    "#과학적 표기법\n",
    "g = 1.234567e5\n",
    "\n",
    "print(g)"
   ]
  },
  {
   "cell_type": "code",
   "execution_count": null,
   "id": "a20b5da4",
   "metadata": {},
   "outputs": [],
   "source": [
    "#complex 자료형 (복소수와 복소수 연산들이 필요할 때 사용하는 자료형)\n",
    "#일반 수학에서의 복소수 a + bi\n",
    "#파이썬에서의 복소수  a + bj"
   ]
  },
  {
   "cell_type": "code",
   "execution_count": 29,
   "id": "a2453587",
   "metadata": {},
   "outputs": [
    {
     "name": "stdout",
     "output_type": "stream",
     "text": [
      "String \"Data\" Type\n",
      "String \"escape\" Type\n",
      "String escape \t Type\n",
      "String\n",
      "escape\n",
      "Type\n"
     ]
    }
   ],
   "source": [
    "#파이썬은 문자, 문자열을 모두 string으로 처리한다.\n",
    "text = 'String \"Data\" Type' #작은따옴표와 큰 따옴표를 동시에 활용하고 싶은 경우엔 이런 식으로\n",
    "print(text)\n",
    "\n",
    "text1 = \"String \\\"escape\\\" Type\"\n",
    "print(text1)\n",
    "\n",
    "#탈출문자\n",
    "# \\', \\\", \\\\, \\n(개행문자)\n",
    "#\\r(케이지 리턴: 커서를 가장 앞으로 이동시켜준다. 자주 사용되진 않음), \\t(탭문자: 커서를 다음 여덟번째 위치로 이동시켜 공백을 만듦)\n",
    "\n",
    "text2 = \"String escape \\t Type\"\n",
    "print(text2)\n",
    "\n",
    "text3 = '''String\n",
    "escape\n",
    "Type''' #개행 태그 없이도 개행이 먹힘\n",
    "print(text3)"
   ]
  },
  {
   "cell_type": "code",
   "execution_count": 31,
   "id": "8ad72aa9",
   "metadata": {},
   "outputs": [
    {
     "name": "stdout",
     "output_type": "stream",
     "text": [
      "Python is EasyPython is EasyPython is Easy\n",
      "Python is Easyand Powerful\n"
     ]
    }
   ],
   "source": [
    "text = \"Python is Easy\"\n",
    "text2 = \"and Powerful\"\n",
    "\n",
    "print(3 * text)\n",
    "print (text + text2)"
   ]
  },
  {
   "cell_type": "code",
   "execution_count": 34,
   "id": "a3ddc292",
   "metadata": {},
   "outputs": [
    {
     "name": "stdout",
     "output_type": "stream",
     "text": [
      "10!20\n",
      "10 20\t"
     ]
    }
   ],
   "source": [
    "#print 함수\n",
    "#우리가 출력하고자 하는 구문을 출력해주는 파이썬의 내장 함수\n",
    "\n",
    "a = 10\n",
    "b = 20\n",
    "\n",
    "print(a, b, sep = '!') #seperate\n",
    "#print(a, b, end = '\\n') #end 는 기본으로 개행 문자가 들어있음"
   ]
  },
  {
   "cell_type": "code",
   "execution_count": null,
   "id": "70915b5b",
   "metadata": {},
   "outputs": [],
   "source": [
    "#내장함수와 메서드 는 차후 더 자세히 사용\n",
    "#함수 : 어떠한 기능을 가진 코드\n",
    "#메서드 : 앞에 .(참조연산자)가 붙어있는 경우.\n",
    "   # str.upper(): <-문자열(str)을 참조하는 upper함수 = 메서드"
   ]
  },
  {
   "cell_type": "code",
   "execution_count": 35,
   "id": "a6d109d0",
   "metadata": {},
   "outputs": [
    {
     "name": "stdout",
     "output_type": "stream",
     "text": [
      "True False\n"
     ]
    }
   ],
   "source": [
    "#boolean = bool형 논리연산자\n",
    "is_true = True\n",
    "is_false = False\n",
    "\n",
    "print(is_true, is_false)"
   ]
  },
  {
   "cell_type": "code",
   "execution_count": null,
   "id": "ab2404d5",
   "metadata": {},
   "outputs": [],
   "source": [
    "#False로 판별되는 값\n",
    "# 다른 자료형에도 참과 거짓은 존재한다.\n",
    "# 거짓인 경우를 제외하면 모두가 참이라고 생각하면 됨\n",
    "# false, 0에 해당하는 값, 빈 문자( [], (), {}안이 비어있는 Null인 경우 )\n",
    "#\n"
   ]
  },
  {
   "cell_type": "code",
   "execution_count": null,
   "id": "fe4c3d8d",
   "metadata": {},
   "outputs": [],
   "source": []
  }
 ],
 "metadata": {
  "kernelspec": {
   "display_name": "Python 3 (ipykernel)",
   "language": "python",
   "name": "python3"
  },
  "language_info": {
   "codemirror_mode": {
    "name": "ipython",
    "version": 3
   },
   "file_extension": ".py",
   "mimetype": "text/x-python",
   "name": "python",
   "nbconvert_exporter": "python",
   "pygments_lexer": "ipython3",
   "version": "3.9.12"
  }
 },
 "nbformat": 4,
 "nbformat_minor": 5
}
