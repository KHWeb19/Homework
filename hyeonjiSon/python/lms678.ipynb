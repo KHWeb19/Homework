{
 "cells": [
  {
   "cell_type": "code",
   "execution_count": null,
   "id": "31cfc632",
   "metadata": {},
   "outputs": [],
   "source": [
    "#문자열 메서드\n",
    "#내장함수\n",
    "  #\n",
    "#외장함수\n",
    "  #"
   ]
  },
  {
   "cell_type": "code",
   "execution_count": 22,
   "id": "e25a9c0e",
   "metadata": {},
   "outputs": [
    {
     "name": "stdout",
     "output_type": "stream",
     "text": [
      "14\n",
      "Www.google.com\n",
      "WWW.GOOGLE.COM\n",
      "www.google.com\n"
     ]
    }
   ],
   "source": [
    "text = \"www.GOOGLE.com\"\n",
    "\n",
    "#파이썬의 내장함수 len = length의 약자로 길이를 나타냄\n",
    "print(len(text))\n",
    "\n",
    "txtCapitalize = text.capitalize() #문자열 가장 첫번째 글자를 대문자로 변환해줌\n",
    "print(txtCapitalize)\n",
    "\n",
    "txtUpper = text.upper() #문자열 전체를 대문자로 변경해줌\n",
    "txtLower = text.lower() #문자열 전체를 소문자로 변경\n",
    "print(txtUpper)\n",
    "print(txtLower)"
   ]
  },
  {
   "cell_type": "code",
   "execution_count": 15,
   "id": "f605dc76",
   "metadata": {},
   "outputs": [
    {
     "name": "stdout",
     "output_type": "stream",
     "text": [
      "2\n",
      "1\n",
      "7\n",
      "4\n"
     ]
    }
   ],
   "source": [
    "#문자열에서 검색을 하는 기능 count, find, index 메서드를 사용할 수 있다.\n",
    "\n",
    "gCnt = text.count('G') @찾는 문자의 갯수를 반환\n",
    "goCnt = text.count('GO')\n",
    "print(gCnt)\n",
    "print(goCnt)\n",
    "\n",
    "gFind = text.find('G', 5) # G의 index 번호, 즉 위치를 반환해준다.\n",
    "                     #, 5 를 넣어주면 5번 index 부터의 G를 찾아준다.\n",
    "print(gFind)\n",
    "\n",
    "gIdx = text.index('G') #찾는 문자의 인덱스를 반환\n",
    "print(gIdx)\n",
    "\n",
    "#find와 index는 찾는 요소가 없는 경우 차이가 보인다.\n",
    "   #find는 찾는 요소가 없는 경우 -1이라는 결과를 반환\n",
    "      #따라서 검색해야하는 문자가 있는지 없는지 모르는 경우에는 find를 사용해야 에러를 피할 수 있다.\n",
    "   #index는 Value Error가 발생하게 된다."
   ]
  },
  {
   "cell_type": "code",
   "execution_count": 19,
   "id": "c3c1c738",
   "metadata": {},
   "outputs": [
    {
     "name": "stdout",
     "output_type": "stream",
     "text": [
      "www.NAVER.com\n",
      "['www.GOOGLE.com']\n",
      "['www', 'GOOGLE', 'com']\n",
      "['www.G', 'GLE.com']\n"
     ]
    }
   ],
   "source": [
    "txtNaver = text.replace(\"GOOGLE\", \"NAVER\") #(바꾸고 싶은 내용, 치환할 내용)\n",
    "print(txtNaver)\n",
    "\n",
    "print(text.split())\n",
    "print(text.split('.')) #점이 들어가는 자리마다 ,가 바뀌어서 text는 하나의 문자열이 아닌 각각의 문자열로 구분되었다.\n",
    "print(text.split('OO'))"
   ]
  },
  {
   "cell_type": "code",
   "execution_count": 21,
   "id": "ae48b118",
   "metadata": {},
   "outputs": [
    {
     "name": "stdout",
     "output_type": "stream",
     "text": [
      "       www.google.com        \n",
      "www.google.com\n",
      "w w w w w w w\n"
     ]
    }
   ],
   "source": [
    "#strip 좌우 공백을 없애주는 메서드\n",
    "\n",
    "txt = \"       www.google.com        \"\n",
    "print(txt)\n",
    "\n",
    "stp = (txt.strip())\n",
    "print(stp) #앞뒤의 공백이 모두 사라져서 출력되었다.\n",
    "\n",
    "txt2 = \"w w w w w w w \"\n",
    "print(txt2.strip()) #문자 중간중간에 있는 공백은 사라지지 않는다! 오로지 문자 양 옆의 공백만!"
   ]
  },
  {
   "cell_type": "code",
   "execution_count": null,
   "id": "b8ea0caa",
   "metadata": {},
   "outputs": [],
   "source": [
    "#파이썬의 시퀀스 자료형"
   ]
  },
  {
   "cell_type": "code",
   "execution_count": 2,
   "id": "0f47a8f3",
   "metadata": {},
   "outputs": [
    {
     "name": "stdout",
     "output_type": "stream",
     "text": [
      "[1, 2, 3, 4]\n",
      "['a', 'b', 'c']\n",
      "[True, False]\n",
      "[1, 'a', True]\n"
     ]
    }
   ],
   "source": [
    "#List\n",
    "  #[] 안에 ,로 구분\n",
    "listA = [1, 2, 3, 4]\n",
    "listB = [\"a\", \"b\", \"c\"] #모든 자료형 사용 가능\n",
    "listC = [True, False]\n",
    "listD = [1, \"a\", True] #여러개의 자료형도 요소로 포함 가능\n",
    "\n",
    "print(listA) #출력도 list 형으로 출력\n",
    "print(listB) \n",
    "print(listC) \n",
    "print(listD) "
   ]
  },
  {
   "cell_type": "code",
   "execution_count": 9,
   "id": "defe0b79",
   "metadata": {},
   "outputs": [
    {
     "name": "stdout",
     "output_type": "stream",
     "text": [
      "1\n",
      "[4, 5]\n",
      "[2, 3, 4, 5, 6, 7]\n",
      "[5, 6]\n"
     ]
    }
   ],
   "source": [
    "#list를 사용한 인덱싱과 슬라이싱\n",
    "numbers = [1, 2, 3, 4, 5, 6, 7]\n",
    "\n",
    "print(numbers[0]) #인덱싱\n",
    "print(numbers[3:5]) #슬라이싱\n",
    "print(numbers[1:])\n",
    "print(numbers[-3:-1])"
   ]
  },
  {
   "cell_type": "code",
   "execution_count": 17,
   "id": "847b24e3",
   "metadata": {},
   "outputs": [
    {
     "name": "stdout",
     "output_type": "stream",
     "text": [
      "Java\n",
      "J\n",
      "th\n",
      "['Java', 'C++', 'Python', 'Go']\n",
      "['Java', 'C#', 'Python3', 'Go']\n",
      "['Java', 'C#', 'Python2', 'Python3', 'Go']\n"
     ]
    }
   ],
   "source": [
    "listLan = [\"Java\", \"C\", \"Python\", \"Go\"]\n",
    "print(listLan[0])\n",
    "print(listLan[0][0]) #0번째 요소(인덱스)에서 0번째글자를 뽑아주세요\n",
    "print(listLan[2][2:4])\n",
    "\n",
    "listLan[1] = \"C++\" #인덱싱을 통한 수정\n",
    "print(listLan)\n",
    "\n",
    "listLan[1:3] = [\"C#\", \"Python3\"] #슬라이싱을 이용한 수정\n",
    "print(listLan)\n",
    "\n",
    "listLan[1:3] = [\"C#\", \"Python2\", \"Python3\"] #슬라이싱을 이용한 수정 + 추가도 가능\n",
    "print(listLan)"
   ]
  },
  {
   "cell_type": "code",
   "execution_count": 24,
   "id": "5b9871cc",
   "metadata": {},
   "outputs": [
    {
     "name": "stdout",
     "output_type": "stream",
     "text": [
      "13\n",
      "['Java', 'C#', 'Python2', 'Python3', 'Go', 'Ruby', 'Ruby', 'Ruby', [1, 2, 3], 'Ruby', 4, 5, 6, 'Ruby']\n",
      "['Java', 'C#', 'Python2', 'Python3', 'Go', 'Ruby', 'Ruby', 'Ruby', [1, 2, 3], 'Ruby', 4, 5, 6, 'Ruby', 4, 5, 6]\n",
      "['Java', 'C#', 'Python2', 'Python3', 'Go', 'Ruby', 'Ruby', 'Ruby', [1, 2, 3], 'Ruby', 4, 5, 6, 'Ruby', 4, 5, 6, 'J', 'a', 'v', 'a', 'S', 'c', 'r', 'i', 'p', 't']\n"
     ]
    }
   ],
   "source": [
    "#len함수\n",
    "print(len(listLan)) #list의 요소가 몇개인지 숫자를 뽑아준다\n",
    "\n",
    "#append() : 리스트 맨 뒤, 제일 마지막 인덱스(-1)에 새로운 요소를 추가\n",
    "listLan.append(\"Ruby\")\n",
    "print(listLan)\n",
    "\n",
    "listLan.extend([4, 5, 6])\n",
    "print(listLan)\n",
    "\n",
    "listLan.extend(\"JavaScript\") #문자 하나하나가 요소로 추가되었다.\n",
    "print(listLan)"
   ]
  },
  {
   "cell_type": "code",
   "execution_count": 31,
   "id": "96facfcc",
   "metadata": {},
   "outputs": [
    {
     "name": "stdout",
     "output_type": "stream",
     "text": [
      "['R', 'Java', 'C', 'Python', 'Go']\n",
      "R\n",
      "['Java', 'C', 'Python', 'Go']\n",
      "['Java', 'C', 'Go']\n",
      "['Java', 'Go']\n"
     ]
    }
   ],
   "source": [
    "#insert(index, data)\n",
    "listLan = [\"Java\", \"C\", \"Python\", \"Go\"]\n",
    "\n",
    "listLan.insert(0, \"R\")\n",
    "print(listLan)\n",
    "\n",
    "#Pop(), remove()\n",
    "\n",
    "print(listLan.pop(0))\n",
    "print(listLan)\n",
    "\n",
    "listLan.remove(\"Python\") #요소를 특정하여 삭제\n",
    "print(listLan)\n",
    "\n",
    "del listLan[1] #인덱스 위치의 요소 삭제\n",
    "print(listLan)"
   ]
  },
  {
   "cell_type": "code",
   "execution_count": 42,
   "id": "2a845b67",
   "metadata": {},
   "outputs": [
    {
     "name": "stdout",
     "output_type": "stream",
     "text": [
      "[1, 20, 100, 160, 3450, 5000]\n",
      "[5000, 3450, 160, 100, 20, 1]\n",
      "[5000, 3450, 160, 100, 20, 1]\n",
      "['홍길동', '김개똥', '이승철']\n",
      "['김개똥', '이승철', '홍길동']\n",
      "['apple', 'banana', 'carrot']\n"
     ]
    }
   ],
   "source": [
    "#list의 정렬\n",
    "\n",
    "numbers = [1, 5000, 160, 100, 20, 3450]\n",
    "\n",
    "numbers.sort() #오름차순으로 순차 정렬해준다.\n",
    "print(numbers)\n",
    "\n",
    "#reverse()\n",
    "\n",
    "numbers.reverse() #list 안의 요소를 역순으로 변경한다.\n",
    "                 #때문에 위에서 sort를 주석처리 하느냐 마느냐에 따라 결과가 다르다! 내림차순 아님!!\n",
    "print(numbers)\n",
    "\n",
    "numbers.sort(reverse = True) #내림차순으로 순차 정렬해준다.\n",
    "print(numbers)\n",
    "\n",
    "names = [\"홍길동\", \"김개똥\", \"이승철\"]\n",
    "\n",
    "print(names)\n",
    "\n",
    "names.sort() #자음순으로 정렬됨\n",
    "print(names)\n",
    "\n",
    "english = [\"banana\", \"apple\", \"carrot\"]\n",
    "\n",
    "english.sort() #알파벳순으로 정렬됨\n",
    "print(english)\n",
    "    "
   ]
  },
  {
   "cell_type": "code",
   "execution_count": 44,
   "id": "586fc628",
   "metadata": {},
   "outputs": [
    {
     "name": "stdout",
     "output_type": "stream",
     "text": [
      "65\n",
      "97\n",
      "12593\n",
      "12622\n",
      "B\n",
      "b\n",
      "ㄲ\n",
      "ㅏ\n"
     ]
    }
   ],
   "source": [
    "\n",
    "#어떻게 알파벳, 자음순으로 정렬 되었을까?\n",
    "   #파이썬의 문자는 유니코드로 처리. 이것이 바이트코드로 변환되어 아스키코드 할당된 숫자 덕분에 가능한 것.\n",
    "    #ord, chr를 통해 파이썬에서도 번호를 확인할 수 있다.\n",
    "    \n",
    "print(ord('A'))\n",
    "print(ord('a'))\n",
    "print(ord('ㄱ'))\n",
    "print(ord('ㅎ'))\n",
    "\n",
    "print(chr(66))\n",
    "print(chr(98))\n",
    "print(chr(12594))\n",
    "print(chr(12623))"
   ]
  },
  {
   "cell_type": "code",
   "execution_count": 46,
   "id": "76706fa1",
   "metadata": {},
   "outputs": [
    {
     "name": "stdout",
     "output_type": "stream",
     "text": [
      "False\n",
      "True\n"
     ]
    }
   ],
   "source": [
    "listLan = [\"Java\", \"C\", \"Python\", \"Go\"]\n",
    "numbers = [1, 5000, 160, 100, 20, 3450]\n",
    "\n",
    "#in연산자와 not in 연산자\n",
    "   #not in은 in과 반대의 역할을 한다.\n",
    "\n",
    "print(50 in numbers) #50이라는 값이 numbers 안에 있나요?\n",
    "print(\"C\" in listLan) #\"C\"라는 요소가 listLan 안에 있나요?"
   ]
  },
  {
   "cell_type": "code",
   "execution_count": 58,
   "id": "2c1915a4",
   "metadata": {},
   "outputs": [
    {
     "name": "stdout",
     "output_type": "stream",
     "text": [
      "[[10, 20, 30], [1, 2, 3]]\n",
      "[10, 20, 30]\n",
      "[1, 2, 3]\n",
      "10\n",
      "3\n",
      "[10, 20]\n",
      "[2, 3]\n"
     ]
    }
   ],
   "source": [
    "#list안에 list가 들어가면 이차원 list(다차원 list)가 된다.\n",
    "\n",
    "tdNumber = [[10, 20, 30], [1, 2, 3]]\n",
    "\n",
    "#인덱싱\n",
    "print(tdNumber)\n",
    "print(tdNumber[0]) #큰 리스트의 첫번째 요소 리스트가 출력됨\n",
    "print(tdNumber[1])\n",
    "\n",
    "#이차원 list는 행과 열의 구조로 이해하면 편하다\n",
    "print(tdNumber[0][0]) #첫번째 요소(리스트)의 첫번째 요소(숫자)를 출력\n",
    "print(tdNumber[1][2])\n",
    "\n",
    "#슬라이싱\n",
    "print(tdNumber[0][0:2])\n",
    "print(tdNumber[1][1:3])"
   ]
  },
  {
   "cell_type": "code",
   "execution_count": 74,
   "id": "26c13485",
   "metadata": {},
   "outputs": [
    {
     "name": "stdout",
     "output_type": "stream",
     "text": [
      "(1, 2, 3, 4)\n",
      "<class 'tuple'>\n",
      "(1, 2, 3, 4, 1, 2, 3, 4)\n",
      "2\n",
      "2\n",
      "1 2 3\n",
      "1 2 3 4\n",
      "2766739539824\n",
      "(1, 2, 3, 4, 5, 6)\n",
      "2766739566944\n"
     ]
    }
   ],
   "source": [
    "#Tuple\n",
    "   #list와 비슷하지만 안의 요소를 수정, 삭제, 추가가 불가능하다. (append, extend 등의 함수 사용 불가)\n",
    "    #인덱싱 코드는 빠름\n",
    "    #속도도 빠르다.\n",
    "    \n",
    "numbers = (1, 2, 3, 4) #소괄호를 사용한다.\n",
    "   #만약 요소가 한개라면 반드시 ,를 마지막에 넣어줘야한다.(괄호를 사용하지 않고 만들때도 마찬가지)\n",
    "print(numbers)\n",
    "print(type(numbers))\n",
    "print(2 * numbers)\n",
    "\n",
    "#이차원 튜플eh 가능\n",
    "\n",
    "print(numbers.index(3)) #인덱스 위치 찾기 가능\n",
    "print(numbers[1])\n",
    "\n",
    "number1 = numbers[0]\n",
    "number2 = numbers[1]\n",
    "number3 = numbers[2]\n",
    "\n",
    "print(number1, number2, number3)\n",
    "\n",
    "#unpacking\n",
    "num1, num2, num3, num4 = numbers\n",
    "print(num1, num2, num3, num4)\n",
    "\n",
    "#정말 값을 추가할 방법이 없을까/ \n",
    "   #없지만 마치 추가된 것 처럼 보이게 하는 방법은 있다.\n",
    "print(id(numbers))    \n",
    "\n",
    "numbers += 5, 6\n",
    "print(numbers)\n",
    "print(id(numbers)) #id가 다르다. 사실상은 이전 tuple을 참조한 다른 tuple을 만든 것."
   ]
  },
  {
   "cell_type": "code",
   "execution_count": 77,
   "id": "4a3410d6",
   "metadata": {},
   "outputs": [
    {
     "name": "stdout",
     "output_type": "stream",
     "text": [
      "{'name': '김개똥', 'phone': '010-0000-0000'}\n",
      "김개똥 010-0000-0000\n"
     ]
    }
   ],
   "source": [
    "#dictionary : key를 기반으로 값을 저장한다.\n",
    "\n",
    "people = {\n",
    "    #키: 값\n",
    "    \"name\": \"김개똥\",\n",
    "    \"phone\": \"010-0000-0000\"\n",
    "}\n",
    "\n",
    "print(people)\n",
    "print(people[\"name\"], people[\"phone\"])"
   ]
  },
  {
   "cell_type": "code",
   "execution_count": 88,
   "id": "0640d4d4",
   "metadata": {},
   "outputs": [
    {
     "name": "stdout",
     "output_type": "stream",
     "text": [
      "['파는 것이 인간이다.', '언제 할 것인가']\n",
      "2500\n",
      "3000\n",
      "{'Java': 3000, 'Americano': 2500, 'Latte': 3000}\n",
      "{'Java': 3000, 'Americano': 2500, 'Latte': 3000, 'Moca': 3000}\n",
      "{'Java': 3000, 'Americano': 2500, 'Moca': 3000}\n",
      "dict_keys(['Java', 'Americano', 'Moca'])\n",
      "dict_values([3000, 2500, 3000])\n",
      "dict_items([('Java', 3000), ('Americano', 2500), ('Moca', 3000)])\n"
     ]
    }
   ],
   "source": [
    "books = {\"Daniel Pink\" : [\"파는 것이 인간이다.\",\"언제 할 것인가\"], \"Eric Schidt\" : \"새로운 디지털 시대\"}\n",
    "print(books[\"Daniel Pink\"])\n",
    "\n",
    "coffe = {\"Java\":2500, \"Americano\":2500, \"Latte\":3000}\n",
    "print(coffe[\"Java\"])\n",
    "\n",
    "coffe[\"Java\"] = 3000\n",
    "print(coffe[\"Java\"])\n",
    "\n",
    "print(coffe)\n",
    "\n",
    "coffe[\"Moca\"] = 3000\n",
    "print(coffe)\n",
    "\n",
    "coffe.pop(\"Latte\")\n",
    "print(coffe)\n",
    "\n",
    "print(coffe.keys())\n",
    "print(coffe.values())\n",
    "print(coffe.items())"
   ]
  },
  {
   "cell_type": "code",
   "execution_count": 98,
   "id": "c7f8a30d",
   "metadata": {},
   "outputs": [
    {
     "name": "stdout",
     "output_type": "stream",
     "text": [
      "{'토요일', '수요일', '월요일', '일요일', '금요일', '목요일', '화요일'}\n",
      "{'토요일', '수요일', '월요일', '일요일', '금요일', '목요일', '화요일'}\n",
      "{'토요일', '수요일', '월요일', '일요일', '금요일', '목요일', '화요일'}\n",
      "{'토요일', '수요일', '월요일', '일요일', '금요일', '목요일', ('일주일',), '화요일'}\n",
      "{'월요일', '일요일', '금요일', ('일주일',), '화요일', '한주', '토요일', '수요일', '목요일'}\n",
      "{'월요일', '일요일', '한달', '금요일', ('일주일',), '화요일', '한주', '토요일', '수요일', '일주일', '목요일'}\n"
     ]
    }
   ],
   "source": [
    "#집합\n",
    "\n",
    "week = {\"월요일\", \"화요일\", \"수요일\", \"목요일\", \"금요일\", \"토요일\", \"일요일\"}\n",
    "\n",
    "print(week)\n",
    "\n",
    "week2 = {\"월요일\", \"화요일\", \"수요일\", \"목요일\", \"금요일\", \"토요일\", \"일요일\", \"월요일\"}\n",
    "#순서가 정해져있지 않고, 중복을 허용하지 않기 때문에 월요일 1개가 사라짐\n",
    "\n",
    "print(week2)\n",
    "\n",
    "week.add(\"화요일\") #add를 써도 마찬가지로 중복이 허용되지 않음\n",
    "print(week)\n",
    "\n",
    "#Add 123, \"문자\", True, (\"튜플\")은 추가 가능\n",
    "     #[1, 2, 3] 리스트, {key:value} 딕셔너리 형식은 사용 불가\n",
    "\n",
    "week.add((\"일주일\",))\n",
    "print(week)\n",
    "\n",
    "week.update((\"한주\",))\n",
    "#또한 업데이트를 사용하면 리스트와 딕셔너리도 추가 가능.\n",
    "print(week)\n",
    "\n",
    "week.update([\"일주일\"], {\"한달\":123}) #딕셔너리는 key값만 추가됨\n",
    "print(week)"
   ]
  },
  {
   "cell_type": "code",
   "execution_count": 100,
   "id": "ae87737b",
   "metadata": {},
   "outputs": [
    {
     "name": "stdout",
     "output_type": "stream",
     "text": [
      "{'토요일', '수요일', '목요일', '월요일', '일요일', '금요일', '화요일'}\n"
     ]
    }
   ],
   "source": [
    "weekend = set([\"월요일\", \"화요일\", \"수요일\", \"목요일\", \"금요일\", \"토요일\", \"일요일\", \"금요일\"])\n",
    "print(weekend)"
   ]
  },
  {
   "cell_type": "code",
   "execution_count": 103,
   "id": "656e6f12",
   "metadata": {},
   "outputs": [
    {
     "name": "stdout",
     "output_type": "stream",
     "text": [
      "{1, 2, 3, 4, 5, 6, 7}\n",
      "{3, 4, 5}\n",
      "{1, 2}\n"
     ]
    }
   ],
   "source": [
    "a = {1, 2, 3, 4, 5}\n",
    "b = {3, 4, 5, 6, 7}\n",
    "\n",
    "#합집합 : 두 집합의 모든 원소(중복 허용X)가 확인됨\n",
    "print(a | b)\n",
    "\n",
    "#교집합: 두 집합이 공통으로 가지고 있는 원소가 확인됨\n",
    "print(a & b)\n",
    "\n",
    "#차집합: a라는 집합에서 b라는 집합에 있는 원소를 뺀 집합\n",
    "print(a - b)"
   ]
  },
  {
   "cell_type": "code",
   "execution_count": 104,
   "id": "fbf7e679",
   "metadata": {},
   "outputs": [
    {
     "name": "stdout",
     "output_type": "stream",
     "text": [
      "{1, 2, 3, 5}\n"
     ]
    }
   ],
   "source": [
    "#원소들을 삭제하는 방법\n",
    "a.remove(4)\n",
    "print(a)"
   ]
  },
  {
   "cell_type": "code",
   "execution_count": null,
   "id": "8ac9e7fb",
   "metadata": {},
   "outputs": [],
   "source": []
  }
 ],
 "metadata": {
  "kernelspec": {
   "display_name": "Python 3 (ipykernel)",
   "language": "python",
   "name": "python3"
  },
  "language_info": {
   "codemirror_mode": {
    "name": "ipython",
    "version": 3
   },
   "file_extension": ".py",
   "mimetype": "text/x-python",
   "name": "python",
   "nbconvert_exporter": "python",
   "pygments_lexer": "ipython3",
   "version": "3.9.12"
  }
 },
 "nbformat": 4,
 "nbformat_minor": 5
}
