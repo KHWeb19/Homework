{
 "cells": [
  {
   "cell_type": "code",
   "execution_count": null,
   "id": "fed2482f",
   "metadata": {},
   "outputs": [],
   "source": [
    "#예외처리: 예외가 발생할만한 부분에 미리 처리를 해두는 것이다."
   ]
  },
  {
   "cell_type": "code",
   "execution_count": 9,
   "id": "f6a90d38",
   "metadata": {},
   "outputs": [
    {
     "name": "stdout",
     "output_type": "stream",
     "text": [
      "첫번째 정수를 입력해주세요 >10\n",
      "두번째 정수를 입력해주세요 >2\n",
      "10를 2로 나눈 값은 5.0입니다.\n"
     ]
    }
   ],
   "source": [
    "def division():\n",
    "    try:\n",
    "        num1 = input(\"첫번째 정수를 입력해주세요 >\")\n",
    "        num2 = input(\"두번째 정수를 입력해주세요 >\")\n",
    "        \n",
    "        return print(f\"{num1}를 {num2}로 나눈 값은 {int(num1)/int(num2)}입니다.\")\n",
    "    except:\n",
    "        print(\"0이 아닌 숫자로 된 정수를 입력하세요.\")\n",
    "\n",
    "\n",
    "division()\n",
    "\n",
    "\n",
    "#try: 예외가 발생할 가능성이 있는 코드\n",
    "#except:"
   ]
  },
  {
   "cell_type": "code",
   "execution_count": null,
   "id": "0bfd38c3",
   "metadata": {},
   "outputs": [],
   "source": [
    "#↑위 코드의 원본↓에서는 어떤 에러들이 발생했을까?\n",
    "\n",
    "def division():\n",
    "    num1 = input(\"첫번째 정수를 입력해주세요 >\")\n",
    "    num2 = input(\"두번째 정수를 입력해주세요 >\")\n",
    "        \n",
    "    return print(f\"{num1}를 {num2}로 나눈 값은 {int(num1)/int(num2)}입니다.\")\n",
    "\n",
    "division()\n",
    "\n",
    "#ValueError, ZeroDivisionError, KeyboardInterrupt가 발생한다."
   ]
  },
  {
   "cell_type": "code",
   "execution_count": 11,
   "id": "b421b433",
   "metadata": {},
   "outputs": [
    {
     "name": "stdout",
     "output_type": "stream",
     "text": [
      "첫번째 정수를 입력해주세요 >6\n",
      "두번째 정수를 입력해주세요 >3\n",
      "오류가 발생했어요!\n"
     ]
    }
   ],
   "source": [
    "def division():\n",
    "    try:\n",
    "        num1 = input(\"첫번째 정수를 입력해주세요 >\")\n",
    "        num2 = input(\"두번째 정수를 입력해주세요 >\")\n",
    "        \n",
    "        #return print(f\"{num1}를 {num2}로 나눈 값은 {int(num1)/int(num2)}입니다.\")\n",
    "        result = num1/num2\n",
    "    \n",
    "    except Exception:\n",
    "        print(\"오류가 발생했어요!\")\n",
    "    else:\n",
    "        print(\"정상적으로 나누기 함수가 호출 되었습니다.\")\n",
    "        return print(\"{}을 {}로 나눈 값은 {}입니다.\".format(num1, num2, result))\n",
    "\n",
    "division()"
   ]
  },
  {
   "cell_type": "code",
   "execution_count": null,
   "id": "601be71d",
   "metadata": {},
   "outputs": [
    {
     "name": "stdout",
     "output_type": "stream",
     "text": [
      "화장실을 사용하시겠습니까? (y/n)y\n",
      "화장실을 사용합니다!\n",
      "화장실을 사용하시겠습니까? (y/n)n\n",
      "안에 사람이 없습니다!\n",
      "화장실을 사용하시겠습니까? (y/n)y\n",
      "화장실을 사용합니다!\n",
      "화장실을 사용하시겠습니까? (y/n)y\n",
      "안에 사람이 있어요! 기다려주세요!\n",
      "화장실을 사용하시겠습니까? (y/n)n\n",
      "안에 사람이 없습니다!\n"
     ]
    }
   ],
   "source": [
    "#화장실이 너무 급한 남자\n",
    "\n",
    "class Toilet:\n",
    "    def __init__(self):\n",
    "        self.using = False\n",
    "        \n",
    "    def in_use(self):\n",
    "        if self.using == False:\n",
    "            print(\"화장실을 사용합니다!\")\n",
    "            self.using = True\n",
    "        else:\n",
    "            raise Exception(\"안에 사람이 있어요! 기다려주세요!\")\n",
    "            \n",
    "    def not_in_use(self):\n",
    "        self.using = False\n",
    "        print(\"안에 사람이 없습니다!\")\n",
    "        \n",
    "man = Toilet()\n",
    "\n",
    "while True:\n",
    "    use = input(\"화장실을 사용하시겠습니까? (y/n)\")\n",
    "    try:\n",
    "        if(use == \"y\"):\n",
    "            man.in_use()\n",
    "        else:\n",
    "            man.not_in_use()\n",
    "    except Exception as e:\n",
    "        print(e)"
   ]
  },
  {
   "cell_type": "code",
   "execution_count": null,
   "id": "e405e77e",
   "metadata": {},
   "outputs": [],
   "source": []
  }
 ],
 "metadata": {
  "kernelspec": {
   "display_name": "Python 3 (ipykernel)",
   "language": "python",
   "name": "python3"
  },
  "language_info": {
   "codemirror_mode": {
    "name": "ipython",
    "version": 3
   },
   "file_extension": ".py",
   "mimetype": "text/x-python",
   "name": "python",
   "nbconvert_exporter": "python",
   "pygments_lexer": "ipython3",
   "version": "3.9.12"
  }
 },
 "nbformat": 4,
 "nbformat_minor": 5
}
