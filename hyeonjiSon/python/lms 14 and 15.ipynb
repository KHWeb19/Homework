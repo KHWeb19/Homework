{
 "cells": [
  {
   "cell_type": "code",
   "execution_count": 4,
   "id": "efb646aa",
   "metadata": {},
   "outputs": [
    {
     "name": "stdout",
     "output_type": "stream",
     "text": [
      "오늘의 메뉴\n",
      "오늘 점심 메뉴는 제육볶음입니다.\n",
      "내일의 메뉴\n",
      "내일의 점심 메뉴는 돈까스입니다.\n"
     ]
    }
   ],
   "source": [
    "#파이썬의 내장함수\n",
    "    #print() : 문자열로 출력\n",
    "    #input() : 입력을 문자열로 변환\n",
    "#함수 정의하기\n",
    "    #def 함수이름():\n",
    "        #수행할 코드\n",
    "        \n",
    "def menu():\n",
    "    print(\"오늘의 메뉴\")    \n",
    "    print(\"오늘 점심 메뉴는 제육볶음입니다.\")\n",
    "    print(\"내일의 메뉴\")\n",
    "    print(\"내일의 점심 메뉴는 돈까스입니다.\")\n",
    "    \n",
    "menu()\n",
    "\n",
    "print(\"사용할 데이터\")\n",
    "input(\"데이터\")"
   ]
  },
  {
   "cell_type": "code",
   "execution_count": 5,
   "id": "56923297",
   "metadata": {},
   "outputs": [
    {
     "name": "stdout",
     "output_type": "stream",
     "text": [
      "3\n",
      "<function add at 0x00000212C6F423A0>\n"
     ]
    }
   ],
   "source": [
    "def add(num1, num2): #괄호 속에 들어간 것은 매개변수 params, parameter 등으로 불림\n",
    "    print(num1 + num2)\n",
    "    \n",
    "add(1, 2)\n",
    "print(add)"
   ]
  },
  {
   "cell_type": "code",
   "execution_count": 9,
   "id": "abee874a",
   "metadata": {},
   "outputs": [
    {
     "name": "stdout",
     "output_type": "stream",
     "text": [
      "홍길동\n"
     ]
    }
   ],
   "source": [
    "def add(text1, text2): #괄호 속에 들어간 것은 매개변수 params, parameter 등으로 불림\n",
    "    '''문자열 두개(성, 이름)을 입력받아서 합쳐서 출력'''    \n",
    "    text = text1 + text2\n",
    "    return text\n",
    "    \n",
    "print(add(\"홍\", \"길동\"))\n",
    "#함수를 출력했을 때 None이 출력이 되었다면 반환값이 없다는 뜻이다."
   ]
  },
  {
   "cell_type": "code",
   "execution_count": 12,
   "id": "2182a4de",
   "metadata": {},
   "outputs": [
    {
     "name": "stdout",
     "output_type": "stream",
     "text": [
      "함수호출\n",
      "끝말을 이어주세요 >출력\n",
      "출력\n",
      "끝말을 이어주세요 >력사\n",
      "력사\n",
      "끝말을 이어주세요 >산\n",
      "끝말이 이어지지 않았습니다!\n"
     ]
    }
   ],
   "source": [
    "#끝말잇기 함수 만들기\n",
    "\n",
    "def game(text):\n",
    "    while True:\n",
    "        print(text)\n",
    "        keyword = input(\"끝말을 이어주세요 >\")\n",
    "        if text[-1] == keyword[0]:\n",
    "            text = keyword\n",
    "        else:\n",
    "            print(\"끝말이 이어지지 않았습니다!\")\n",
    "            break\n",
    "        \n",
    "game(\"함수호출\")"
   ]
  },
  {
   "cell_type": "code",
   "execution_count": 14,
   "id": "b0f0e4f8",
   "metadata": {},
   "outputs": [
    {
     "name": "stdout",
     "output_type": "stream",
     "text": [
      "고구마\n"
     ]
    }
   ],
   "source": [
    "#지역변수(Local Variable) & 전역변수(Global Variable)\n",
    "\n",
    "def jejuPotato():\n",
    "    potato = \"고구마\"\n",
    "    print(potato)\n",
    "    \n",
    "jejuPotato()"
   ]
  },
  {
   "cell_type": "code",
   "execution_count": 18,
   "id": "8f7e438c",
   "metadata": {},
   "outputs": [
    {
     "name": "stdout",
     "output_type": "stream",
     "text": [
      "감자\n",
      "고구마\n",
      "고구마\n"
     ]
    }
   ],
   "source": [
    "potato = \"감자\" #전여견수를 한 번 만들어두면 어디에서든 사용 가능합니다.\n",
    "\n",
    "def jejuPotato():\n",
    "    global potato #글로벌 키워드를 붙이면 전역변수 값을 불러준다.\n",
    "    print(potato)\n",
    "    potato = \"고구마\" #<- 얘는 전역\n",
    "    print(potato)\n",
    "\n",
    "jejuPotato()\n",
    "print(potato)"
   ]
  },
  {
   "cell_type": "code",
   "execution_count": 22,
   "id": "0c8409ad",
   "metadata": {},
   "outputs": [
    {
     "name": "stdout",
     "output_type": "stream",
     "text": [
      "60\n"
     ]
    }
   ],
   "source": [
    "a, b = 20, 40\n",
    "\n",
    "def add(num1 = a, num2 = b):\n",
    "    return num1 + num2\n",
    "\n",
    "print(add())"
   ]
  },
  {
   "cell_type": "code",
   "execution_count": null,
   "id": "1fe592b3",
   "metadata": {},
   "outputs": [],
   "source": [
    "a, b = 20, 40\n",
    "\n",
    "def add(num1 = a, num2 = b):\n",
    "    return num1 + num2\n",
    "\n",
    "a, b = 5, 10\n",
    "\n",
    "print(add())"
   ]
  },
  {
   "cell_type": "code",
   "execution_count": 24,
   "id": "1225a841",
   "metadata": {},
   "outputs": [
    {
     "name": "stdout",
     "output_type": "stream",
     "text": [
      "100\n"
     ]
    }
   ],
   "source": [
    "def add(*args): #가변 매개변수: 앞의 별표 표시를 함으로써 인자가 네개 들어갔지만 모두 적용되었다.\n",
    "        #argument의 약자 args\n",
    "    sum = 0\n",
    "    for i in args:\n",
    "        sum += i\n",
    "    print(sum)\n",
    "\n",
    "add(10, 20, 30, 40)"
   ]
  },
  {
   "cell_type": "code",
   "execution_count": 28,
   "id": "0e258962",
   "metadata": {},
   "outputs": [],
   "source": [
    "#키워드 매개변수"
   ]
  },
  {
   "cell_type": "code",
   "execution_count": 30,
   "id": "44b875df",
   "metadata": {},
   "outputs": [
    {
     "name": "stdout",
     "output_type": "stream",
     "text": [
      "(80, 4)\n",
      "(80, 4)\n"
     ]
    }
   ],
   "source": [
    "#최대, 최소값 구하기\n",
    "\n",
    "def maxminSearch(*number): #인자들을 입력받은 매개변수\n",
    "    maxNum = number[0] #각각 첫번째 요소가 들어감\n",
    "    minNum = number[0] \n",
    "    for num in number: #반복문 돌아감\n",
    "        if num > maxNum:\n",
    "            maxNum = num\n",
    "        elif num < minNum:\n",
    "            minNum = num\n",
    "    return maxNum, minNum #값들을 각각 반환\n",
    "\n",
    "print(maxminSearch(15, 30, 4, 60, 7, 80, 32))\n",
    "\n",
    "def search(*number): #위의 코드와 같은 결과\n",
    "    return max(number), min(number)\n",
    "\n",
    "print(search(15, 30, 4, 60, 7, 80, 32)) #튜플형태로 들어가기 때문에 같은 결과가 나옴"
   ]
  },
  {
   "cell_type": "code",
   "execution_count": null,
   "id": "db01f8d3",
   "metadata": {},
   "outputs": [],
   "source": []
  },
  {
   "cell_type": "code",
   "execution_count": null,
   "id": "791e6905",
   "metadata": {},
   "outputs": [],
   "source": []
  },
  {
   "cell_type": "code",
   "execution_count": null,
   "id": "6d97dfd6",
   "metadata": {},
   "outputs": [],
   "source": []
  },
  {
   "cell_type": "code",
   "execution_count": null,
   "id": "21d272db",
   "metadata": {},
   "outputs": [],
   "source": []
  },
  {
   "cell_type": "code",
   "execution_count": null,
   "id": "e0c84146",
   "metadata": {},
   "outputs": [],
   "source": []
  }
 ],
 "metadata": {
  "kernelspec": {
   "display_name": "Python 3 (ipykernel)",
   "language": "python",
   "name": "python3"
  },
  "language_info": {
   "codemirror_mode": {
    "name": "ipython",
    "version": 3
   },
   "file_extension": ".py",
   "mimetype": "text/x-python",
   "name": "python",
   "nbconvert_exporter": "python",
   "pygments_lexer": "ipython3",
   "version": "3.9.12"
  }
 },
 "nbformat": 4,
 "nbformat_minor": 5
}
