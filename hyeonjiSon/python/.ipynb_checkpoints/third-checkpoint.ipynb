{
 "cells": [
  {
   "cell_type": "code",
   "execution_count": 1,
   "id": "636ac420",
   "metadata": {},
   "outputs": [],
   "source": [
    "# MaC 혹은 Linux 는 요렇게\n",
    "import time\n",
    "import multiprocessing\n",
    "\n",
    "def count_down(x):\n",
    "    while True:\n",
    "        if x == 0:\n",
    "            break\n",
    "            \n",
    "        print(\"카운트 다운 ... %d\" % x)\n",
    "        x -= 1\n",
    "        time.sleep(1)\n",
    "        \n",
    "p = multiprocessing.Process(target=count_down, args=(5,))\n",
    "p.start()"
   ]
  },
  {
   "cell_type": "code",
   "execution_count": 6,
   "id": "4c498ad3",
   "metadata": {},
   "outputs": [
    {
     "name": "stdout",
     "output_type": "stream",
     "text": [
      "<Process name='Process-2' parent=13048 initial>\n"
     ]
    }
   ],
   "source": [
    "# Windows 는 요렇게\n",
    "import time\n",
    "import multiprocessing\n",
    "\n",
    "def count_down(x):\n",
    "    while True:\n",
    "        if x == 0:\n",
    "            break\n",
    "            \n",
    "        print(\"카운트 다운 ... %d\" % x)\n",
    "        x -= 1\n",
    "        time.sleep(1)\n",
    "\n",
    "if __name__ == '__main__':\n",
    "    p = multiprocessing.Process(target=count_down, args=(5,))\n",
    "    print(p)\n",
    "    p.start()\n",
    "    p.join()\n",
    "    \n",
    "#parent숫자는 PID 번호임"
   ]
  },
  {
   "cell_type": "code",
   "execution_count": null,
   "id": "5f18bf6a",
   "metadata": {},
   "outputs": [],
   "source": [
    "#프로세스 리스트\n",
    "#아래거 안되면 !ps -alx\n",
    "# !ps -ef"
   ]
  },
  {
   "cell_type": "code",
   "execution_count": null,
   "id": "003e9c1f",
   "metadata": {},
   "outputs": [],
   "source": [
    "#Task 가 CPU의 추상화인 이유는?\n",
    "#동시에 작동한다? ---> 정말 동시에 작동하는 것이 아니다!\n",
    "#Multi-Tasking(멀티 태스킹) ---> 실제로는 시분할로 동작\n",
    "#실제로는 우리가 구동시키는 모든 프로그램들은 전부 다 하나도 빠짐없이 모두 기계어로 구동된다.\n",
    "#이 기계어를 구동시킬 수 있는 녀석은 유일하게 CPU뿐이다.\n",
    "#결국 이 프로그램들이 시분할로 동작하면서 경쟁하는 이유는? ---> CPU자원이 한정되어 있기 때문이다."
   ]
  },
  {
   "cell_type": "code",
   "execution_count": 13,
   "id": "b4ef5b74",
   "metadata": {},
   "outputs": [
    {
     "name": "stdout",
     "output_type": "stream",
     "text": [
      "안녕!\n",
      "module name:  __main__\n",
      "parant process:  18352\n",
      "process id: 13048\n",
      "thread id:  19628\n",
      "이런식으로 많이 집어넣으면 Context Switching 도 직접 확인 가능\n",
      "안녕!\n",
      "module name:  __main__\n",
      "parant process:  18352\n",
      "process id: 13048\n",
      "thread id:  18684\n",
      "이런식으로 많이 집어넣으면 Context Switching 도 직접 확인 가능\n",
      "안녕!\n",
      "module name:  __main__\n",
      "parant process:  18352\n",
      "process id: 13048\n",
      "thread id:  19504\n",
      "이런식으로 많이 집어넣으면 Context Switching 도 직접 확인 가능\n",
      "안녕!\n",
      "module name:  __main__\n",
      "parant process:  18352\n",
      "process id: 13048\n",
      "thread id:  19476\n",
      "이런식으로 많이 집어넣으면 Context Switching 도 직접 확인 가능\n",
      "안녕!\n",
      "module name:  __main__\n",
      "parant process:  18352\n",
      "process id: 13048\n",
      "thread id:  19480\n",
      "이런식으로 많이 집어넣으면 Context Switching 도 직접 확인 가능\n",
      "잠자다 일어나기\n",
      "\n",
      "잠자다 일어나기\n",
      "\n",
      "잠자다 일어나기\n",
      "잠자다 일어나기\n",
      "\n",
      "\n",
      "잠자다 일어나기\n",
      "\n",
      "종료:  1.06초\n"
     ]
    }
   ],
   "source": [
    "import threading\n",
    "import os\n",
    "\n",
    "def info():\n",
    "    print('module name: ', __name__)\n",
    "    print('parant process: ', os.getppid())\n",
    "    print('process id:', os.getpid())\n",
    "    print('thread id: ', threading.get_ident())\n",
    "    print('이런식으로 많이 집어넣으면 Context Switching 도 직접 확인 가능')\n",
    "\n",
    "def print_hello():\n",
    "    print(\"안녕!\")\n",
    "    info()\n",
    "    time.sleep(1) #이게 들어가니까 context switching 무조건 들어가게 됨.\n",
    "    print(\"잠자다 일어나기\\n\")\n",
    "    \n",
    "if __name__ == '__main__':\n",
    "    start = time.perf_counter()\n",
    "    threads = []\n",
    "    \n",
    "    for _ in range(5):\n",
    "        t = threading.Thread(target = print_hello)\n",
    "        t.start()\n",
    "        threads.append(t)\n",
    "        \n",
    "    for thread in threads:\n",
    "        thread.join()\n",
    "        \n",
    "    finish = time.perf_counter()\n",
    "    \n",
    "    print('종료: ', str(round(finish - start, 2)) + \"초\")\n",
    "    \n",
    "    \n",
    "#결과는 매번 달라질 수 밖에 없다. WHY? --> multi tasking 할 때 시분할이 매번 달라지기 때문!\n",
    "#async와 await가 없으니 동작 끝나는 걸 기다려주지 않음."
   ]
  },
  {
   "cell_type": "code",
   "execution_count": 14,
   "id": "f4cfb4c0",
   "metadata": {},
   "outputs": [
    {
     "name": "stdout",
     "output_type": "stream",
     "text": [
      "0 번째 반복 이후 x = 1728255\n",
      "1 번째 반복 이후 x = 1644751\n",
      "2 번째 반복 이후 x = 1572860\n",
      "3 번째 반복 이후 x = 1529695\n",
      "4 번째 반복 이후 x = 1402119\n",
      "5 번째 반복 이후 x = 1824021\n",
      "6 번째 반복 이후 x = 1846849\n",
      "7 번째 반복 이후 x = 1672455\n",
      "8 번째 반복 이후 x = 1581650\n",
      "9 번째 반복 이후 x = 1652476\n"
     ]
    }
   ],
   "source": [
    "#크리티컬 섹션에서 발생하는 문제를 확인하기 위해 만든 예제.\n",
    "\n",
    "import threading\n",
    "\n",
    "x = 0 #크리티컬 섹션\n",
    "\n",
    "def increment_global():\n",
    "    global x\n",
    "    x += 1\n",
    "    \n",
    "def thread_processing():\n",
    "    for _ in range(1000000):\n",
    "        increment_global()\n",
    "        \n",
    "def thread_main():\n",
    "    global x\n",
    "    x = 0\n",
    "    \n",
    "    t1 = threading.Thread(target = thread_processing)\n",
    "    t2 = threading.Thread(target = thread_processing)\n",
    "    \n",
    "    t1.start()\n",
    "    t2.start()\n",
    "    \n",
    "    t1.join()\n",
    "    t2.join()\n",
    "    \n",
    "for i in range(10):\n",
    "    thread_main()\n",
    "    print(\"{0} 번째 반복 이후 x = {1}\".format(i, x))"
   ]
  },
  {
   "cell_type": "code",
   "execution_count": 16,
   "id": "0b76d7b5",
   "metadata": {},
   "outputs": [
    {
     "name": "stdout",
     "output_type": "stream",
     "text": [
      "0 번째 반복 이후 x = 2000000\n",
      "1 번째 반복 이후 x = 2000000\n",
      "2 번째 반복 이후 x = 2000000\n",
      "3 번째 반복 이후 x = 2000000\n",
      "4 번째 반복 이후 x = 2000000\n",
      "5 번째 반복 이후 x = 2000000\n",
      "6 번째 반복 이후 x = 2000000\n",
      "7 번째 반복 이후 x = 2000000\n",
      "8 번째 반복 이후 x = 2000000\n",
      "9 번째 반복 이후 x = 2000000\n"
     ]
    }
   ],
   "source": [
    "#크리티컬 섹션에서 발생하는 문제를 확인하기 위해 만든 예제.\n",
    "  #위 문제에서 실행을 보장해주는 방식으로 코드를 변경하여 문제를 해결.\n",
    "    #하지만 lock을 풀었다 잠그는 걸 반복하느라 실행속도가 느려졌다. 당연히 context switcing도 여러번 발생한다.\n",
    "\n",
    "import threading\n",
    "\n",
    "lock = threading.Lock()\n",
    "\n",
    "x = 0 #크리티컬 섹션\n",
    "\n",
    "def increment_global():\n",
    "    global x\n",
    "    x += 1\n",
    "    \n",
    "def thread_processing():\n",
    "    for _ in range(1000000):\n",
    "        lock.acquire()\n",
    "        increment_global()\n",
    "        lock.release()\n",
    "        \n",
    "def thread_main():\n",
    "    global x\n",
    "    x = 0\n",
    "    \n",
    "    t1 = threading.Thread(target = thread_processing)\n",
    "    t2 = threading.Thread(target = thread_processing)\n",
    "    \n",
    "    t1.start()\n",
    "    t2.start()\n",
    "    \n",
    "    t1.join()\n",
    "    t2.join()\n",
    "    \n",
    "for i in range(10):\n",
    "    thread_main()\n",
    "    print(\"{0} 번째 반복 이후 x = {1}\".format(i, x))"
   ]
  },
  {
   "cell_type": "code",
   "execution_count": 23,
   "id": "cb0c2ba5",
   "metadata": {},
   "outputs": [
    {
     "name": "stdout",
     "output_type": "stream",
     "text": [
      "0 번째 반복 이후 x = 2000000\n",
      "1 번째 반복 이후 x = 2000000\n",
      "2 번째 반복 이후 x = 2000000\n",
      "3 번째 반복 이후 x = 2000000\n",
      "4 번째 반복 이후 x = 2000000\n",
      "5 번째 반복 이후 x = 2000000\n",
      "6 번째 반복 이후 x = 2000000\n",
      "7 번째 반복 이후 x = 2000000\n",
      "8 번째 반복 이후 x = 2000000\n",
      "9 번째 반복 이후 x = 2000000\n"
     ]
    }
   ],
   "source": [
    "#크리티컬 섹션에서 발생하는 문제를 확인하기 위해 만든 예제.\n",
    "  #위 문제에서 실행을 보장해주는 방식으로 코드를 변경하여 문제를 해결.\n",
    "    #하지만 lock을 풀었다 잠그는 걸 반복하느라 실행속도가 느려졌다.\n",
    "    #위의 실행속도 문제에서 발생한 비효율적인 문제를 해결하고 성능을 올린 예제이다.\n",
    "    #같은 코드지만 다른 결과를 낼 수 있도록 하자. 리팩토링이 중요한 이유!\n",
    "\n",
    "import threading\n",
    "\n",
    "lock = threading.Lock()\n",
    "\n",
    "x = 0 #크리티컬 섹션\n",
    "\n",
    "def increment_global():\n",
    "    global x\n",
    "    x += 1\n",
    "    \n",
    "def thread_processing():\n",
    "    lock.acquire()\n",
    "\n",
    "    for _ in range(1000000):\n",
    "        increment_global()\n",
    "    \n",
    "    lock.release()\n",
    "        \n",
    "def thread_main():\n",
    "    global x\n",
    "    x = 0\n",
    "    \n",
    "    t1 = threading.Thread(target = thread_processing)\n",
    "    t2 = threading.Thread(target = thread_processing)\n",
    "    \n",
    "    t1.start()\n",
    "    t2.start()\n",
    "    \n",
    "    t1.join()\n",
    "    t2.join()\n",
    "    \n",
    "for i in range(10):\n",
    "    thread_main()\n",
    "    print(\"{0} 번째 반복 이후 x = {1}\".format(i, x))\n",
    "    \n",
    "    #앞으로 Python에서 크롤링 등을 할 때는 Thread를 사용하게 된다. 잘 복습해둘 것"
   ]
  },
  {
   "cell_type": "code",
   "execution_count": null,
   "id": "ced19158",
   "metadata": {},
   "outputs": [],
   "source": [
    "#그러나 위의 코드에도 문제가 없지는 않음.\n",
    "  #thread_processing()의 작업이 끝날 때 까지는 다른 쓰레드가 동작할 수가 없다.\n",
    "    #cpu 자원을 잘 배분하는 것이 중요함.\n",
    "  #때문에 잘못쓰면 속도가 느려질 수 있으므로 어떤 식으로 lock 장치를 사용할 것인지 고민해야 한다."
   ]
  },
  {
   "cell_type": "code",
   "execution_count": 24,
   "id": "8e0509e2",
   "metadata": {},
   "outputs": [
    {
     "name": "stdout",
     "output_type": "stream",
     "text": [
      "Collecting pymysql\n",
      "  Downloading PyMySQL-1.0.2-py3-none-any.whl (43 kB)\n",
      "Installing collected packages: pymysql\n",
      "Successfully installed pymysql-1.0.2\n"
     ]
    }
   ],
   "source": [
    "#Python을 이용한 DB처리\n",
    "#MySQL with Python\n",
    "!pip install pymysql"
   ]
  },
  {
   "cell_type": "code",
   "execution_count": 1,
   "id": "e8c3bef6",
   "metadata": {},
   "outputs": [],
   "source": [
    "import pymysql"
   ]
  },
  {
   "cell_type": "code",
   "execution_count": 2,
   "id": "6a04aa45",
   "metadata": {},
   "outputs": [],
   "source": [
    "MYSQL_USER_DATA_SAVED_FILE = \"mysql/userinfo\""
   ]
  },
  {
   "cell_type": "code",
   "execution_count": 3,
   "id": "dea4fbe9",
   "metadata": {},
   "outputs": [],
   "source": [
    "import pickle\n",
    "\n",
    "mysql_user_info = dict({\n",
    "    'user_id': 'eddi',\n",
    "    'password': 'eddi@123'\n",
    "})\n",
    "\n",
    "f = open(MYSQL_USER_DATA_SAVED_FILE, 'wb')\n",
    "pickle.dump(mysql_user_info, f)\n",
    "f.close()\n",
    "\n",
    "del mysql_user_info"
   ]
  },
  {
   "cell_type": "code",
   "execution_count": 4,
   "id": "e36aaec2",
   "metadata": {},
   "outputs": [],
   "source": [
    "import pickle\n",
    "\n",
    "f = open(MYSQL_USER_DATA_SAVED_FILE, 'rb')\n",
    "mysql_user_info = pickle.load(f)\n",
    "f.close()"
   ]
  },
  {
   "cell_type": "code",
   "execution_count": 7,
   "id": "775180d8",
   "metadata": {},
   "outputs": [
    {
     "name": "stdout",
     "output_type": "stream",
     "text": [
      "<pymysql.connections.Connection object at 0x0000017BD88C0B20>\n"
     ]
    }
   ],
   "source": [
    "db = pymysql.connect(\n",
    "    host = '127.0.0.1',\n",
    "    port = 3306,\n",
    "    user = mysql_user_info['user_id'],\n",
    "    passwd = mysql_user_info['password'],\n",
    "    # 여기서 사용할 스키마 하나 생성!\n",
    "    db = 'pydb'\n",
    ")\n",
    "\n",
    "print(db)"
   ]
  },
  {
   "cell_type": "code",
   "execution_count": 8,
   "id": "80591494",
   "metadata": {},
   "outputs": [
    {
     "name": "stdout",
     "output_type": "stream",
     "text": [
      "테이블 생성 성공!\n"
     ]
    }
   ],
   "source": [
    "cursor = db.cursor()\n",
    "\n",
    "sql = \"\"\"\n",
    "    create table pydb_test(\n",
    "        id int unsigned not null auto_increment,\n",
    "        name varchar(20) not null,\n",
    "        price int not null,\n",
    "        primary key(id)\n",
    "    )\n",
    "\"\"\"\n",
    "\n",
    "cursor.execute(sql)\n",
    "db.commit()\n",
    "db.close()\n",
    "print('테이블 생성 성공!')"
   ]
  },
  {
   "cell_type": "code",
   "execution_count": null,
   "id": "637cc6e2",
   "metadata": {},
   "outputs": [],
   "source": []
  },
  {
   "cell_type": "code",
   "execution_count": null,
   "id": "110525fd",
   "metadata": {},
   "outputs": [],
   "source": []
  },
  {
   "cell_type": "code",
   "execution_count": null,
   "id": "c6d4ffc6",
   "metadata": {},
   "outputs": [],
   "source": []
  },
  {
   "cell_type": "code",
   "execution_count": null,
   "id": "20083b01",
   "metadata": {},
   "outputs": [],
   "source": []
  },
  {
   "cell_type": "code",
   "execution_count": null,
   "id": "61098fe1",
   "metadata": {},
   "outputs": [],
   "source": []
  },
  {
   "cell_type": "code",
   "execution_count": null,
   "id": "d3213773",
   "metadata": {},
   "outputs": [],
   "source": []
  },
  {
   "cell_type": "code",
   "execution_count": null,
   "id": "865a7bb7",
   "metadata": {},
   "outputs": [],
   "source": []
  }
 ],
 "metadata": {
  "kernelspec": {
   "display_name": "Python 3 (ipykernel)",
   "language": "python",
   "name": "python3"
  },
  "language_info": {
   "codemirror_mode": {
    "name": "ipython",
    "version": 3
   },
   "file_extension": ".py",
   "mimetype": "text/x-python",
   "name": "python",
   "nbconvert_exporter": "python",
   "pygments_lexer": "ipython3",
   "version": "3.9.12"
  }
 },
 "nbformat": 4,
 "nbformat_minor": 5
}
