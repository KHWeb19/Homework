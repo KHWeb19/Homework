{
 "cells": [
  {
   "cell_type": "code",
   "execution_count": null,
   "id": "d46e29d4",
   "metadata": {},
   "outputs": [],
   "source": [
    "#산술 연산자\n",
    "  #더하기, 빼기, 곱하기, 나누기\n",
    "  #몫을 구하는 연산자 = //\n",
    "  #나머지를 구하는 연산자 = %\n",
    "  #제곱을 구하는 연산자 = **"
   ]
  },
  {
   "cell_type": "code",
   "execution_count": 4,
   "id": "6c6f2b37",
   "metadata": {},
   "outputs": [
    {
     "name": "stdout",
     "output_type": "stream",
     "text": [
      "12\n",
      "8\n",
      "20\n",
      "5.0\n",
      "<class 'float'>\n",
      "5\n",
      "0\n",
      "1\n"
     ]
    }
   ],
   "source": [
    "print(10 + 2)\n",
    "print(10 - 2)\n",
    "print(10 * 2)\n",
    "print(10 / 2)\n",
    "\n",
    "#파이썬에서는 정수형의 나눗셈 결과는 무조건 실수형이 나옴.\n",
    "print(type(10 / 10))\n",
    "print(10 // 2) #몫을 구하기\n",
    "print(10 % 2) #나머지 구하기\n",
    "print(10 % 3)"
   ]
  },
  {
   "cell_type": "code",
   "execution_count": null,
   "id": "b660734c",
   "metadata": {},
   "outputs": [],
   "source": [
    "#자료형을 다른 자료형으로 변환 (ex: 정수를 실수, 정수를 문자형으로)"
   ]
  },
  {
   "cell_type": "code",
   "execution_count": 10,
   "id": "858b3dca",
   "metadata": {},
   "outputs": [
    {
     "name": "stdout",
     "output_type": "stream",
     "text": [
      "123\n",
      "1\n",
      "0\n",
      "284242\n",
      "<class 'int'>\n"
     ]
    }
   ],
   "source": [
    "#int() 정수형\n",
    "#실수형, 논리형, 문자열\n",
    "\n",
    "print(int(123.92)) #괄호 안에 변환하고자 하는 실수형 값을 넣음. 소숫점 뒷자리 수를 버리고 int형으로 출력됨\n",
    "\n",
    "print(int(True))\n",
    "print(int(False))\n",
    "\n",
    "print(int(\"284242\")) #문자에 정수만 들어있는 경우 int형으로 변환이 가능하다. 숫자 외의 문자가 있다면 변환되지 않음.\n",
    "print(type(int(\"284242\")))"
   ]
  },
  {
   "cell_type": "code",
   "execution_count": 15,
   "id": "a2394630",
   "metadata": {},
   "outputs": [
    {
     "name": "stdout",
     "output_type": "stream",
     "text": [
      "200.0\n",
      "3.0\n",
      "1.0\n",
      "0.0\n",
      "23.24324\n",
      "2323.0\n"
     ]
    }
   ],
   "source": [
    "#float() 실수형\n",
    "#정수형, 논리형, 문자열\n",
    "\n",
    "print(float(200))\n",
    "print(float(3)) #정수 뒤에 소수점이 붙게 되면서 정수형이 실수형으로 변환됨\n",
    "\n",
    "print(float(True))\n",
    "print(float(False))\n",
    "\n",
    "print(float(\"23.24324\"))\n",
    "print(float(\"2323\")) #정수형태의 문자 속 숫자도 소숫점이 붙은 수형으로 변환"
   ]
  },
  {
   "cell_type": "code",
   "execution_count": 18,
   "id": "3aa93e2c",
   "metadata": {},
   "outputs": [
    {
     "name": "stdout",
     "output_type": "stream",
     "text": [
      "12312\n",
      "2343.233\n",
      "True\n",
      "False\n",
      "<class 'str'>\n"
     ]
    }
   ],
   "source": [
    "#str()\n",
    "#모든 자료형\n",
    "\n",
    "print(str(12312))\n",
    "print(str(2343.233))\n",
    "print(str(True))\n",
    "print(str(False))\n",
    "\n",
    "print(type(str(12312)))"
   ]
  },
  {
   "cell_type": "code",
   "execution_count": 19,
   "id": "6cc30e27",
   "metadata": {},
   "outputs": [
    {
     "name": "stdout",
     "output_type": "stream",
     "text": [
      "False\n",
      "False\n",
      "False\n",
      "True\n",
      "True\n",
      "True\n",
      "True\n"
     ]
    }
   ],
   "source": [
    "#bool()\n",
    "#모든 자료형\n",
    "\n",
    "#False (값이 없다면 false)\n",
    "print(bool(0))\n",
    "print(bool(0.0))\n",
    "print(bool(\"\"))\n",
    "\n",
    "#True\n",
    "print(bool(1))\n",
    "print(bool(1.0))\n",
    "print(bool(\"str\"))\n",
    "print(bool(\"1231\"))"
   ]
  },
  {
   "cell_type": "code",
   "execution_count": null,
   "id": "d98dc7cd",
   "metadata": {},
   "outputs": [],
   "source": [
    "#비교연산자\n",
    "#값들의 크기를 비교하여 true / false를 반환\n",
    "#조건문과 반복문에서 유용하게 사용 가능하다.\n",
    "\n",
    "#비교 연산자의 종류\n",
    "#<, >, <=, >=, ==(같다), !=(a와 b가 같지 않으면 True)"
   ]
  },
  {
   "cell_type": "code",
   "execution_count": 21,
   "id": "bfcda150",
   "metadata": {},
   "outputs": [
    {
     "name": "stdout",
     "output_type": "stream",
     "text": [
      "True\n",
      "True\n",
      "False\n",
      "False\n",
      "False\n",
      "True\n"
     ]
    }
   ],
   "source": [
    "a = 10\n",
    "b = 20\n",
    "\n",
    "print(a < b) \n",
    "print(a <= b)\n",
    "print(a > b)\n",
    "print(a >= b)\n",
    "print(a == b)\n",
    "print(a != b)"
   ]
  },
  {
   "cell_type": "code",
   "execution_count": 23,
   "id": "5bc8e792",
   "metadata": {},
   "outputs": [
    {
     "name": "stdout",
     "output_type": "stream",
     "text": [
      "True\n",
      "False\n"
     ]
    }
   ],
   "source": [
    "#논리형 자료 비교\n",
    "\n",
    "isTrue = True\n",
    "isFalse = False\n",
    "\n",
    "print(isTrue > isFalse)\n",
    "print(isTrue < isFalse)"
   ]
  },
  {
   "cell_type": "code",
   "execution_count": 26,
   "id": "70de4277",
   "metadata": {},
   "outputs": [
    {
     "name": "stdout",
     "output_type": "stream",
     "text": [
      "False\n",
      "True\n",
      "True\n"
     ]
    }
   ],
   "source": [
    "#문자형 자료\n",
    "\n",
    "print (\"Python\" > \"python\") #소문자가 대문자보다 큰 값\n",
    "#정수형, 실수형 문자도 값이 비교된다.\n",
    "print (\"12345\" > \"12344\")\n",
    "print (\"12.12\" < \"13.12\")"
   ]
  },
  {
   "cell_type": "code",
   "execution_count": 29,
   "id": "aa404b49",
   "metadata": {},
   "outputs": [
    {
     "name": "stdout",
     "output_type": "stream",
     "text": [
      "1231\n"
     ]
    }
   ],
   "source": [
    "#복합대입연산자\n",
    "#산술연산자와 대입연산자를 합쳐서 사용\n",
    "# +=, -=, *=, /=, **=\n",
    "#긴 코드를 축약하여 가독성을 높인다.\n",
    "\n",
    "today = 1230\n",
    "today += 1\n",
    "\n",
    "print (today)"
   ]
  },
  {
   "cell_type": "code",
   "execution_count": 36,
   "id": "8f818b42",
   "metadata": {},
   "outputs": [
    {
     "name": "stdout",
     "output_type": "stream",
     "text": [
      "True\n",
      "False\n",
      "True\n",
      "False\n",
      "False\n"
     ]
    }
   ],
   "source": [
    "#bool자료형\n",
    "\n",
    "# and 연산\n",
    "  #양쪽의 값이 모두 참일 경우에만 True를 반환한다\n",
    "print(10>3 and 3<5)\n",
    "print(10==1 and 1==5)\n",
    "\n",
    "# or 연산\n",
    "  #양쪽의 값 중 한 쪽만 참이어도 True를 반환한다.\n",
    "\n",
    "#and와 or 연산자의 우선순위\n",
    "  #and의 우선순위가 높아 and가 먼저 실행된다.\n",
    "print(True or False and \"참\")\n",
    "\n",
    "\n",
    "# not 연산\n",
    "  #거짓을 참으로, 참을 거짓으로 뒤집어주는 연산\n",
    "print(not(True or False))    \n",
    "print(not 10>3)"
   ]
  },
  {
   "cell_type": "code",
   "execution_count": null,
   "id": "ca1eb4a2",
   "metadata": {},
   "outputs": [],
   "source": [
    "#연산자들의 우선순위\n",
    "# ** = 제곱. 우선순위가 가장 높다.\n",
    "#곱하기와 나누기가 더하기와 빼기보다 우선순위가 높다\n",
    "#양수 음수 > 곱하기 나누기 나머지 몫 > 덧셈뺄셈 > 비교 > 평등 > 대입"
   ]
  },
  {
   "cell_type": "code",
   "execution_count": 42,
   "id": "de382de1",
   "metadata": {},
   "outputs": [
    {
     "name": "stdout",
     "output_type": "stream",
     "text": [
      "36\n",
      "20 30\n"
     ]
    }
   ],
   "source": [
    "print((3 * 2) ** 2)\n",
    "\n",
    "a = 10\n",
    "b = 20\n",
    "\n",
    "a, b = b, a + b\n",
    "print(a, b)"
   ]
  },
  {
   "cell_type": "code",
   "execution_count": null,
   "id": "7909d017",
   "metadata": {},
   "outputs": [],
   "source": [
    "#문자열 인덱싱\n",
    "  #문자열에서 특정 글자를 하나씩 뽑아내는 것을 인덱싱이라고 한다.\n",
    "  #인덱싱과 문자열 슬라이스는 파이썬에서 굉장히 많이 사용한다."
   ]
  },
  {
   "cell_type": "code",
   "execution_count": 45,
   "id": "925695f3",
   "metadata": {},
   "outputs": [
    {
     "name": "stdout",
     "output_type": "stream",
     "text": [
      "i\n",
      "n\n",
      "d\n",
      "e\n",
      "x\n",
      "i\n",
      "n\n",
      "d\n",
      "e\n",
      "x\n"
     ]
    }
   ],
   "source": [
    "#index\n",
    "#01234, 양수는 0번부터 시작\n",
    "#-5-4-3-2-1, 음수는 -1부터 시작\n",
    "\n",
    "print(\"index\"[0])\n",
    "print(\"index\"[1])\n",
    "print(\"index\"[2])\n",
    "print(\"index\"[3])\n",
    "print(\"index\"[4])\n",
    "\n",
    "print(\"index\"[-5])\n",
    "print(\"index\"[-4])\n",
    "print(\"index\"[-3])\n",
    "print(\"index\"[-2])\n",
    "print(\"index\"[-1])"
   ]
  },
  {
   "cell_type": "code",
   "execution_count": 49,
   "id": "02bb9144",
   "metadata": {},
   "outputs": [
    {
     "name": "stdout",
     "output_type": "stream",
     "text": [
      "S\n",
      "t\n",
      "r\n",
      "i\n",
      "n\n",
      "g\n",
      " \n",
      "i\n",
      "n\n",
      "d\n",
      "e\n",
      "x\n"
     ]
    }
   ],
   "source": [
    "#String Index\n",
    "  #공백도 인덱스에 포함함\n",
    "\n",
    "strIndex = \"String index\"\n",
    "print(strIndex[0])\n",
    "print(strIndex[1])\n",
    "print(strIndex[2])\n",
    "print(strIndex[3])\n",
    "print(strIndex[4])\n",
    "print(strIndex[5])\n",
    "print(strIndex[6])\n",
    "print(strIndex[7])\n",
    "print(strIndex[8])\n",
    "print(strIndex[9])\n",
    "print(strIndex[10])\n",
    "print(strIndex[11])"
   ]
  },
  {
   "cell_type": "code",
   "execution_count": 66,
   "id": "56ecec31",
   "metadata": {},
   "outputs": [
    {
     "name": "stdout",
     "output_type": "stream",
     "text": [
      "01234567\n",
      "0123456789\n",
      "0123456789\n",
      "0123456789\n",
      "2345678\n",
      "Python is easy\n",
      "Python is easy\n",
      "\n",
      "Python is easy\n",
      "02468\n",
      "9630\n",
      "9630\n",
      "9630\n",
      "PythonnohtyP\n",
      "ythoPn\n"
     ]
    }
   ],
   "source": [
    "#문자열 슬라이싱\n",
    "  #문자열에서 범위를 지정하여 잘라낼 수 있다.\n",
    "  #한글자씩만 뽑아낼 수 있는 인덱싱의 단점을 보완할 수 있다.\n",
    "\n",
    "print(\"0123456789\"[0:8]) #0부터 8번 전 까지 슬라이싱 한다. [n:m] 에서 m의 위치의 요소는 포함하지 않는다.\n",
    "print(\"0123456789\"[0:]) #0부터 마지막까지 슬라이싱\n",
    "print(\"0123456789\"[:10]) #아무것도 적지 않으면 기본적으로 0부터 슬라이싱\n",
    "print(\"0123456789\"[:]) #둘 다 적어주지 않으면 제일 앞부터 제일 뒤까지 출력한다.\n",
    "print(\"0123456789\"[-8:-1])\n",
    "\n",
    "strSlice = \"Python is easy\"\n",
    "           #012345678910111213\n",
    "    \n",
    "print(strSlice[:])\n",
    "print(strSlice[-14:])\n",
    "print(strSlice[-1:-14]) #잘못된 사용방식\n",
    "print(strSlice[:20]) #숫자와 달리 문자열은 인덱싱 번호를 넘어선 수를 입력해도 출력이 된다.\n",
    "\n",
    "slice2 = \"0123456789\"\n",
    "\n",
    "print(slice2[0:10:2]) #문자열 0부터 10까지 중에서 2씩 끊어서 값을 가져온다.\n",
    "print(slice2[::-3]) #제일 뒤에서부터 3개씩 끊어서 출력해주세요 라는 뜻이 된다.\n",
    "print(slice2[9::-3])\n",
    "print(slice2[-1::-3]) \n",
    "\n",
    "slice3 = \"Python\"\n",
    "\n",
    "print(slice3[0:] + slice3[::-1]) \n",
    "print(slice3[1:5] + slice3[0] + slice3[5])"
   ]
  },
  {
   "cell_type": "code",
   "execution_count": 78,
   "id": "b6e7f0e2",
   "metadata": {},
   "outputs": [
    {
     "name": "stdout",
     "output_type": "stream",
     "text": [
      "오늘 날씨는 맑음 기온은 20 도 입니다.\n",
      "오늘의 날씨는 맑음 기온은 20도 입니다.\n",
      "오늘의 날씨는 맑음 기온은 20도 비가 내릴 확률은 33.5% 입니다.\n",
      "오늘의 날씨는 맑음이며, 기온은 20도 입니다.\n",
      "오늘의 날씨는 맑음이며, 기온은 20도, 비가 내릴 확률은 33.5입니다.\n",
      "맑음        ,         20\n",
      "맑음, 20, 20.000000, 24, 14\n"
     ]
    }
   ],
   "source": [
    "#포매팅\n",
    "\n",
    "weather = \"맑음\"\n",
    "temperature = 20\n",
    "chance_shower = 33.5\n",
    "\n",
    "print(\"오늘 날씨는\", weather, \"기온은\", temperature, \"도 입니다.\")\n",
    "print(\"오늘의 날씨는 %s 기온은 %d도 입니다.\"%(weather, temperature))\n",
    "print(\"오늘의 날씨는 %s 기온은 %d도 비가 내릴 확률은 %.1f%% 입니다.\"%(weather, temperature, chance_shower))\n",
    "  #C 언어에서 사용하는 방식. 파이썬에서는 위와 같은 방식을 권장하지 않는다.\n",
    "    #순서가 일관적이고 변동되지 않을 때만 사용 가능하다.\n",
    "    #보려는 데이터 타입을 명확히 알지 못하면 타입 에러가 발생하기 쉬움.\n",
    "\n",
    "print(\"오늘의 날씨는 {}이며, 기온은 {}도 입니다.\".format(weather, temperature))\n",
    "print(\"오늘의 날씨는 {0}이며, 기온은 {2}도, 비가 내릴 확률은 {1}입니다.\".format(weather, chance_shower, temperature))\n",
    "\n",
    "print(\"{:10}, {:10}\".format(weather, temperature)) #문자는 기본 왼쪽정렬, 숫자는 기본 오른쪽 정렬\n",
    "#각각 여덟칸의 공백이 들어간 것을 볼 수 있다.\n",
    "print(\"{0:s}, {1:d}, {1:f}, {1:o}, {1:x}\".format(weather, temperature))\n",
    "              #d는 정수형 10진수, f는 실수형, o는 8진수, x는 16진수로 데이터 타입을 지정"
   ]
  },
  {
   "cell_type": "code",
   "execution_count": 84,
   "id": "eba0c9ee",
   "metadata": {},
   "outputs": [
    {
     "name": "stdout",
     "output_type": "stream",
     "text": [
      "(      left), (  middle  ), (right     )\n",
      "(     right), (  middle  ), (left      )\n",
      "(!!!!!right), (@@middle@@), (left######)\n",
      "(!!!!!!righ), (@@@mid@@@@), (le########)\n"
     ]
    }
   ],
   "source": [
    "left = \"left\"\n",
    "right = \"right\"\n",
    "middle = \"middle\"\n",
    "\n",
    "# !@# <>^\n",
    "print(\"({:>10s}), ({:^10s}), ({:<10s})\".format(left, middle, right))\n",
    "print(\"({2:>10s}), ({1:^10s}), ({0:<10s})\".format(left, middle, right))\n",
    "print(\"({2:!>10s}), ({1:@^10s}), ({0:#<10s})\".format(left, middle, right))\n",
    "print(\"({2:!>10.4s}), ({1:@^10.3s}), ({0:#<10.2s})\".format(left, middle, right))"
   ]
  },
  {
   "cell_type": "code",
   "execution_count": 87,
   "id": "91cb30e4",
   "metadata": {},
   "outputs": [
    {
     "name": "stdout",
     "output_type": "stream",
     "text": [
      "오늘의 날씨는 맑음이며, 기온은 20도 입니다.\n",
      "2곱하기 30의 결과값 = 60\n"
     ]
    }
   ],
   "source": [
    "#f-string(파이썬 3.6이상부터 사용 가능함)\n",
    "\n",
    "weather = \"맑음\"\n",
    "temperature = 20\n",
    "\n",
    "print(f\"오늘의 날씨는 {weather}이며, 기온은 {temperature}도 입니다.\") #대문자 F, 소문자f 모두 사용 가능하지만 소문자 사용 권장\n",
    "print(f\"2곱하기 30의 결과값 = {2 * 30}\") #수식의 결과도 포맷팅 가능하다."
   ]
  },
  {
   "cell_type": "code",
   "execution_count": null,
   "id": "557bbe6d",
   "metadata": {},
   "outputs": [],
   "source": []
  },
  {
   "cell_type": "code",
   "execution_count": null,
   "id": "bb366e9f",
   "metadata": {},
   "outputs": [],
   "source": []
  },
  {
   "cell_type": "code",
   "execution_count": null,
   "id": "fe006c2f",
   "metadata": {},
   "outputs": [],
   "source": []
  },
  {
   "cell_type": "code",
   "execution_count": null,
   "id": "d33671bf",
   "metadata": {},
   "outputs": [],
   "source": []
  },
  {
   "cell_type": "code",
   "execution_count": null,
   "id": "1c166ad5",
   "metadata": {},
   "outputs": [],
   "source": []
  },
  {
   "cell_type": "code",
   "execution_count": null,
   "id": "5dc0c665",
   "metadata": {},
   "outputs": [],
   "source": []
  },
  {
   "cell_type": "code",
   "execution_count": null,
   "id": "d8193fae",
   "metadata": {},
   "outputs": [],
   "source": []
  },
  {
   "cell_type": "code",
   "execution_count": null,
   "id": "410b5dc5",
   "metadata": {},
   "outputs": [],
   "source": []
  }
 ],
 "metadata": {
  "kernelspec": {
   "display_name": "Python 3 (ipykernel)",
   "language": "python",
   "name": "python3"
  },
  "language_info": {
   "codemirror_mode": {
    "name": "ipython",
    "version": 3
   },
   "file_extension": ".py",
   "mimetype": "text/x-python",
   "name": "python",
   "nbconvert_exporter": "python",
   "pygments_lexer": "ipython3",
   "version": "3.9.12"
  }
 },
 "nbformat": 4,
 "nbformat_minor": 5
}
