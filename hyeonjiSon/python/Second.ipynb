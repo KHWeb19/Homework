{
 "cells": [
  {
   "cell_type": "code",
   "execution_count": 1,
   "id": "040e5b8b",
   "metadata": {},
   "outputs": [
    {
     "name": "stdout",
     "output_type": "stream",
     "text": [
      "<function times at 0x00000280556A1550>\n",
      "100\n"
     ]
    }
   ],
   "source": [
    "#함수(메서드) 만들기\n",
    "#파이썬은 저번에도 봤듯이 클래스 없이 메서드만 만들 수도 있음\n",
    "\n",
    "def times(a, b):\n",
    "    return a * b\n",
    "\n",
    "#times 에서 나타나는 이상한 숫자의 정체는 무엇일까?\n",
    "   #정답: 객체(메서드)의 메모리 주소값\n",
    "print(times)\n",
    "print(times(10, 10))"
   ]
  },
  {
   "cell_type": "code",
   "execution_count": 2,
   "id": "dd1615ed",
   "metadata": {},
   "outputs": [
    {
     "name": "stdout",
     "output_type": "stream",
     "text": [
      "100\n"
     ]
    }
   ],
   "source": [
    "pointerOfFunction = times\n",
    "res = pointerOfFunction(10, 10)\n",
    "print(res)"
   ]
  },
  {
   "cell_type": "code",
   "execution_count": 4,
   "id": "0eb7d6bb",
   "metadata": {},
   "outputs": [
    {
     "name": "stdout",
     "output_type": "stream",
     "text": [
      "preList x:  A\n",
      "preList x:  p\n",
      "preList x:  p\n",
      "preList x:  l\n",
      "preList x:  e\n",
      "['p', 'p', 'e']\n",
      "preList x:  A\n",
      "preList x:  p\n",
      "preList x:  p\n",
      "preList x:  l\n",
      "preList x:  e\n",
      "['A']\n"
     ]
    }
   ],
   "source": [
    "def intersect(preList, postList): #intersect = 교집합 연산자\n",
    "    retList = []\n",
    "    \n",
    "    for x in preList:\n",
    "        print(\"preList x: \", x)\n",
    "        if x in postList:\n",
    "            (\"postList x: \", x)\n",
    "            retList.append(x)\n",
    "            \n",
    "    return retList\n",
    "\n",
    "list1 = \"Apple\"\n",
    "list2 = \"grape\"\n",
    "\n",
    "print(intersect(list1, list2))\n",
    "print(intersect(list1, ['H', 'A','M']))"
   ]
  },
  {
   "cell_type": "code",
   "execution_count": 5,
   "id": "61088043",
   "metadata": {},
   "outputs": [
    {
     "name": "stdout",
     "output_type": "stream",
     "text": [
      "(7, 3)\n"
     ]
    }
   ],
   "source": [
    "def swap(x, y):\n",
    "    return y, x\n",
    "\n",
    "#튜플(소괄호)은 왜 사용할까? (java - final, c - const 와 같은 이유)\n",
    "   #값의 변경을 방지하기 위해 (immutable) - 불변성!\n",
    "   #이 녀석은 궁극적으로 setter를 쓰지 말라와 연결됨 (모든 사람이 접근이 가능하다는 점 = 아무나 수정이 가능하다는 이야기)\n",
    "   #해당 내용은 결국 협업하는 관점까지도 연결이 됨\n",
    "      #개발자의 숫자가 적으면 문제가 터져도 빠르게 발견 가능하지만 조직 규모가 30명만 되어도, 로직이 조금만 복잡해져도\n",
    "        #문제가 겉잡을 수 없게 된다.\n",
    "print(swap(3, 7)) #Python은 리턴값 두개가 나오는 것이 가능하다."
   ]
  },
  {
   "cell_type": "code",
   "execution_count": 7,
   "id": "7d63e478",
   "metadata": {},
   "outputs": [
    {
     "name": "stdout",
     "output_type": "stream",
     "text": [
      "77\n",
      "33\n"
     ]
    }
   ],
   "source": [
    "a, b = swap(33, 77)\n",
    "print(a)\n",
    "print(b)"
   ]
  },
  {
   "cell_type": "code",
   "execution_count": 9,
   "id": "cd900f14",
   "metadata": {},
   "outputs": [
    {
     "name": "stdout",
     "output_type": "stream",
     "text": [
      "(777, 333)\n",
      "<class 'tuple'>\n"
     ]
    }
   ],
   "source": [
    "x = swap(333, 777)\n",
    "print(x)\n",
    "print(type(x))"
   ]
  },
  {
   "cell_type": "code",
   "execution_count": 10,
   "id": "b8d44b9a",
   "metadata": {},
   "outputs": [
    {
     "name": "stdout",
     "output_type": "stream",
     "text": [
      "30\n"
     ]
    }
   ],
   "source": [
    "a = 10\n",
    "b = 20\n",
    "\n",
    "def sum_test(x, y):\n",
    "    return x + y\n",
    "\n",
    "print(sum_test(a,b))"
   ]
  },
  {
   "cell_type": "code",
   "execution_count": 12,
   "id": "cbe0f4d7",
   "metadata": {},
   "outputs": [
    {
     "name": "stdout",
     "output_type": "stream",
     "text": [
      "11\n",
      "10\n"
     ]
    }
   ],
   "source": [
    "x = 10\n",
    "\n",
    "def sum_test2(x, y):\n",
    "    x = 1 #해당 function(함수)에서만 살아있는 값\n",
    "    return x + y\n",
    "\n",
    "print(sum_test2(x, x))\n",
    "print(x)"
   ]
  },
  {
   "cell_type": "code",
   "execution_count": 13,
   "id": "3dd7ec88",
   "metadata": {},
   "outputs": [
    {
     "name": "stdout",
     "output_type": "stream",
     "text": [
      "['J', 'A', 'M']\n",
      "['H', 'A', 'M']\n"
     ]
    }
   ],
   "source": [
    "def change(x):\n",
    "    x[0] = 'H'\n",
    "    \n",
    "wordList = ['J', 'A', 'M']\n",
    "print(wordList)\n",
    "\n",
    "change(wordList)\n",
    "print(wordList)"
   ]
  },
  {
   "cell_type": "code",
   "execution_count": 14,
   "id": "d464a41d",
   "metadata": {},
   "outputs": [
    {
     "name": "stdout",
     "output_type": "stream",
     "text": [
      "['J', 'A', 'M']\n",
      "['J', 'A', 'M']\n"
     ]
    }
   ],
   "source": [
    "def change2(x):\n",
    "    #아래와 같은 방식의 복사는 서로 다른 메모리를 참조함\n",
    "    #↓다른 객체가 되었음 (값은 복사됨)\n",
    "    x = x[:]\n",
    "    #데이터는 바꾸지 않고 특정 가공을 하거나 처리를 해야하는 상황에 이런 방식을 사용할 수 있음.\n",
    "       #ex: 영상처리\n",
    "    x[0] = 'H'\n",
    "    \n",
    "wordList = ['J', 'A', 'M']\n",
    "print(wordList)\n",
    "\n",
    "change2(wordList)\n",
    "print(wordList)"
   ]
  },
  {
   "cell_type": "code",
   "execution_count": 15,
   "id": "a243a7d4",
   "metadata": {},
   "outputs": [
    {
     "name": "stdout",
     "output_type": "stream",
     "text": [
      "1\n",
      "10\n",
      "7\n"
     ]
    }
   ],
   "source": [
    "glob = 1\n",
    "print(glob)\n",
    "\n",
    "def globScope(x):\n",
    "    global glob #global = glob을 전역변수로 사용하겠다고 선언\n",
    "    glob = 7 #지역변수였을 glob이 전역변수가 되어서 1에서 7로 완전히 값이 변경됨\n",
    "    return glob + x\n",
    "\n",
    "print(globScope(3))\n",
    "print(glob)"
   ]
  },
  {
   "cell_type": "code",
   "execution_count": 16,
   "id": "3f774946",
   "metadata": {},
   "outputs": [
    {
     "name": "stdout",
     "output_type": "stream",
     "text": [
      "6\n"
     ]
    }
   ],
   "source": [
    "g = lambda x, y: x * y #lambda도 일종의 function. 객체 이름을 적지 않아도 된다는 장점이 있음\n",
    "print(g(2, 3))"
   ]
  },
  {
   "cell_type": "code",
   "execution_count": 17,
   "id": "72bbadd2",
   "metadata": {},
   "outputs": [
    {
     "name": "stdout",
     "output_type": "stream",
     "text": [
      "9\n"
     ]
    }
   ],
   "source": [
    "print((lambda x: x * x)(3)) #x값에 3을 집어넣음"
   ]
  },
  {
   "cell_type": "code",
   "execution_count": 21,
   "id": "6ec7772f",
   "metadata": {},
   "outputs": [
    {
     "name": "stdout",
     "output_type": "stream",
     "text": [
      "17\n",
      " C 드라이브의 볼륨에는 이름이 없습니다.\n",
      " 볼륨 일련 번호: 8C6A-4EF0\n",
      "\n",
      " C:\\khweb19\\Homework\\hyeonjiSon\\python 디렉터리\n",
      "\n",
      "2022-05-13  오후 04:37    <DIR>          .\n",
      "2022-05-13  오후 04:37    <DIR>          ..\n",
      "2022-05-13  오후 03:37    <DIR>          .idea\n",
      "2022-05-13  오후 03:41    <DIR>          .ipynb_checkpoints\n",
      "2022-05-12  오후 06:11            17,583 first.ipynb\n",
      "2022-05-13  오후 03:29            10,745 lms2and3.ipynb\n",
      "2022-05-13  오후 04:37            10,042 Second.ipynb\n",
      "2022-05-13  오후 04:38                17 test.txt\n",
      "               4개 파일              38,387 바이트\n",
      "               4개 디렉터리  637,297,430,528 바이트 남음\n"
     ]
    }
   ],
   "source": [
    "#파일 I/O 처리\n",
    "f = open('test.txt', 'w')\n",
    "print(f.write('hyeonjiSon\\Python'))\n",
    "f.close()\n",
    "\n",
    "#윈도우의 경우\n",
    "!dir\n",
    "\n",
    "#리눅스 or MaC\n",
    "#!ls"
   ]
  },
  {
   "cell_type": "code",
   "execution_count": 20,
   "id": "90bfa808",
   "metadata": {},
   "outputs": [
    {
     "name": "stdout",
     "output_type": "stream",
     "text": [
      "hyeonjiSon\n",
      "Python\n"
     ]
    }
   ],
   "source": [
    "#잘 만들었는지 확인\n",
    "#윈도우\n",
    "!type test.txt\n",
    "#리눅스 or MaC\n",
    "#!cat test.txt"
   ]
  },
  {
   "cell_type": "code",
   "execution_count": 22,
   "id": "a8c876c4",
   "metadata": {},
   "outputs": [
    {
     "name": "stdout",
     "output_type": "stream",
     "text": [
      "hyeonjiSon\\Python\n",
      "True\n"
     ]
    }
   ],
   "source": [
    "f = open('test.txt')\n",
    "print(f.read())\n",
    "f.close()\n",
    "print(f.closed)"
   ]
  },
  {
   "cell_type": "code",
   "execution_count": 23,
   "id": "dfca50cc",
   "metadata": {},
   "outputs": [
    {
     "name": "stdout",
     "output_type": "stream",
     "text": [
      "['hyeonjiSon\\\\Python']\n",
      "False\n",
      "True\n"
     ]
    }
   ],
   "source": [
    "with open('test.txt') as f: #with을 사용하면 closed 를 잊는 경우를 방지할 수 있다.\n",
    "    print(f.readlines())\n",
    "    print(f.closed)\n",
    "    \n",
    "print(f.closed)"
   ]
  },
  {
   "cell_type": "code",
   "execution_count": 24,
   "id": "3ff3b7f2",
   "metadata": {},
   "outputs": [
    {
     "name": "stdout",
     "output_type": "stream",
     "text": [
      "['red', 'green', 'blue']\n"
     ]
    }
   ],
   "source": [
    "colors = ['red', 'green', 'blue']\n",
    "print(colors)\n",
    "\n",
    "def check_colors():\n",
    "    if 'colors' in globals(): #globals < 현재 만들어진 변수들을 모아놓은 곳\n",
    "        print(\"True\")\n",
    "    else:\n",
    "        print(\"False\")"
   ]
  },
  {
   "cell_type": "code",
   "execution_count": 25,
   "id": "f36c9d89",
   "metadata": {},
   "outputs": [
    {
     "name": "stdout",
     "output_type": "stream",
     "text": [
      "True\n"
     ]
    }
   ],
   "source": [
    "import pickle #pickle은 객체/메모리 자체를 저장하는 녀석\n",
    "\n",
    "f = open('colors', 'wb') #wb = write byte\n",
    "pickle.dump(colors, f) \n",
    "f.close()\n",
    "\n",
    "check_colors()"
   ]
  },
  {
   "cell_type": "code",
   "execution_count": 26,
   "id": "00272107",
   "metadata": {},
   "outputs": [
    {
     "name": "stdout",
     "output_type": "stream",
     "text": [
      "False\n"
     ]
    }
   ],
   "source": [
    "#colors 정보를 증발시킴\n",
    "del colors\n",
    "\n",
    "check_colors()"
   ]
  },
  {
   "cell_type": "code",
   "execution_count": 27,
   "id": "07d7cd5a",
   "metadata": {},
   "outputs": [
    {
     "name": "stdout",
     "output_type": "stream",
     "text": [
      "['red', 'green', 'blue']\n",
      "True\n"
     ]
    }
   ],
   "source": [
    "f = open('colors', 'rb') #rb = read byte\n",
    "colors = pickle.load(f)\n",
    "f.close()\n",
    "\n",
    "print(colors)\n",
    "check_colors()"
   ]
  },
  {
   "cell_type": "code",
   "execution_count": 29,
   "id": "47813211",
   "metadata": {},
   "outputs": [
    {
     "data": {
      "text/plain": [
       "{'__name__': '__main__',\n",
       " '__doc__': 'Automatically created module for IPython interactive environment',\n",
       " '__package__': None,\n",
       " '__loader__': None,\n",
       " '__spec__': None,\n",
       " '__builtin__': <module 'builtins' (built-in)>,\n",
       " '__builtins__': <module 'builtins' (built-in)>,\n",
       " '_ih': ['',\n",
       "  '#함수(매서드) 만들기\\n#파이썬은 저번에도 봤듯이 클래스 없이 매서드만 만들 수도 있음\\n\\ndef times(a, b):\\n    return a * b\\n\\nprint(times)\\nprint(times(10, 10))',\n",
       "  'pointerOfFunction = times\\nres = pointerOfFunction(10, 10)\\nprint(res)',\n",
       "  'def intersect(preList, postList):\\n    retList = []\\n    \\n    for x in preList:\\n        if x in postList:\\n            retList.append(x)\\n            \\n    return retlist\\n\\nlist1 = \"Apple\"\\nlist2 = \"grape\"\\n\\nprint(intersect(list1, list2))\\nprint(intersect(list1, [\\'H\\', \\'A\\',\\'M\\']))',\n",
       "  'def intersect(preList, postList):\\n    retList = []\\n    \\n    for x in preList:\\n        print(\"preList x: \", x)\\n        if x in postList:\\n            (\"postList x: \", x)\\n            retList.append(x)\\n            \\n    return retList\\n\\nlist1 = \"Apple\"\\nlist2 = \"grape\"\\n\\nprint(intersect(list1, list2))\\nprint(intersect(list1, [\\'H\\', \\'A\\',\\'M\\']))',\n",
       "  'def swap(x, y):\\n    return y, x\\n\\nprint(swap(3, 7))',\n",
       "  'a, b = swap(33, 77)\\nprin(a)\\nprint(b)',\n",
       "  'a, b = swap(33, 77)\\nprint(a)\\nprint(b)',\n",
       "  'x = swap(333, 777)\\nprint(x)\\npring(type(x))',\n",
       "  'x = swap(333, 777)\\nprint(x)\\nprint(type(x))',\n",
       "  'a = 10\\nb = 20\\n\\ndef sum_test(x, y):\\n    return x + y\\n\\nprint(sum_test(a,b))',\n",
       "  'x = 10\\n\\ndef sum_test2(x, y):\\n    x = 1\\n    return x + y\\n\\nprint (sum_test2(x, x))\\nprint(x)',\n",
       "  'x = 10\\n\\ndef sum_test2(x, y):\\n    x = 1\\n    return x + y\\n\\nprint(sum_test2(x, x))\\nprint(x)',\n",
       "  \"def change(x):\\n    x[0] = 'H'\\n    \\nwordList = ['J', 'A', 'M']\\nprint(wordList)\\n\\nchange(wordList)\\nprint(wordList)\",\n",
       "  \"def change2(x):\\n    #아래와 같은 방식의 복사는 서로 다른 메모리를 참조함\\n    #↓다른 객체가 되었음 (값은 복사됨)\\n    x = x[:]\\n    #데이터는 바꾸지 않고 특정 가공을 하거나 처리를 해야하는 상황에 이런 방식을 사용할 수 있음.\\n       #ex: 영상처리\\n    x[0] = 'H'\\n    \\nwordList = ['J', 'A', 'M']\\nprint(wordList)\\n\\nchange2(wordList)\\nprint(wordList)\",\n",
       "  'glob = 1\\nprint(glob)\\n\\ndef globScope(x):\\n    global glob\\n    glob = 7\\n    return glob + x\\n\\nprint(globScope(3))\\nprint(glob)',\n",
       "  'g = lambda x, y: x * y\\nprint(g(2, 3))',\n",
       "  'print((lambda x: x * x)(3))',\n",
       "  \"#파일 I/O 처리\\nf = open('test.txt', 'w')\\nprint(f.write('EDDI\\\\nPython'))\\nf.close()\\n\\n#윈도우의 경우\\nget_ipython().system('dir')\\n\\n#리눅스 or MaC\\n#!ls\",\n",
       "  \"#파일 I/O 처리\\nf = open('test.txt', 'w')\\nprint(f.write('hyeonjiSon\\\\nPython'))\\nf.close()\\n\\n#윈도우의 경우\\nget_ipython().system('dir')\\n\\n#리눅스 or MaC\\n#!ls\",\n",
       "  \"#잘 만들었는지 확인\\n#윈도우\\nget_ipython().system('type test.txt')\\n#리눅스 or MaC\\n#!cat test.txt\",\n",
       "  \"#파일 I/O 처리\\nf = open('test.txt', 'w')\\nprint(f.write('hyeonjiSon\\\\Python'))\\nf.close()\\n\\n#윈도우의 경우\\nget_ipython().system('dir')\\n\\n#리눅스 or MaC\\n#!ls\",\n",
       "  \"f = open('test.txt')\\nprint(f.read())\\nf.close()\\nprint(f.closed)\",\n",
       "  \"with open('test.txt') as f:\\n    print(f.readlines())\\n    print(f.closed)\\n    \\nprint(f.closed)\",\n",
       "  'colors = [\\'red\\', \\'green\\', \\'blue\\']\\nprint(colors)\\n\\ndef check_colors():\\n    if \\'colors\\' in globals():\\n        print(\"True\")\\n    else:\\n        print(\"False\")',\n",
       "  \"import pickle\\n\\nf = open('colors', 'wb')\\npickle.dump(colors, f)\\nf.close()\\n\\ncheck_colors()\",\n",
       "  'del colors\\n\\ncheck_colors()',\n",
       "  \"f = open('colors', 'rb')\\ncolors = pickle.load(f)\\nf.close()\\n\\nprint(colors)\\ncheck_colors()\",\n",
       "  'globals',\n",
       "  'globals()'],\n",
       " '_oh': {28: <function globals()>},\n",
       " '_dh': [WindowsPath('C:/khweb19/Homework/hyeonjiSon/python')],\n",
       " 'In': ['',\n",
       "  '#함수(매서드) 만들기\\n#파이썬은 저번에도 봤듯이 클래스 없이 매서드만 만들 수도 있음\\n\\ndef times(a, b):\\n    return a * b\\n\\nprint(times)\\nprint(times(10, 10))',\n",
       "  'pointerOfFunction = times\\nres = pointerOfFunction(10, 10)\\nprint(res)',\n",
       "  'def intersect(preList, postList):\\n    retList = []\\n    \\n    for x in preList:\\n        if x in postList:\\n            retList.append(x)\\n            \\n    return retlist\\n\\nlist1 = \"Apple\"\\nlist2 = \"grape\"\\n\\nprint(intersect(list1, list2))\\nprint(intersect(list1, [\\'H\\', \\'A\\',\\'M\\']))',\n",
       "  'def intersect(preList, postList):\\n    retList = []\\n    \\n    for x in preList:\\n        print(\"preList x: \", x)\\n        if x in postList:\\n            (\"postList x: \", x)\\n            retList.append(x)\\n            \\n    return retList\\n\\nlist1 = \"Apple\"\\nlist2 = \"grape\"\\n\\nprint(intersect(list1, list2))\\nprint(intersect(list1, [\\'H\\', \\'A\\',\\'M\\']))',\n",
       "  'def swap(x, y):\\n    return y, x\\n\\nprint(swap(3, 7))',\n",
       "  'a, b = swap(33, 77)\\nprin(a)\\nprint(b)',\n",
       "  'a, b = swap(33, 77)\\nprint(a)\\nprint(b)',\n",
       "  'x = swap(333, 777)\\nprint(x)\\npring(type(x))',\n",
       "  'x = swap(333, 777)\\nprint(x)\\nprint(type(x))',\n",
       "  'a = 10\\nb = 20\\n\\ndef sum_test(x, y):\\n    return x + y\\n\\nprint(sum_test(a,b))',\n",
       "  'x = 10\\n\\ndef sum_test2(x, y):\\n    x = 1\\n    return x + y\\n\\nprint (sum_test2(x, x))\\nprint(x)',\n",
       "  'x = 10\\n\\ndef sum_test2(x, y):\\n    x = 1\\n    return x + y\\n\\nprint(sum_test2(x, x))\\nprint(x)',\n",
       "  \"def change(x):\\n    x[0] = 'H'\\n    \\nwordList = ['J', 'A', 'M']\\nprint(wordList)\\n\\nchange(wordList)\\nprint(wordList)\",\n",
       "  \"def change2(x):\\n    #아래와 같은 방식의 복사는 서로 다른 메모리를 참조함\\n    #↓다른 객체가 되었음 (값은 복사됨)\\n    x = x[:]\\n    #데이터는 바꾸지 않고 특정 가공을 하거나 처리를 해야하는 상황에 이런 방식을 사용할 수 있음.\\n       #ex: 영상처리\\n    x[0] = 'H'\\n    \\nwordList = ['J', 'A', 'M']\\nprint(wordList)\\n\\nchange2(wordList)\\nprint(wordList)\",\n",
       "  'glob = 1\\nprint(glob)\\n\\ndef globScope(x):\\n    global glob\\n    glob = 7\\n    return glob + x\\n\\nprint(globScope(3))\\nprint(glob)',\n",
       "  'g = lambda x, y: x * y\\nprint(g(2, 3))',\n",
       "  'print((lambda x: x * x)(3))',\n",
       "  \"#파일 I/O 처리\\nf = open('test.txt', 'w')\\nprint(f.write('EDDI\\\\nPython'))\\nf.close()\\n\\n#윈도우의 경우\\nget_ipython().system('dir')\\n\\n#리눅스 or MaC\\n#!ls\",\n",
       "  \"#파일 I/O 처리\\nf = open('test.txt', 'w')\\nprint(f.write('hyeonjiSon\\\\nPython'))\\nf.close()\\n\\n#윈도우의 경우\\nget_ipython().system('dir')\\n\\n#리눅스 or MaC\\n#!ls\",\n",
       "  \"#잘 만들었는지 확인\\n#윈도우\\nget_ipython().system('type test.txt')\\n#리눅스 or MaC\\n#!cat test.txt\",\n",
       "  \"#파일 I/O 처리\\nf = open('test.txt', 'w')\\nprint(f.write('hyeonjiSon\\\\Python'))\\nf.close()\\n\\n#윈도우의 경우\\nget_ipython().system('dir')\\n\\n#리눅스 or MaC\\n#!ls\",\n",
       "  \"f = open('test.txt')\\nprint(f.read())\\nf.close()\\nprint(f.closed)\",\n",
       "  \"with open('test.txt') as f:\\n    print(f.readlines())\\n    print(f.closed)\\n    \\nprint(f.closed)\",\n",
       "  'colors = [\\'red\\', \\'green\\', \\'blue\\']\\nprint(colors)\\n\\ndef check_colors():\\n    if \\'colors\\' in globals():\\n        print(\"True\")\\n    else:\\n        print(\"False\")',\n",
       "  \"import pickle\\n\\nf = open('colors', 'wb')\\npickle.dump(colors, f)\\nf.close()\\n\\ncheck_colors()\",\n",
       "  'del colors\\n\\ncheck_colors()',\n",
       "  \"f = open('colors', 'rb')\\ncolors = pickle.load(f)\\nf.close()\\n\\nprint(colors)\\ncheck_colors()\",\n",
       "  'globals',\n",
       "  'globals()'],\n",
       " 'Out': {28: <function globals()>},\n",
       " 'get_ipython': <bound method InteractiveShell.get_ipython of <ipykernel.zmqshell.ZMQInteractiveShell object at 0x0000028055660700>>,\n",
       " 'exit': <IPython.core.autocall.ZMQExitAutocall at 0x28055660d90>,\n",
       " 'quit': <IPython.core.autocall.ZMQExitAutocall at 0x28055660d90>,\n",
       " '_': <function globals()>,\n",
       " '__': '',\n",
       " '___': '',\n",
       " '_i': 'globals',\n",
       " '_ii': \"f = open('colors', 'rb')\\ncolors = pickle.load(f)\\nf.close()\\n\\nprint(colors)\\ncheck_colors()\",\n",
       " '_iii': 'del colors\\n\\ncheck_colors()',\n",
       " '_i1': '#함수(매서드) 만들기\\n#파이썬은 저번에도 봤듯이 클래스 없이 매서드만 만들 수도 있음\\n\\ndef times(a, b):\\n    return a * b\\n\\nprint(times)\\nprint(times(10, 10))',\n",
       " 'times': <function __main__.times(a, b)>,\n",
       " '_i2': 'pointerOfFunction = times\\nres = pointerOfFunction(10, 10)\\nprint(res)',\n",
       " 'pointerOfFunction': <function __main__.times(a, b)>,\n",
       " 'res': 100,\n",
       " '_i3': 'def intersect(preList, postList):\\n    retList = []\\n    \\n    for x in preList:\\n        if x in postList:\\n            retList.append(x)\\n            \\n    return retlist\\n\\nlist1 = \"Apple\"\\nlist2 = \"grape\"\\n\\nprint(intersect(list1, list2))\\nprint(intersect(list1, [\\'H\\', \\'A\\',\\'M\\']))',\n",
       " 'intersect': <function __main__.intersect(preList, postList)>,\n",
       " 'list1': 'Apple',\n",
       " 'list2': 'grape',\n",
       " '_i4': 'def intersect(preList, postList):\\n    retList = []\\n    \\n    for x in preList:\\n        print(\"preList x: \", x)\\n        if x in postList:\\n            (\"postList x: \", x)\\n            retList.append(x)\\n            \\n    return retList\\n\\nlist1 = \"Apple\"\\nlist2 = \"grape\"\\n\\nprint(intersect(list1, list2))\\nprint(intersect(list1, [\\'H\\', \\'A\\',\\'M\\']))',\n",
       " '_i5': 'def swap(x, y):\\n    return y, x\\n\\nprint(swap(3, 7))',\n",
       " 'swap': <function __main__.swap(x, y)>,\n",
       " '_i6': 'a, b = swap(33, 77)\\nprin(a)\\nprint(b)',\n",
       " 'a': 10,\n",
       " 'b': 20,\n",
       " '_i7': 'a, b = swap(33, 77)\\nprint(a)\\nprint(b)',\n",
       " '_i8': 'x = swap(333, 777)\\nprint(x)\\npring(type(x))',\n",
       " 'x': 10,\n",
       " '_i9': 'x = swap(333, 777)\\nprint(x)\\nprint(type(x))',\n",
       " '_i10': 'a = 10\\nb = 20\\n\\ndef sum_test(x, y):\\n    return x + y\\n\\nprint(sum_test(a,b))',\n",
       " 'sum_test': <function __main__.sum_test(x, y)>,\n",
       " '_i11': 'x = 10\\n\\ndef sum_test2(x, y):\\n    x = 1\\n    return x + y\\n\\nprint (sum_test2(x, x))\\nprint(x)',\n",
       " 'sum_test2': <function __main__.sum_test2(x, y)>,\n",
       " '_i12': 'x = 10\\n\\ndef sum_test2(x, y):\\n    x = 1\\n    return x + y\\n\\nprint(sum_test2(x, x))\\nprint(x)',\n",
       " '_i13': \"def change(x):\\n    x[0] = 'H'\\n    \\nwordList = ['J', 'A', 'M']\\nprint(wordList)\\n\\nchange(wordList)\\nprint(wordList)\",\n",
       " 'change': <function __main__.change(x)>,\n",
       " 'wordList': ['J', 'A', 'M'],\n",
       " '_i14': \"def change2(x):\\n    #아래와 같은 방식의 복사는 서로 다른 메모리를 참조함\\n    #↓다른 객체가 되었음 (값은 복사됨)\\n    x = x[:]\\n    #데이터는 바꾸지 않고 특정 가공을 하거나 처리를 해야하는 상황에 이런 방식을 사용할 수 있음.\\n       #ex: 영상처리\\n    x[0] = 'H'\\n    \\nwordList = ['J', 'A', 'M']\\nprint(wordList)\\n\\nchange2(wordList)\\nprint(wordList)\",\n",
       " 'change2': <function __main__.change2(x)>,\n",
       " '_i15': 'glob = 1\\nprint(glob)\\n\\ndef globScope(x):\\n    global glob\\n    glob = 7\\n    return glob + x\\n\\nprint(globScope(3))\\nprint(glob)',\n",
       " 'glob': 7,\n",
       " 'globScope': <function __main__.globScope(x)>,\n",
       " '_i16': 'g = lambda x, y: x * y\\nprint(g(2, 3))',\n",
       " 'g': <function __main__.<lambda>(x, y)>,\n",
       " '_i17': 'print((lambda x: x * x)(3))',\n",
       " '_i18': \"#파일 I/O 처리\\nf = open('test.txt', 'w')\\nprint(f.write('EDDI\\\\nPython'))\\nf.close()\\n\\n#윈도우의 경우\\n!dir\\n\\n#리눅스 or MaC\\n#!ls\",\n",
       " 'f': <_io.BufferedReader name='colors'>,\n",
       " '_exit_code': 0,\n",
       " '_i19': \"#파일 I/O 처리\\nf = open('test.txt', 'w')\\nprint(f.write('hyeonjiSon\\\\nPython'))\\nf.close()\\n\\n#윈도우의 경우\\n!dir\\n\\n#리눅스 or MaC\\n#!ls\",\n",
       " '_i20': '#잘 만들었는지 확인\\n#윈도우\\n!type test.txt\\n#리눅스 or MaC\\n#!cat test.txt',\n",
       " '_i21': \"#파일 I/O 처리\\nf = open('test.txt', 'w')\\nprint(f.write('hyeonjiSon\\\\Python'))\\nf.close()\\n\\n#윈도우의 경우\\n!dir\\n\\n#리눅스 or MaC\\n#!ls\",\n",
       " '_i22': \"f = open('test.txt')\\nprint(f.read())\\nf.close()\\nprint(f.closed)\",\n",
       " '_i23': \"with open('test.txt') as f:\\n    print(f.readlines())\\n    print(f.closed)\\n    \\nprint(f.closed)\",\n",
       " '_i24': 'colors = [\\'red\\', \\'green\\', \\'blue\\']\\nprint(colors)\\n\\ndef check_colors():\\n    if \\'colors\\' in globals():\\n        print(\"True\")\\n    else:\\n        print(\"False\")',\n",
       " 'check_colors': <function __main__.check_colors()>,\n",
       " '_i25': \"import pickle\\n\\nf = open('colors', 'wb')\\npickle.dump(colors, f)\\nf.close()\\n\\ncheck_colors()\",\n",
       " 'pickle': <module 'pickle' from 'C:\\\\anaconda3\\\\lib\\\\pickle.py'>,\n",
       " '_i26': 'del colors\\n\\ncheck_colors()',\n",
       " '_i27': \"f = open('colors', 'rb')\\ncolors = pickle.load(f)\\nf.close()\\n\\nprint(colors)\\ncheck_colors()\",\n",
       " 'colors': ['red', 'green', 'blue'],\n",
       " '_i28': 'globals',\n",
       " '_28': <function globals()>,\n",
       " '_i29': 'globals()'}"
      ]
     },
     "execution_count": 29,
     "metadata": {},
     "output_type": "execute_result"
    }
   ],
   "source": [
    "globals()"
   ]
  },
  {
   "cell_type": "code",
   "execution_count": null,
   "id": "7de9d147",
   "metadata": {},
   "outputs": [],
   "source": []
  },
  {
   "cell_type": "code",
   "execution_count": 31,
   "id": "bd0d3fdc",
   "metadata": {},
   "outputs": [
    {
     "name": "stdout",
     "output_type": "stream",
     "text": [
      "이름은 기본값\n",
      "이름은 일단은 이렇게 막 설정합니다.\n",
      "이름은 일단은 이렇게 막 설정합니다.\n"
     ]
    }
   ],
   "source": [
    "#Python 클래스\n",
    "class Person:\n",
    "    name = \"기본값\"\n",
    "    \n",
    "    #파이썬에서 메서드는 반드시 첫 번째 인자에 self를 적어줄 것!\n",
    "    def print(self):\n",
    "        print(\"이름은 {0}\".format(self.name))\n",
    "        \n",
    "p1 = Person()\n",
    "p1.print()\n",
    "\n",
    "p1.name = \"일단은 이렇게 막 설정합니다.\"\n",
    "p1.print()\n",
    "Person.print(p1) #파이썬은 클래스 이름으로도 print 접근이 가능하다."
   ]
  },
  {
   "cell_type": "code",
   "execution_count": 32,
   "id": "c8bb817b",
   "metadata": {},
   "outputs": [
    {
     "name": "stdout",
     "output_type": "stream",
     "text": [
      "p1 이름:  일단은 이렇게 막 설정합니다.\n",
      "p2 이름:  기본값\n"
     ]
    }
   ],
   "source": [
    "p2 = Person()\n",
    "\n",
    "print(\"p1 이름: \", p1.name)\n",
    "print(\"p2 이름: \", p2.name)"
   ]
  },
  {
   "cell_type": "code",
   "execution_count": 33,
   "id": "e2566c55",
   "metadata": {},
   "outputs": [
    {
     "name": "stdout",
     "output_type": "stream",
     "text": [
      "p1 title:  파이썬은 이런게 됩니다.\n",
      "p2 title:  파이썬은 이런게 됩니다.\n",
      "Person title:  파이썬은 이런게 됩니다.\n"
     ]
    }
   ],
   "source": [
    "#문법적으로는 가능하지만 절대 해서는 안되는 행위!\n",
    "   #why? 유지보수하는 것이 어려워진다!\n",
    "Person.title = \"파이썬은 이런게 됩니다.\"\n",
    "print(\"p1 title: \", p1.title)\n",
    "print(\"p2 title: \", p2.title)\n",
    "print(\"Person title: \", Person.title)"
   ]
  },
  {
   "cell_type": "code",
   "execution_count": 35,
   "id": "aa788a2b",
   "metadata": {},
   "outputs": [
    {
     "name": "stdout",
     "output_type": "stream",
     "text": [
      "클래스 멤버 아님\n",
      "테스트 메시지\n"
     ]
    }
   ],
   "source": [
    "str1 = \"클래스 멤버 아님\"\n",
    "\n",
    "class NonSelfTest:\n",
    "    str1 = \"\"\n",
    "    \n",
    "    def setFunc(self, msg):\n",
    "        self.str1 = msg\n",
    "    \n",
    "    #self를 사용해서 멤버 변수를 제어하라는 뜻\n",
    "    def print(self):\n",
    "        print(str1)\n",
    "        print(self.str1)\n",
    "        \n",
    "test = NonSelfTest()\n",
    "test.setFunc(\"테스트 메시지\")\n",
    "test.print()"
   ]
  },
  {
   "cell_type": "code",
   "execution_count": 37,
   "id": "485e5b19",
   "metadata": {},
   "outputs": [
    {
     "name": "stdout",
     "output_type": "stream",
     "text": [
      "클래스 생성! value = 333\n",
      "클래스 파괴!\n",
      "나는 여기서 나와요!\n"
     ]
    }
   ],
   "source": [
    "class Vehicles:\n",
    "    #생성자\n",
    "    def __init__(self, value):\n",
    "        self.value = value\n",
    "        print(\"클래스 생성! value =\", value)\n",
    "    \n",
    "    #소멸자\n",
    "    def __del__(self):\n",
    "        print(\"클래스 파괴!\")\n",
    "        \n",
    "def test():\n",
    "    v = Vehicles(333) #객체 생성되는 순간 생성자 동작\n",
    "    #그리고 이 객체가 더이상 사용되지 않을 때 = 테스트가 끝났을 때 소멸자가 동작한다.\n",
    "    \n",
    "test()\n",
    "print('나는 여기서 나와요!') #이것이 나오기 전에 위 객체의 라이프 사이클이 끝났다는 것을 알 수 있다."
   ]
  },
  {
   "cell_type": "code",
   "execution_count": null,
   "id": "c04a8e32",
   "metadata": {},
   "outputs": [],
   "source": [
    "#상속 개념 확인하기"
   ]
  },
  {
   "cell_type": "code",
   "execution_count": 39,
   "id": "b2ad83f6",
   "metadata": {},
   "outputs": [
    {
     "name": "stdout",
     "output_type": "stream",
     "text": [
      "{'name': 'Gogosing', 'phoneNum': '123-456-7899'}\n",
      "{'name': 'Test', 'phoneNum': '222-3333-4444', 'major': '컴퓨터공학', 'studentId': '8766'}\n"
     ]
    }
   ],
   "source": [
    "class Person:\n",
    "    def __init__(self, name, phoneNum): #생성자 파트\n",
    "        self.name = name\n",
    "        self.phoneNum = phoneNum\n",
    "        \n",
    "    def print(self): #출력\n",
    "        print(\"이름은 {0}, 연락처 {1}\".format(self.name, self.phoneNum))\n",
    "\n",
    "#Student(Person)\n",
    "#파이썬은 상속을 아래와 같이 상속받을 클래스(상속할클래스) 형태로 작성합니다.\n",
    "class Student(Person):\n",
    "    def __init__(self, name, phoneNum, major, studentId): #생성자파트\n",
    "        self.name = name #상속을 잘 활용하지 못하고 코드가 중복되고 있다.\n",
    "        self.phoneNum = phoneNum\n",
    "        self.major = major\n",
    "        self.studentId = studentId\n",
    "        \n",
    "p = Person(\"Gogosing\", \"123-456-7899\")\n",
    "s = Student(\"Test\", \"222-3333-4444\", \"컴퓨터공학\", \"8766\")\n",
    "\n",
    "#__dict__ 는 객체에 관련한 모든 정보를 출력함\n",
    "#java에서 사용한 toString() 과 비슷하다.\n",
    "print(p.__dict__)\n",
    "print(s.__dict__)"
   ]
  },
  {
   "cell_type": "code",
   "execution_count": 44,
   "id": "db94400d",
   "metadata": {},
   "outputs": [
    {
     "name": "stdout",
     "output_type": "stream",
     "text": [
      "부모 클래스 - number:  7\n",
      "자식 클래스 - number: 3, number2: 7\n",
      "p2 title:  이건 어떻게 막을까?\n",
      "Person title:  이건 어떻게 막을까?\n",
      "자식 클래스 - number: 3, number2: 33\n"
     ]
    }
   ],
   "source": [
    "class Parent:\n",
    "    def __init__(self, number):\n",
    "        self.number = number\n",
    "        \n",
    "    def printMsg(self):\n",
    "        print(\"부모 클래스 - number: \", self.number)\n",
    "        \n",
    "class Child(Parent):\n",
    "    def __init__(self, number, number2):\n",
    "        #상위의 생성자 호출\n",
    "        super(Child, self).__init__(number) #위와 비교해보았을때 중복되는 부분이 사라져 코드가 줄어들었음을 알 수 있다.\n",
    "        self.number2 = number2\n",
    "        \n",
    "    def printMsg(self):\n",
    "        print(\"자식 클래스 - number: {0}, number2: {1}\".format(self.number, self.number2))\n",
    "        \n",
    "p = Parent(7)\n",
    "p.printMsg()\n",
    "\n",
    "c = Child(3, 7)\n",
    "c.printMsg()\n",
    "\n",
    "#이건 사실 막는게 문제라기보단 해서는 안되는 것!\n",
    "Child.title = \"이건 어떻게 막을까?\"\n",
    "print(\"p2 title: \", c.title)\n",
    "print(\"Person title: \", Child.title)\n",
    "\n",
    "#여전히 못막는 거\n",
    "c.number2 = 33\n",
    "c.printMsg()\n",
    "   #이런 문제가 일어나는 이유는 private, public, protect 를 지정하지 않았기 때문"
   ]
  },
  {
   "cell_type": "code",
   "execution_count": 45,
   "id": "73b4e591",
   "metadata": {},
   "outputs": [
    {
     "name": "stdout",
     "output_type": "stream",
     "text": [
      "3\n",
      "요래요래\n"
     ]
    },
    {
     "ename": "AttributeError",
     "evalue": "'DummyTestClass' object has no attribute '__var3'",
     "output_type": "error",
     "traceback": [
      "\u001b[1;31m---------------------------------------------------------------------------\u001b[0m",
      "\u001b[1;31mAttributeError\u001b[0m                            Traceback (most recent call last)",
      "Input \u001b[1;32mIn [45]\u001b[0m, in \u001b[0;36m<cell line: 12>\u001b[1;34m()\u001b[0m\n\u001b[0;32m     10\u001b[0m \u001b[38;5;28mprint\u001b[39m(dtc\u001b[38;5;241m.\u001b[39m_var2)\n\u001b[0;32m     11\u001b[0m \u001b[38;5;66;03m#__ 가 2개 붙으면 private\u001b[39;00m\n\u001b[1;32m---> 12\u001b[0m \u001b[38;5;28mprint\u001b[39m(\u001b[43mdtc\u001b[49m\u001b[38;5;241;43m.\u001b[39;49m\u001b[43m__var3\u001b[49m)\n",
      "\u001b[1;31mAttributeError\u001b[0m: 'DummyTestClass' object has no attribute '__var3'"
     ]
    }
   ],
   "source": [
    "class DummyTestClass:\n",
    "    def __init__(self):\n",
    "        self.var1 = 3 #public\n",
    "        self._var2 = '요래요래' #protected <-파이썬에서 우리가 사용할 일은 많지 않을 것\n",
    "        self.__var3 = '방어' #private으로 설정됨\n",
    "        \n",
    "dtc = DummyTestClass()\n",
    "\n",
    "print(dtc.var1)\n",
    "print(dtc._var2)\n",
    "#__(언더바) 가 2개 붙으면 private\n",
    "print(dtc.__var3)"
   ]
  },
  {
   "cell_type": "code",
   "execution_count": 46,
   "id": "6978e5c7",
   "metadata": {},
   "outputs": [
    {
     "name": "stdout",
     "output_type": "stream",
     "text": [
      "방어\n"
     ]
    }
   ],
   "source": [
    "#이와 같이 _클래스명__private변수명으로 볼 수 있다.\n",
    "print(dtc._DummyTestClass__var3)"
   ]
  },
  {
   "cell_type": "code",
   "execution_count": null,
   "id": "fc1dbd65",
   "metadata": {},
   "outputs": [],
   "source": []
  }
 ],
 "metadata": {
  "kernelspec": {
   "display_name": "Python 3 (ipykernel)",
   "language": "python",
   "name": "python3"
  },
  "language_info": {
   "codemirror_mode": {
    "name": "ipython",
    "version": 3
   },
   "file_extension": ".py",
   "mimetype": "text/x-python",
   "name": "python",
   "nbconvert_exporter": "python",
   "pygments_lexer": "ipython3",
   "version": "3.9.12"
  }
 },
 "nbformat": 4,
 "nbformat_minor": 5
}
